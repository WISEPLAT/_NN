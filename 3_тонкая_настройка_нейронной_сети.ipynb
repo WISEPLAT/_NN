{
  "nbformat": 4,
  "nbformat_minor": 0,
  "metadata": {
    "colab": {
      "name": "3. тонкая настройка нейронной сети",
      "provenance": [],
      "collapsed_sections": [],
      "authorship_tag": "ABX9TyO/B655le3HBJ9yHAJ9Meq+",
      "include_colab_link": true
    },
    "kernelspec": {
      "name": "python3",
      "display_name": "Python 3"
    },
    "language_info": {
      "name": "python"
    }
  },
  "cells": [
    {
      "cell_type": "markdown",
      "metadata": {
        "id": "view-in-github",
        "colab_type": "text"
      },
      "source": [
        "<a href=\"https://colab.research.google.com/github/WISEPLAT/_NN/blob/main/3_%D1%82%D0%BE%D0%BD%D0%BA%D0%B0%D1%8F_%D0%BD%D0%B0%D1%81%D1%82%D1%80%D0%BE%D0%B9%D0%BA%D0%B0_%D0%BD%D0%B5%D0%B9%D1%80%D0%BE%D0%BD%D0%BD%D0%BE%D0%B9_%D1%81%D0%B5%D1%82%D0%B8.ipynb\" target=\"_parent\"><img src=\"https://colab.research.google.com/assets/colab-badge.svg\" alt=\"Open In Colab\"/></a>"
      ]
    },
    {
      "cell_type": "code",
      "execution_count": null,
      "metadata": {
        "id": "8EThz0-UpCUN"
      },
      "outputs": [],
      "source": [
        "from keras.datasets import mnist # subroutines for fetching the MNIST dataset\n",
        "from keras.models import Model # basic class for specifying and training a neural network\n",
        "from keras.layers import Input, Dense, Flatten, Convolution2D, MaxPooling2D, Dropout\n",
        "from keras.utils import np_utils # utilities for one-hot encoding of ground truth values"
      ]
    },
    {
      "cell_type": "code",
      "source": [
        "batch_size = 128 # in each iteration, we consider 128 training examples at once\n",
        "num_epochs = 12 # we iterate twelve times over the entire training set\n",
        "kernel_size = 3 # we will use 3x3 kernels throughout\n",
        "pool_size = 2 # we will use 2x2 pooling throughout\n",
        "conv_depth = 32 # use 32 kernels in both convolutional layers\n",
        "drop_prob_1 = 0.25 # dropout after pooling with probability 0.25\n",
        "drop_prob_2 = 0.5 # dropout in the FC layer with probability 0.5\n",
        "hidden_size = 128 # there will be 128 neurons in both hidden layers"
      ],
      "metadata": {
        "id": "EE7FK8vsukpy"
      },
      "execution_count": null,
      "outputs": []
    },
    {
      "cell_type": "code",
      "source": [
        "num_train = 60000 # there are 60000 training examples in MNIST\n",
        "num_test = 10000 # there are 10000 test examples in MNIST\n",
        "\n",
        "height, width, depth = 28, 28, 1 # MNIST images are 28x28 and greyscale\n",
        "num_classes = 10 # there are 10 classes (1 per digit)\n",
        "\n",
        "(X_train, y_train), (X_test, y_test) = mnist.load_data() # fetch MNIST data\n",
        "\n",
        "X_train = X_train.reshape(X_train.shape[0], depth, height, width)\n",
        "X_test = X_test.reshape(X_test.shape[0], depth, height, width)\n",
        "X_train = X_train.astype('float32')\n",
        "X_test = X_test.astype('float32')\n",
        "X_train /= 255 # Normalise data to [0, 1] range\n",
        "X_test /= 255 # Normalise data to [0, 1] range\n",
        "\n",
        "Y_train = np_utils.to_categorical(y_train, num_classes) # One-hot encode the labels\n",
        "Y_test = np_utils.to_categorical(y_test, num_classes) # One-hot encode the labels"
      ],
      "metadata": {
        "id": "G6NEzsVFuksh"
      },
      "execution_count": null,
      "outputs": []
    },
    {
      "cell_type": "code",
      "source": [
        "inp = Input(shape=(depth, height, width)) # N.B. Keras expects channel dimension first\n",
        "# Conv [32] -> Conv [32] -> Pool (with dropout on the pooling layer)\n",
        "conv_1 = Convolution2D(conv_depth, kernel_size, kernel_size, padding='same', activation='relu')(inp)\n",
        "conv_2 = Convolution2D(conv_depth, kernel_size, kernel_size, padding='same', activation='relu')(conv_1)\n",
        "pool_1 = MaxPooling2D(pool_size=(pool_size, pool_size), padding='same')(conv_2)\n",
        "drop_1 = Dropout(drop_prob_1)(pool_1)\n",
        "flat = Flatten()(drop_1)\n",
        "hidden = Dense(hidden_size, activation='relu')(flat) # Hidden ReLU layer\n",
        "drop = Dropout(drop_prob_2)(hidden)\n",
        "out = Dense(num_classes, activation='softmax')(drop) # Output softmax layer\n",
        "\n",
        "model = Model(inputs=inp, outputs=out) # To define a model, just specify its input and output layers\n",
        "\n",
        "model.compile(loss='categorical_crossentropy', # using the cross-entropy loss function\n",
        "              optimizer='adam', # using the Adam optimiser\n",
        "              metrics=['accuracy']) # reporting the accuracy"
      ],
      "metadata": {
        "id": "QZlJ5s7XuonA"
      },
      "execution_count": null,
      "outputs": []
    },
    {
      "cell_type": "code",
      "source": [
        "model.summary()"
      ],
      "metadata": {
        "colab": {
          "base_uri": "https://localhost:8080/"
        },
        "id": "9ILgkDvJuop0",
        "outputId": "ae121dd5-7996-4af5-e565-f91fc889e069"
      },
      "execution_count": null,
      "outputs": [
        {
          "output_type": "stream",
          "name": "stdout",
          "text": [
            "Model: \"model_1\"\n",
            "_________________________________________________________________\n",
            " Layer (type)                Output Shape              Param #   \n",
            "=================================================================\n",
            " input_3 (InputLayer)        [(None, 1, 28, 28)]       0         \n",
            "                                                                 \n",
            " conv2d_4 (Conv2D)           (None, 1, 10, 32)         8096      \n",
            "                                                                 \n",
            " conv2d_5 (Conv2D)           (None, 1, 4, 32)          9248      \n",
            "                                                                 \n",
            " max_pooling2d_2 (MaxPooling  (None, 1, 2, 32)         0         \n",
            " 2D)                                                             \n",
            "                                                                 \n",
            " dropout_4 (Dropout)         (None, 1, 2, 32)          0         \n",
            "                                                                 \n",
            " flatten_2 (Flatten)         (None, 64)                0         \n",
            "                                                                 \n",
            " dense_4 (Dense)             (None, 128)               8320      \n",
            "                                                                 \n",
            " dropout_5 (Dropout)         (None, 128)               0         \n",
            "                                                                 \n",
            " dense_5 (Dense)             (None, 10)                1290      \n",
            "                                                                 \n",
            "=================================================================\n",
            "Total params: 26,954\n",
            "Trainable params: 26,954\n",
            "Non-trainable params: 0\n",
            "_________________________________________________________________\n"
          ]
        }
      ]
    },
    {
      "cell_type": "code",
      "source": [
        "model.fit(X_train, Y_train, # Train the model using the training set...\n",
        "          batch_size=batch_size, epochs=num_epochs,\n",
        "          verbose=1, validation_split=0.1) # ...holding out 10% of the data for validation"
      ],
      "metadata": {
        "colab": {
          "base_uri": "https://localhost:8080/"
        },
        "id": "rUUeAg59urOz",
        "outputId": "88726fc8-6953-4a0c-9595-41d78aed728c"
      },
      "execution_count": null,
      "outputs": [
        {
          "output_type": "stream",
          "name": "stdout",
          "text": [
            "Epoch 1/12\n",
            "422/422 [==============================] - 3s 7ms/step - loss: 0.8755 - accuracy: 0.7160 - val_loss: 0.2259 - val_accuracy: 0.9398\n",
            "Epoch 2/12\n",
            "422/422 [==============================] - 3s 6ms/step - loss: 0.3834 - accuracy: 0.8855 - val_loss: 0.1546 - val_accuracy: 0.9582\n",
            "Epoch 3/12\n",
            "422/422 [==============================] - 3s 6ms/step - loss: 0.2955 - accuracy: 0.9133 - val_loss: 0.1250 - val_accuracy: 0.9662\n",
            "Epoch 4/12\n",
            "422/422 [==============================] - 3s 6ms/step - loss: 0.2563 - accuracy: 0.9244 - val_loss: 0.1129 - val_accuracy: 0.9703\n",
            "Epoch 5/12\n",
            "422/422 [==============================] - 2s 6ms/step - loss: 0.2280 - accuracy: 0.9321 - val_loss: 0.1001 - val_accuracy: 0.9725\n",
            "Epoch 6/12\n",
            "422/422 [==============================] - 3s 6ms/step - loss: 0.2106 - accuracy: 0.9373 - val_loss: 0.0930 - val_accuracy: 0.9733\n",
            "Epoch 7/12\n",
            "422/422 [==============================] - 3s 6ms/step - loss: 0.1953 - accuracy: 0.9425 - val_loss: 0.0879 - val_accuracy: 0.9742\n",
            "Epoch 8/12\n",
            "422/422 [==============================] - 3s 6ms/step - loss: 0.1841 - accuracy: 0.9451 - val_loss: 0.0871 - val_accuracy: 0.9753\n",
            "Epoch 9/12\n",
            "422/422 [==============================] - 3s 6ms/step - loss: 0.1748 - accuracy: 0.9484 - val_loss: 0.0811 - val_accuracy: 0.9757\n",
            "Epoch 10/12\n",
            "422/422 [==============================] - 2s 6ms/step - loss: 0.1683 - accuracy: 0.9501 - val_loss: 0.0811 - val_accuracy: 0.9772\n",
            "Epoch 11/12\n",
            "422/422 [==============================] - 2s 6ms/step - loss: 0.1634 - accuracy: 0.9511 - val_loss: 0.0764 - val_accuracy: 0.9777\n",
            "Epoch 12/12\n",
            "422/422 [==============================] - 2s 6ms/step - loss: 0.1544 - accuracy: 0.9535 - val_loss: 0.0758 - val_accuracy: 0.9788\n"
          ]
        },
        {
          "output_type": "execute_result",
          "data": {
            "text/plain": [
              "<keras.callbacks.History at 0x7ff4e30f2250>"
            ]
          },
          "metadata": {},
          "execution_count": 16
        }
      ]
    },
    {
      "cell_type": "code",
      "source": [
        "model.evaluate(X_test, Y_test, verbose=1) # Evaluate the trained model on the test set!"
      ],
      "metadata": {
        "colab": {
          "base_uri": "https://localhost:8080/"
        },
        "id": "eg6wd1FfurRX",
        "outputId": "ea8dbf77-1424-41ec-8706-b0b308aa82c7"
      },
      "execution_count": null,
      "outputs": [
        {
          "output_type": "stream",
          "name": "stdout",
          "text": [
            "313/313 [==============================] - 0s 1ms/step - loss: 0.0822 - accuracy: 0.9732\n"
          ]
        },
        {
          "output_type": "execute_result",
          "data": {
            "text/plain": [
              "[0.08220253884792328, 0.9732000231742859]"
            ]
          },
          "metadata": {},
          "execution_count": 17
        }
      ]
    },
    {
      "cell_type": "code",
      "source": [
        ""
      ],
      "metadata": {
        "id": "dY6tRb83u0ce"
      },
      "execution_count": null,
      "outputs": []
    }
  ]
}