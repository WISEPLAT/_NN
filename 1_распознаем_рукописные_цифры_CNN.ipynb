{
  "nbformat": 4,
  "nbformat_minor": 0,
  "metadata": {
    "colab": {
      "name": "1. распознаем рукописные цифры CNN",
      "provenance": [],
      "collapsed_sections": [],
      "authorship_tag": "ABX9TyMb0Gzq0GFv5p50x1Ji/WHY",
      "include_colab_link": true
    },
    "kernelspec": {
      "name": "python3",
      "display_name": "Python 3"
    },
    "language_info": {
      "name": "python"
    }
  },
  "cells": [
    {
      "cell_type": "markdown",
      "metadata": {
        "id": "view-in-github",
        "colab_type": "text"
      },
      "source": [
        "<a href=\"https://colab.research.google.com/github/WISEPLAT/_NN/blob/main/1_%D1%80%D0%B0%D1%81%D0%BF%D0%BE%D0%B7%D0%BD%D0%B0%D0%B5%D0%BC_%D1%80%D1%83%D0%BA%D0%BE%D0%BF%D0%B8%D1%81%D0%BD%D1%8B%D0%B5_%D1%86%D0%B8%D1%84%D1%80%D1%8B_CNN.ipynb\" target=\"_parent\"><img src=\"https://colab.research.google.com/assets/colab-badge.svg\" alt=\"Open In Colab\"/></a>"
      ]
    },
    {
      "cell_type": "code",
      "execution_count": null,
      "metadata": {
        "id": "dO-3N0_1kB4L"
      },
      "outputs": [],
      "source": [
        "from keras.datasets import mnist # subroutines for fetching the MNIST dataset\n",
        "from keras.models import Model # basic class for specifying and training a neural network\n",
        "from keras.layers import Input, Convolution2D, MaxPooling2D, Dense, Dropout, Flatten\n",
        "from keras.utils import np_utils # utilities for one-hot encoding of ground truth values\n",
        "import numpy as np"
      ]
    },
    {
      "cell_type": "code",
      "source": [
        "batch_size = 128 # in each iteration, we consider 128 training examples at once\n",
        "num_epochs = 20 # we iterate twenty times over the entire training set\n",
        "hidden_size = 512 # there will be 512 neurons in both hidden layers"
      ],
      "metadata": {
        "id": "CJcF_7MfkIdG"
      },
      "execution_count": null,
      "outputs": []
    },
    {
      "cell_type": "code",
      "source": [
        "num_train = 60000 # there are 60000 training examples in MNIST\n",
        "num_test = 10000 # there are 10000 test examples in MNIST\n",
        "\n",
        "height, width, depth = 28, 28, 1 # MNIST images are 28x28 and greyscale\n",
        "num_classes = 10 # there are 10 classes (1 per digit)\n",
        "\n",
        "(X_train, y_train), (X_test, y_test) = mnist.load_data() # fetch MNIST data\n",
        "\n",
        "# Reshape - DON'T NEED\n",
        "#X_train = X_train.reshape(num_train, height * width) # Flatten data to 1D\n",
        "#X_test = X_test.reshape(num_test, height * width) # Flatten data to 1D\n",
        "X_train = X_train.astype('float32') \n",
        "X_test = X_test.astype('float32')\n",
        "\n",
        "X_train /= 255 # Normalise data to [0, 1] range\n",
        "X_test /= 255 # Normalise data to [0, 1] range\n",
        "\n",
        "#X_train /= np.max(X_train) # Normalise data to [0, 1] range\n",
        "#X_test /= np.max(X_train) # Normalise data to [0, 1] range\n",
        "\n",
        "Y_train = np_utils.to_categorical(y_train, num_classes) # One-hot encode the labels\n",
        "Y_test = np_utils.to_categorical(y_test, num_classes) # One-hot encode the labels"
      ],
      "metadata": {
        "id": "flu8JAPskgJD"
      },
      "execution_count": null,
      "outputs": []
    },
    {
      "cell_type": "code",
      "source": [
        "X_train.shape, Y_train.shape"
      ],
      "metadata": {
        "colab": {
          "base_uri": "https://localhost:8080/"
        },
        "id": "LtblTHocNhLs",
        "outputId": "42e9b261-e030-4821-d8ec-daa24abdf569"
      },
      "execution_count": null,
      "outputs": [
        {
          "output_type": "execute_result",
          "data": {
            "text/plain": [
              "((60000, 28, 28), (60000, 10))"
            ]
          },
          "metadata": {},
          "execution_count": 99
        }
      ]
    },
    {
      "cell_type": "code",
      "source": [
        "X_train = X_train[:,:,:,np.newaxis]\n",
        "X_train.shape"
      ],
      "metadata": {
        "colab": {
          "base_uri": "https://localhost:8080/"
        },
        "id": "ciF5TmTkPHIZ",
        "outputId": "f2adaf60-3cd8-426a-c339-abae382a775a"
      },
      "execution_count": null,
      "outputs": [
        {
          "output_type": "execute_result",
          "data": {
            "text/plain": [
              "(60000, 28, 28, 1)"
            ]
          },
          "metadata": {},
          "execution_count": 100
        }
      ]
    },
    {
      "cell_type": "code",
      "source": [
        "X_test.shape, Y_test.shape"
      ],
      "metadata": {
        "colab": {
          "base_uri": "https://localhost:8080/"
        },
        "id": "bGEGneQLS7h4",
        "outputId": "1bc62913-9119-40b9-f9cc-d93fadff1b00"
      },
      "execution_count": null,
      "outputs": [
        {
          "output_type": "execute_result",
          "data": {
            "text/plain": [
              "((10000, 28, 28), (10000, 10))"
            ]
          },
          "metadata": {},
          "execution_count": 101
        }
      ]
    },
    {
      "cell_type": "code",
      "source": [
        "X_test = X_test[:,:,:,np.newaxis]\n",
        "X_test.shape"
      ],
      "metadata": {
        "colab": {
          "base_uri": "https://localhost:8080/"
        },
        "id": "94kFmbfgTCxN",
        "outputId": "33eedce7-9164-41e4-a356-70d2406cba0c"
      },
      "execution_count": null,
      "outputs": [
        {
          "output_type": "execute_result",
          "data": {
            "text/plain": [
              "(10000, 28, 28, 1)"
            ]
          },
          "metadata": {},
          "execution_count": 102
        }
      ]
    },
    {
      "cell_type": "code",
      "source": [
        "#MLP\n",
        "# inp = Input(shape=(height * width,)) # Our input is a 1D vector of size 784\n",
        "# hidden_1 = Dense(hidden_size, activation='relu')(inp) # First hidden ReLU layer\n",
        "# hidden_2 = Dense(hidden_size, activation='relu')(hidden_1) # Second hidden ReLU layer\n",
        "# out = Dense(num_classes, activation='softmax')(hidden_2) # Output softmax layer\n",
        "\n",
        "# model = Model(inputs=inp, outputs=out) # To define a model, just specify its input and output layers\n",
        "#model.summary()"
      ],
      "metadata": {
        "id": "gV81dablkgLz"
      },
      "execution_count": null,
      "outputs": []
    },
    {
      "cell_type": "code",
      "source": [
        "batch_size = 32 # in each iteration, we consider 32 training examples at once\n",
        "num_epochs = 200 # we iterate 200 times over the entire training set\n",
        "kernel_size = 3 # we will use 3x3 kernels throughout\n",
        "pool_size = 2 # we will use 2x2 pooling throughout\n",
        "conv_depth_1 = 32 # we will initially have 32 kernels per conv. layer...\n",
        "conv_depth_2 = 64 # ...switching to 64 after the first pooling layer\n",
        "drop_prob_1 = 0.25 # dropout after pooling with probability 0.25\n",
        "drop_prob_2 = 0.5 # dropout in the FC layer with probability 0.5\n",
        "hidden_size = 512 # the FC layer will have 512 neurons"
      ],
      "metadata": {
        "id": "vTko_xEvMQlW"
      },
      "execution_count": null,
      "outputs": []
    },
    {
      "cell_type": "code",
      "source": [
        "#CNN\n",
        "\n",
        "inp = Input(shape=(height, width, depth)) # N.B. depth goes first in Keras!\n",
        "# Conv [32] -> Conv [32] -> Pool (with dropout on the pooling layer)\n",
        "conv_1 = Convolution2D(conv_depth_1, kernel_size, kernel_size, padding='same', activation='relu')(inp)\n",
        "conv_2 = Convolution2D(conv_depth_1, kernel_size, kernel_size, padding='same', activation='relu')(conv_1)\n",
        "pool_1 = MaxPooling2D(pool_size=(pool_size, pool_size), padding='same')(conv_2)\n",
        "drop_1 = Dropout(drop_prob_1)(pool_1)\n",
        "# Conv [64] -> Conv [64] -> Pool (with dropout on the pooling layer)\n",
        "conv_3 = Convolution2D(conv_depth_2, kernel_size, kernel_size, padding='same', activation='relu')(drop_1)\n",
        "conv_4 = Convolution2D(conv_depth_2, kernel_size, kernel_size, padding='same', activation='relu')(conv_3)\n",
        "pool_2 = MaxPooling2D(pool_size=(pool_size, pool_size), padding='same')(conv_4)\n",
        "drop_2 = Dropout(drop_prob_1)(pool_2)\n",
        "# Now flatten to 1D, apply FC -> ReLU (with dropout) -> softmax\n",
        "flat = Flatten()(drop_2)\n",
        "hidden = Dense(hidden_size, activation='relu')(flat)\n",
        "drop_3 = Dropout(drop_prob_2)(hidden)\n",
        "out = Dense(num_classes, activation='softmax')(drop_3)\n",
        "\n",
        "model = Model(inputs=inp, outputs=out) # To define a model, just specify its input and output layers"
      ],
      "metadata": {
        "id": "3KFMa__XKXZ6"
      },
      "execution_count": null,
      "outputs": []
    },
    {
      "cell_type": "code",
      "source": [
        "model.summary()"
      ],
      "metadata": {
        "colab": {
          "base_uri": "https://localhost:8080/"
        },
        "id": "UzRnOFowKYN1",
        "outputId": "1ee7934d-224b-494c-9fa5-e71456f4e93f"
      },
      "execution_count": null,
      "outputs": [
        {
          "output_type": "stream",
          "name": "stdout",
          "text": [
            "Model: \"model_9\"\n",
            "_________________________________________________________________\n",
            " Layer (type)                Output Shape              Param #   \n",
            "=================================================================\n",
            " input_12 (InputLayer)       [(None, 28, 28, 1)]       0         \n",
            "                                                                 \n",
            " conv2d_33 (Conv2D)          (None, 10, 10, 32)        320       \n",
            "                                                                 \n",
            " conv2d_34 (Conv2D)          (None, 4, 4, 32)          9248      \n",
            "                                                                 \n",
            " max_pooling2d_16 (MaxPoolin  (None, 2, 2, 32)         0         \n",
            " g2D)                                                            \n",
            "                                                                 \n",
            " dropout_24 (Dropout)        (None, 2, 2, 32)          0         \n",
            "                                                                 \n",
            " conv2d_35 (Conv2D)          (None, 1, 1, 64)          18496     \n",
            "                                                                 \n",
            " conv2d_36 (Conv2D)          (None, 1, 1, 64)          36928     \n",
            "                                                                 \n",
            " max_pooling2d_17 (MaxPoolin  (None, 1, 1, 64)         0         \n",
            " g2D)                                                            \n",
            "                                                                 \n",
            " dropout_25 (Dropout)        (None, 1, 1, 64)          0         \n",
            "                                                                 \n",
            " flatten_8 (Flatten)         (None, 64)                0         \n",
            "                                                                 \n",
            " dense_19 (Dense)            (None, 512)               33280     \n",
            "                                                                 \n",
            " dropout_26 (Dropout)        (None, 512)               0         \n",
            "                                                                 \n",
            " dense_20 (Dense)            (None, 10)                5130      \n",
            "                                                                 \n",
            "=================================================================\n",
            "Total params: 103,402\n",
            "Trainable params: 103,402\n",
            "Non-trainable params: 0\n",
            "_________________________________________________________________\n"
          ]
        }
      ]
    },
    {
      "cell_type": "code",
      "source": [
        "model.compile(loss='categorical_crossentropy', # using the cross-entropy loss function\n",
        "              optimizer='adam', # using the Adam optimiser\n",
        "              metrics=['accuracy']) # reporting the accuracy"
      ],
      "metadata": {
        "id": "4jn6wRZ7kgOc"
      },
      "execution_count": null,
      "outputs": []
    },
    {
      "cell_type": "code",
      "source": [
        "model.fit(X_train, Y_train, # Train the model using the training set...\n",
        "          batch_size=batch_size, epochs=num_epochs,\n",
        "          verbose=1, validation_split=0.1) # ...holding out 10% of the data for validation"
      ],
      "metadata": {
        "colab": {
          "base_uri": "https://localhost:8080/"
        },
        "id": "pgOZQTTWkgRC",
        "outputId": "2457881f-aa65-4e16-98d8-92de3c361371"
      },
      "execution_count": null,
      "outputs": [
        {
          "output_type": "stream",
          "name": "stdout",
          "text": [
            "Epoch 1/200\n",
            "1688/1688 [==============================] - 16s 9ms/step - loss: 0.5120 - accuracy: 0.8364 - val_loss: 0.1274 - val_accuracy: 0.9608\n",
            "Epoch 2/200\n",
            "1688/1688 [==============================] - 15s 9ms/step - loss: 0.2201 - accuracy: 0.9362 - val_loss: 0.0863 - val_accuracy: 0.9743\n",
            "Epoch 3/200\n",
            "1688/1688 [==============================] - 15s 9ms/step - loss: 0.1763 - accuracy: 0.9504 - val_loss: 0.0672 - val_accuracy: 0.9805\n",
            "Epoch 4/200\n",
            "1688/1688 [==============================] - 15s 9ms/step - loss: 0.1548 - accuracy: 0.9547 - val_loss: 0.0623 - val_accuracy: 0.9807\n",
            "Epoch 5/200\n",
            "1688/1688 [==============================] - 15s 9ms/step - loss: 0.1378 - accuracy: 0.9598 - val_loss: 0.0611 - val_accuracy: 0.9822\n",
            "Epoch 6/200\n",
            "1688/1688 [==============================] - 16s 9ms/step - loss: 0.1259 - accuracy: 0.9636 - val_loss: 0.0578 - val_accuracy: 0.9830\n",
            "Epoch 7/200\n",
            "1688/1688 [==============================] - 15s 9ms/step - loss: 0.1166 - accuracy: 0.9668 - val_loss: 0.0587 - val_accuracy: 0.9808\n",
            "Epoch 8/200\n",
            "1688/1688 [==============================] - 15s 9ms/step - loss: 0.1121 - accuracy: 0.9666 - val_loss: 0.0558 - val_accuracy: 0.9833\n",
            "Epoch 9/200\n",
            "1688/1688 [==============================] - 15s 9ms/step - loss: 0.1045 - accuracy: 0.9689 - val_loss: 0.0571 - val_accuracy: 0.9830\n",
            "Epoch 10/200\n",
            "1688/1688 [==============================] - 15s 9ms/step - loss: 0.1005 - accuracy: 0.9701 - val_loss: 0.0549 - val_accuracy: 0.9842\n",
            "Epoch 11/200\n",
            "1688/1688 [==============================] - 14s 9ms/step - loss: 0.0965 - accuracy: 0.9715 - val_loss: 0.0477 - val_accuracy: 0.9855\n",
            "Epoch 12/200\n",
            "1688/1688 [==============================] - 15s 9ms/step - loss: 0.0951 - accuracy: 0.9715 - val_loss: 0.0532 - val_accuracy: 0.9863\n",
            "Epoch 13/200\n",
            "1688/1688 [==============================] - 15s 9ms/step - loss: 0.0913 - accuracy: 0.9728 - val_loss: 0.0468 - val_accuracy: 0.9862\n",
            "Epoch 14/200\n",
            "1688/1688 [==============================] - 15s 9ms/step - loss: 0.0847 - accuracy: 0.9756 - val_loss: 0.0465 - val_accuracy: 0.9883\n",
            "Epoch 15/200\n",
            "1688/1688 [==============================] - 15s 9ms/step - loss: 0.0852 - accuracy: 0.9743 - val_loss: 0.0542 - val_accuracy: 0.9850\n",
            "Epoch 16/200\n",
            "1688/1688 [==============================] - 14s 9ms/step - loss: 0.0850 - accuracy: 0.9752 - val_loss: 0.0515 - val_accuracy: 0.9867\n",
            "Epoch 17/200\n",
            "1688/1688 [==============================] - 15s 9ms/step - loss: 0.0792 - accuracy: 0.9758 - val_loss: 0.0482 - val_accuracy: 0.9855\n",
            "Epoch 18/200\n",
            "1688/1688 [==============================] - 15s 9ms/step - loss: 0.0847 - accuracy: 0.9745 - val_loss: 0.0524 - val_accuracy: 0.9848\n",
            "Epoch 19/200\n",
            "1688/1688 [==============================] - 15s 9ms/step - loss: 0.0751 - accuracy: 0.9776 - val_loss: 0.0497 - val_accuracy: 0.9867\n",
            "Epoch 20/200\n",
            "1688/1688 [==============================] - 14s 9ms/step - loss: 0.0756 - accuracy: 0.9774 - val_loss: 0.0493 - val_accuracy: 0.9865\n",
            "Epoch 21/200\n",
            "1688/1688 [==============================] - 14s 9ms/step - loss: 0.0751 - accuracy: 0.9780 - val_loss: 0.0477 - val_accuracy: 0.9873\n",
            "Epoch 22/200\n",
            "1688/1688 [==============================] - 15s 9ms/step - loss: 0.0716 - accuracy: 0.9790 - val_loss: 0.0464 - val_accuracy: 0.9867\n",
            "Epoch 23/200\n",
            "1688/1688 [==============================] - 15s 9ms/step - loss: 0.0738 - accuracy: 0.9774 - val_loss: 0.0468 - val_accuracy: 0.9872\n",
            "Epoch 24/200\n",
            "1688/1688 [==============================] - 15s 9ms/step - loss: 0.0710 - accuracy: 0.9789 - val_loss: 0.0515 - val_accuracy: 0.9845\n",
            "Epoch 25/200\n",
            "1688/1688 [==============================] - 15s 9ms/step - loss: 0.0686 - accuracy: 0.9791 - val_loss: 0.0495 - val_accuracy: 0.9870\n",
            "Epoch 26/200\n",
            "1688/1688 [==============================] - 15s 9ms/step - loss: 0.0696 - accuracy: 0.9794 - val_loss: 0.0455 - val_accuracy: 0.9877\n",
            "Epoch 27/200\n",
            "1688/1688 [==============================] - 14s 9ms/step - loss: 0.0694 - accuracy: 0.9794 - val_loss: 0.0450 - val_accuracy: 0.9873\n",
            "Epoch 28/200\n",
            "1688/1688 [==============================] - 15s 9ms/step - loss: 0.0688 - accuracy: 0.9795 - val_loss: 0.0493 - val_accuracy: 0.9865\n",
            "Epoch 29/200\n",
            "1688/1688 [==============================] - 15s 9ms/step - loss: 0.0674 - accuracy: 0.9801 - val_loss: 0.0426 - val_accuracy: 0.9892\n",
            "Epoch 30/200\n",
            "1688/1688 [==============================] - 14s 9ms/step - loss: 0.0677 - accuracy: 0.9796 - val_loss: 0.0452 - val_accuracy: 0.9878\n",
            "Epoch 31/200\n",
            "1688/1688 [==============================] - 15s 9ms/step - loss: 0.0665 - accuracy: 0.9796 - val_loss: 0.0529 - val_accuracy: 0.9860\n",
            "Epoch 32/200\n",
            "1688/1688 [==============================] - 15s 9ms/step - loss: 0.0638 - accuracy: 0.9811 - val_loss: 0.0549 - val_accuracy: 0.9863\n",
            "Epoch 33/200\n",
            "1688/1688 [==============================] - 14s 9ms/step - loss: 0.0658 - accuracy: 0.9806 - val_loss: 0.0525 - val_accuracy: 0.9855\n",
            "Epoch 34/200\n",
            "1688/1688 [==============================] - 15s 9ms/step - loss: 0.0662 - accuracy: 0.9803 - val_loss: 0.0503 - val_accuracy: 0.9882\n",
            "Epoch 35/200\n",
            "1688/1688 [==============================] - 15s 9ms/step - loss: 0.0672 - accuracy: 0.9811 - val_loss: 0.0533 - val_accuracy: 0.9868\n",
            "Epoch 36/200\n",
            "1688/1688 [==============================] - 15s 9ms/step - loss: 0.0610 - accuracy: 0.9820 - val_loss: 0.0467 - val_accuracy: 0.9887\n",
            "Epoch 37/200\n",
            "1688/1688 [==============================] - 15s 9ms/step - loss: 0.0668 - accuracy: 0.9804 - val_loss: 0.0479 - val_accuracy: 0.9878\n",
            "Epoch 38/200\n",
            "1688/1688 [==============================] - 15s 9ms/step - loss: 0.0635 - accuracy: 0.9814 - val_loss: 0.0527 - val_accuracy: 0.9875\n",
            "Epoch 39/200\n",
            "1688/1688 [==============================] - 15s 9ms/step - loss: 0.0594 - accuracy: 0.9822 - val_loss: 0.0455 - val_accuracy: 0.9877\n",
            "Epoch 40/200\n",
            "1688/1688 [==============================] - 15s 9ms/step - loss: 0.0651 - accuracy: 0.9812 - val_loss: 0.0485 - val_accuracy: 0.9878\n",
            "Epoch 41/200\n",
            "1688/1688 [==============================] - 15s 9ms/step - loss: 0.0615 - accuracy: 0.9824 - val_loss: 0.0425 - val_accuracy: 0.9877\n",
            "Epoch 42/200\n",
            "1688/1688 [==============================] - 15s 9ms/step - loss: 0.0606 - accuracy: 0.9822 - val_loss: 0.0473 - val_accuracy: 0.9865\n",
            "Epoch 43/200\n",
            "1688/1688 [==============================] - 15s 9ms/step - loss: 0.0605 - accuracy: 0.9827 - val_loss: 0.0521 - val_accuracy: 0.9872\n",
            "Epoch 44/200\n",
            "1688/1688 [==============================] - 15s 9ms/step - loss: 0.0599 - accuracy: 0.9823 - val_loss: 0.0517 - val_accuracy: 0.9878\n",
            "Epoch 45/200\n",
            "1688/1688 [==============================] - 15s 9ms/step - loss: 0.0626 - accuracy: 0.9817 - val_loss: 0.0475 - val_accuracy: 0.9880\n",
            "Epoch 46/200\n",
            "1688/1688 [==============================] - 15s 9ms/step - loss: 0.0606 - accuracy: 0.9826 - val_loss: 0.0509 - val_accuracy: 0.9882\n",
            "Epoch 47/200\n",
            "1688/1688 [==============================] - 15s 9ms/step - loss: 0.0584 - accuracy: 0.9831 - val_loss: 0.0527 - val_accuracy: 0.9860\n",
            "Epoch 48/200\n",
            "1688/1688 [==============================] - 15s 9ms/step - loss: 0.0616 - accuracy: 0.9824 - val_loss: 0.0500 - val_accuracy: 0.9868\n",
            "Epoch 49/200\n",
            "1688/1688 [==============================] - 15s 9ms/step - loss: 0.0619 - accuracy: 0.9820 - val_loss: 0.0478 - val_accuracy: 0.9872\n",
            "Epoch 50/200\n",
            "1688/1688 [==============================] - 15s 9ms/step - loss: 0.0601 - accuracy: 0.9829 - val_loss: 0.0492 - val_accuracy: 0.9883\n",
            "Epoch 51/200\n",
            "1688/1688 [==============================] - 15s 9ms/step - loss: 0.0604 - accuracy: 0.9823 - val_loss: 0.0525 - val_accuracy: 0.9885\n",
            "Epoch 52/200\n",
            "1688/1688 [==============================] - 15s 9ms/step - loss: 0.0560 - accuracy: 0.9839 - val_loss: 0.0496 - val_accuracy: 0.9870\n",
            "Epoch 53/200\n",
            "1688/1688 [==============================] - 15s 9ms/step - loss: 0.0597 - accuracy: 0.9832 - val_loss: 0.0519 - val_accuracy: 0.9880\n",
            "Epoch 54/200\n",
            "1688/1688 [==============================] - 15s 9ms/step - loss: 0.0580 - accuracy: 0.9829 - val_loss: 0.0548 - val_accuracy: 0.9868\n",
            "Epoch 55/200\n",
            "1688/1688 [==============================] - 15s 9ms/step - loss: 0.0575 - accuracy: 0.9832 - val_loss: 0.0511 - val_accuracy: 0.9875\n",
            "Epoch 56/200\n",
            "1688/1688 [==============================] - 15s 9ms/step - loss: 0.0597 - accuracy: 0.9831 - val_loss: 0.0544 - val_accuracy: 0.9872\n",
            "Epoch 57/200\n",
            "1688/1688 [==============================] - 15s 9ms/step - loss: 0.0603 - accuracy: 0.9820 - val_loss: 0.0499 - val_accuracy: 0.9888\n",
            "Epoch 58/200\n",
            "1688/1688 [==============================] - 15s 9ms/step - loss: 0.0566 - accuracy: 0.9842 - val_loss: 0.0525 - val_accuracy: 0.9877\n",
            "Epoch 59/200\n",
            "1688/1688 [==============================] - 15s 9ms/step - loss: 0.0583 - accuracy: 0.9834 - val_loss: 0.0482 - val_accuracy: 0.9872\n",
            "Epoch 60/200\n",
            "1688/1688 [==============================] - 15s 9ms/step - loss: 0.0568 - accuracy: 0.9844 - val_loss: 0.0458 - val_accuracy: 0.9867\n",
            "Epoch 61/200\n",
            "1688/1688 [==============================] - 14s 9ms/step - loss: 0.0568 - accuracy: 0.9839 - val_loss: 0.0508 - val_accuracy: 0.9872\n",
            "Epoch 62/200\n",
            "1688/1688 [==============================] - 15s 9ms/step - loss: 0.0550 - accuracy: 0.9842 - val_loss: 0.0556 - val_accuracy: 0.9870\n",
            "Epoch 63/200\n",
            "1688/1688 [==============================] - 15s 9ms/step - loss: 0.0585 - accuracy: 0.9831 - val_loss: 0.0479 - val_accuracy: 0.9883\n",
            "Epoch 64/200\n",
            "1688/1688 [==============================] - 15s 9ms/step - loss: 0.0543 - accuracy: 0.9843 - val_loss: 0.0537 - val_accuracy: 0.9870\n",
            "Epoch 65/200\n",
            "1688/1688 [==============================] - 15s 9ms/step - loss: 0.0564 - accuracy: 0.9839 - val_loss: 0.0579 - val_accuracy: 0.9863\n",
            "Epoch 66/200\n",
            "1688/1688 [==============================] - 15s 9ms/step - loss: 0.0556 - accuracy: 0.9842 - val_loss: 0.0516 - val_accuracy: 0.9882\n",
            "Epoch 67/200\n",
            "1688/1688 [==============================] - 15s 9ms/step - loss: 0.0546 - accuracy: 0.9842 - val_loss: 0.0532 - val_accuracy: 0.9892\n",
            "Epoch 68/200\n",
            "1688/1688 [==============================] - 15s 9ms/step - loss: 0.0548 - accuracy: 0.9838 - val_loss: 0.0551 - val_accuracy: 0.9867\n",
            "Epoch 69/200\n",
            "1688/1688 [==============================] - 15s 9ms/step - loss: 0.0576 - accuracy: 0.9835 - val_loss: 0.0542 - val_accuracy: 0.9883\n",
            "Epoch 70/200\n",
            "1688/1688 [==============================] - 15s 9ms/step - loss: 0.0573 - accuracy: 0.9839 - val_loss: 0.0492 - val_accuracy: 0.9878\n",
            "Epoch 71/200\n",
            "1688/1688 [==============================] - 15s 9ms/step - loss: 0.0527 - accuracy: 0.9848 - val_loss: 0.0560 - val_accuracy: 0.9855\n",
            "Epoch 72/200\n",
            "1688/1688 [==============================] - 15s 9ms/step - loss: 0.0528 - accuracy: 0.9845 - val_loss: 0.0545 - val_accuracy: 0.9880\n",
            "Epoch 73/200\n",
            "1688/1688 [==============================] - 15s 9ms/step - loss: 0.0539 - accuracy: 0.9839 - val_loss: 0.0548 - val_accuracy: 0.9878\n",
            "Epoch 74/200\n",
            "1688/1688 [==============================] - 15s 9ms/step - loss: 0.0521 - accuracy: 0.9846 - val_loss: 0.0553 - val_accuracy: 0.9882\n",
            "Epoch 75/200\n",
            "1688/1688 [==============================] - 15s 9ms/step - loss: 0.0551 - accuracy: 0.9841 - val_loss: 0.0520 - val_accuracy: 0.9877\n",
            "Epoch 76/200\n",
            "1688/1688 [==============================] - 15s 9ms/step - loss: 0.0541 - accuracy: 0.9848 - val_loss: 0.0519 - val_accuracy: 0.9877\n",
            "Epoch 77/200\n",
            "1688/1688 [==============================] - 15s 9ms/step - loss: 0.0539 - accuracy: 0.9849 - val_loss: 0.0578 - val_accuracy: 0.9878\n",
            "Epoch 78/200\n",
            "1688/1688 [==============================] - 15s 9ms/step - loss: 0.0519 - accuracy: 0.9854 - val_loss: 0.0601 - val_accuracy: 0.9862\n",
            "Epoch 79/200\n",
            "1688/1688 [==============================] - 15s 9ms/step - loss: 0.0525 - accuracy: 0.9859 - val_loss: 0.0483 - val_accuracy: 0.9878\n",
            "Epoch 80/200\n",
            "1688/1688 [==============================] - 15s 9ms/step - loss: 0.0563 - accuracy: 0.9841 - val_loss: 0.0526 - val_accuracy: 0.9873\n",
            "Epoch 81/200\n",
            "1688/1688 [==============================] - 15s 9ms/step - loss: 0.0521 - accuracy: 0.9854 - val_loss: 0.0513 - val_accuracy: 0.9878\n",
            "Epoch 82/200\n",
            "1688/1688 [==============================] - 15s 9ms/step - loss: 0.0541 - accuracy: 0.9849 - val_loss: 0.0568 - val_accuracy: 0.9860\n",
            "Epoch 83/200\n",
            "1688/1688 [==============================] - 15s 9ms/step - loss: 0.0543 - accuracy: 0.9852 - val_loss: 0.0508 - val_accuracy: 0.9858\n",
            "Epoch 84/200\n",
            "1688/1688 [==============================] - 15s 9ms/step - loss: 0.0515 - accuracy: 0.9848 - val_loss: 0.0545 - val_accuracy: 0.9868\n",
            "Epoch 85/200\n",
            "1688/1688 [==============================] - 15s 9ms/step - loss: 0.0539 - accuracy: 0.9849 - val_loss: 0.0503 - val_accuracy: 0.9882\n",
            "Epoch 86/200\n",
            "1688/1688 [==============================] - 14s 9ms/step - loss: 0.0568 - accuracy: 0.9846 - val_loss: 0.0524 - val_accuracy: 0.9895\n",
            "Epoch 87/200\n",
            "1688/1688 [==============================] - 15s 9ms/step - loss: 0.0531 - accuracy: 0.9850 - val_loss: 0.0487 - val_accuracy: 0.9892\n",
            "Epoch 88/200\n",
            "1688/1688 [==============================] - 15s 9ms/step - loss: 0.0514 - accuracy: 0.9856 - val_loss: 0.0439 - val_accuracy: 0.9897\n",
            "Epoch 89/200\n",
            "1688/1688 [==============================] - 15s 9ms/step - loss: 0.0530 - accuracy: 0.9852 - val_loss: 0.0511 - val_accuracy: 0.9868\n",
            "Epoch 90/200\n",
            "1688/1688 [==============================] - 15s 9ms/step - loss: 0.0538 - accuracy: 0.9853 - val_loss: 0.0501 - val_accuracy: 0.9888\n",
            "Epoch 91/200\n",
            "1688/1688 [==============================] - 15s 9ms/step - loss: 0.0506 - accuracy: 0.9855 - val_loss: 0.0544 - val_accuracy: 0.9873\n",
            "Epoch 92/200\n",
            "1688/1688 [==============================] - 15s 9ms/step - loss: 0.0534 - accuracy: 0.9851 - val_loss: 0.0568 - val_accuracy: 0.9868\n",
            "Epoch 93/200\n",
            "1688/1688 [==============================] - 15s 9ms/step - loss: 0.0540 - accuracy: 0.9852 - val_loss: 0.0493 - val_accuracy: 0.9887\n",
            "Epoch 94/200\n",
            "1688/1688 [==============================] - 15s 9ms/step - loss: 0.0501 - accuracy: 0.9858 - val_loss: 0.0564 - val_accuracy: 0.9890\n",
            "Epoch 95/200\n",
            "1688/1688 [==============================] - 15s 9ms/step - loss: 0.0518 - accuracy: 0.9851 - val_loss: 0.0489 - val_accuracy: 0.9883\n",
            "Epoch 96/200\n",
            "1688/1688 [==============================] - 15s 9ms/step - loss: 0.0545 - accuracy: 0.9848 - val_loss: 0.0627 - val_accuracy: 0.9887\n",
            "Epoch 97/200\n",
            "1688/1688 [==============================] - 15s 9ms/step - loss: 0.0520 - accuracy: 0.9855 - val_loss: 0.0619 - val_accuracy: 0.9883\n",
            "Epoch 98/200\n",
            "1688/1688 [==============================] - 15s 9ms/step - loss: 0.0532 - accuracy: 0.9856 - val_loss: 0.0483 - val_accuracy: 0.9892\n",
            "Epoch 99/200\n",
            "1688/1688 [==============================] - 15s 9ms/step - loss: 0.0493 - accuracy: 0.9857 - val_loss: 0.0677 - val_accuracy: 0.9860\n",
            "Epoch 100/200\n",
            "1688/1688 [==============================] - 15s 9ms/step - loss: 0.0501 - accuracy: 0.9866 - val_loss: 0.0645 - val_accuracy: 0.9863\n",
            "Epoch 101/200\n",
            "1688/1688 [==============================] - 15s 9ms/step - loss: 0.0539 - accuracy: 0.9847 - val_loss: 0.0604 - val_accuracy: 0.9868\n",
            "Epoch 102/200\n",
            "1688/1688 [==============================] - 15s 9ms/step - loss: 0.0512 - accuracy: 0.9858 - val_loss: 0.0662 - val_accuracy: 0.9868\n",
            "Epoch 103/200\n",
            "1688/1688 [==============================] - 15s 9ms/step - loss: 0.0551 - accuracy: 0.9849 - val_loss: 0.0581 - val_accuracy: 0.9873\n",
            "Epoch 104/200\n",
            "1688/1688 [==============================] - 15s 9ms/step - loss: 0.0499 - accuracy: 0.9858 - val_loss: 0.0615 - val_accuracy: 0.9858\n",
            "Epoch 105/200\n",
            "1688/1688 [==============================] - 15s 9ms/step - loss: 0.0548 - accuracy: 0.9853 - val_loss: 0.0555 - val_accuracy: 0.9862\n",
            "Epoch 106/200\n",
            "1688/1688 [==============================] - 15s 9ms/step - loss: 0.0535 - accuracy: 0.9856 - val_loss: 0.0608 - val_accuracy: 0.9858\n",
            "Epoch 107/200\n",
            "1688/1688 [==============================] - 15s 9ms/step - loss: 0.0526 - accuracy: 0.9858 - val_loss: 0.0534 - val_accuracy: 0.9873\n",
            "Epoch 108/200\n",
            "1688/1688 [==============================] - 15s 9ms/step - loss: 0.0491 - accuracy: 0.9868 - val_loss: 0.0597 - val_accuracy: 0.9873\n",
            "Epoch 109/200\n",
            "1688/1688 [==============================] - 15s 9ms/step - loss: 0.0534 - accuracy: 0.9846 - val_loss: 0.0580 - val_accuracy: 0.9873\n",
            "Epoch 110/200\n",
            "1688/1688 [==============================] - 15s 9ms/step - loss: 0.0504 - accuracy: 0.9863 - val_loss: 0.0587 - val_accuracy: 0.9857\n",
            "Epoch 111/200\n",
            "1688/1688 [==============================] - 15s 9ms/step - loss: 0.0491 - accuracy: 0.9864 - val_loss: 0.0603 - val_accuracy: 0.9867\n",
            "Epoch 112/200\n",
            "1688/1688 [==============================] - 15s 9ms/step - loss: 0.0536 - accuracy: 0.9857 - val_loss: 0.0559 - val_accuracy: 0.9862\n",
            "Epoch 113/200\n",
            "1688/1688 [==============================] - 15s 9ms/step - loss: 0.0510 - accuracy: 0.9857 - val_loss: 0.0569 - val_accuracy: 0.9870\n",
            "Epoch 114/200\n",
            "1688/1688 [==============================] - 15s 9ms/step - loss: 0.0520 - accuracy: 0.9860 - val_loss: 0.0693 - val_accuracy: 0.9863\n",
            "Epoch 115/200\n",
            "1688/1688 [==============================] - 15s 9ms/step - loss: 0.0526 - accuracy: 0.9859 - val_loss: 0.0527 - val_accuracy: 0.9882\n",
            "Epoch 116/200\n",
            "1688/1688 [==============================] - 15s 9ms/step - loss: 0.0492 - accuracy: 0.9864 - val_loss: 0.0535 - val_accuracy: 0.9882\n",
            "Epoch 117/200\n",
            "1688/1688 [==============================] - 15s 9ms/step - loss: 0.0530 - accuracy: 0.9854 - val_loss: 0.0517 - val_accuracy: 0.9882\n",
            "Epoch 118/200\n",
            "1688/1688 [==============================] - 15s 9ms/step - loss: 0.0526 - accuracy: 0.9855 - val_loss: 0.0568 - val_accuracy: 0.9890\n",
            "Epoch 119/200\n",
            "1688/1688 [==============================] - 15s 9ms/step - loss: 0.0508 - accuracy: 0.9859 - val_loss: 0.0540 - val_accuracy: 0.9903\n",
            "Epoch 120/200\n",
            "1688/1688 [==============================] - 15s 9ms/step - loss: 0.0514 - accuracy: 0.9860 - val_loss: 0.0612 - val_accuracy: 0.9892\n",
            "Epoch 121/200\n",
            "1688/1688 [==============================] - 15s 9ms/step - loss: 0.0516 - accuracy: 0.9859 - val_loss: 0.0549 - val_accuracy: 0.9893\n",
            "Epoch 122/200\n",
            "1688/1688 [==============================] - 15s 9ms/step - loss: 0.0483 - accuracy: 0.9860 - val_loss: 0.0554 - val_accuracy: 0.9882\n",
            "Epoch 123/200\n",
            "1688/1688 [==============================] - 15s 9ms/step - loss: 0.0519 - accuracy: 0.9855 - val_loss: 0.0538 - val_accuracy: 0.9877\n",
            "Epoch 124/200\n",
            "1688/1688 [==============================] - 15s 9ms/step - loss: 0.0513 - accuracy: 0.9856 - val_loss: 0.0559 - val_accuracy: 0.9873\n",
            "Epoch 125/200\n",
            "1688/1688 [==============================] - 15s 9ms/step - loss: 0.0507 - accuracy: 0.9859 - val_loss: 0.0597 - val_accuracy: 0.9868\n",
            "Epoch 126/200\n",
            "1688/1688 [==============================] - 15s 9ms/step - loss: 0.0517 - accuracy: 0.9868 - val_loss: 0.0613 - val_accuracy: 0.9880\n",
            "Epoch 127/200\n",
            "1688/1688 [==============================] - 15s 9ms/step - loss: 0.0473 - accuracy: 0.9870 - val_loss: 0.0570 - val_accuracy: 0.9872\n",
            "Epoch 128/200\n",
            "1688/1688 [==============================] - 15s 9ms/step - loss: 0.0531 - accuracy: 0.9853 - val_loss: 0.0544 - val_accuracy: 0.9867\n",
            "Epoch 129/200\n",
            "1688/1688 [==============================] - 15s 9ms/step - loss: 0.0485 - accuracy: 0.9867 - val_loss: 0.0614 - val_accuracy: 0.9858\n",
            "Epoch 130/200\n",
            "1688/1688 [==============================] - 15s 9ms/step - loss: 0.0494 - accuracy: 0.9861 - val_loss: 0.0563 - val_accuracy: 0.9880\n",
            "Epoch 131/200\n",
            "1688/1688 [==============================] - 15s 9ms/step - loss: 0.0489 - accuracy: 0.9866 - val_loss: 0.0587 - val_accuracy: 0.9853\n",
            "Epoch 132/200\n",
            "1688/1688 [==============================] - 15s 9ms/step - loss: 0.0505 - accuracy: 0.9857 - val_loss: 0.0585 - val_accuracy: 0.9890\n",
            "Epoch 133/200\n",
            "1688/1688 [==============================] - 15s 9ms/step - loss: 0.0500 - accuracy: 0.9866 - val_loss: 0.0584 - val_accuracy: 0.9870\n",
            "Epoch 134/200\n",
            "1688/1688 [==============================] - 15s 9ms/step - loss: 0.0491 - accuracy: 0.9868 - val_loss: 0.0609 - val_accuracy: 0.9880\n",
            "Epoch 135/200\n",
            "1688/1688 [==============================] - 15s 9ms/step - loss: 0.0484 - accuracy: 0.9869 - val_loss: 0.0574 - val_accuracy: 0.9885\n",
            "Epoch 136/200\n",
            "1688/1688 [==============================] - 15s 9ms/step - loss: 0.0507 - accuracy: 0.9866 - val_loss: 0.0601 - val_accuracy: 0.9875\n",
            "Epoch 137/200\n",
            "1688/1688 [==============================] - 15s 9ms/step - loss: 0.0487 - accuracy: 0.9861 - val_loss: 0.0616 - val_accuracy: 0.9875\n",
            "Epoch 138/200\n",
            "1688/1688 [==============================] - 15s 9ms/step - loss: 0.0479 - accuracy: 0.9869 - val_loss: 0.0676 - val_accuracy: 0.9853\n",
            "Epoch 139/200\n",
            "1688/1688 [==============================] - 15s 9ms/step - loss: 0.0502 - accuracy: 0.9866 - val_loss: 0.0691 - val_accuracy: 0.9865\n",
            "Epoch 140/200\n",
            "1688/1688 [==============================] - 15s 9ms/step - loss: 0.0482 - accuracy: 0.9866 - val_loss: 0.0599 - val_accuracy: 0.9872\n",
            "Epoch 141/200\n",
            "1688/1688 [==============================] - 15s 9ms/step - loss: 0.0510 - accuracy: 0.9863 - val_loss: 0.0550 - val_accuracy: 0.9873\n",
            "Epoch 142/200\n",
            "1688/1688 [==============================] - 15s 9ms/step - loss: 0.0510 - accuracy: 0.9863 - val_loss: 0.0552 - val_accuracy: 0.9870\n",
            "Epoch 143/200\n",
            "1688/1688 [==============================] - 15s 9ms/step - loss: 0.0493 - accuracy: 0.9869 - val_loss: 0.0717 - val_accuracy: 0.9857\n",
            "Epoch 144/200\n",
            "1688/1688 [==============================] - 15s 9ms/step - loss: 0.0509 - accuracy: 0.9862 - val_loss: 0.0657 - val_accuracy: 0.9875\n",
            "Epoch 145/200\n",
            "1688/1688 [==============================] - 15s 9ms/step - loss: 0.0499 - accuracy: 0.9868 - val_loss: 0.0735 - val_accuracy: 0.9875\n",
            "Epoch 146/200\n",
            "1688/1688 [==============================] - 15s 9ms/step - loss: 0.0513 - accuracy: 0.9862 - val_loss: 0.0577 - val_accuracy: 0.9868\n",
            "Epoch 147/200\n",
            "1688/1688 [==============================] - 15s 9ms/step - loss: 0.0482 - accuracy: 0.9865 - val_loss: 0.0689 - val_accuracy: 0.9883\n",
            "Epoch 148/200\n",
            "1688/1688 [==============================] - 15s 9ms/step - loss: 0.0520 - accuracy: 0.9860 - val_loss: 0.0623 - val_accuracy: 0.9873\n",
            "Epoch 149/200\n",
            "1688/1688 [==============================] - 15s 9ms/step - loss: 0.0479 - accuracy: 0.9875 - val_loss: 0.0634 - val_accuracy: 0.9877\n",
            "Epoch 150/200\n",
            "1688/1688 [==============================] - 15s 9ms/step - loss: 0.0481 - accuracy: 0.9865 - val_loss: 0.0599 - val_accuracy: 0.9870\n",
            "Epoch 151/200\n",
            "1688/1688 [==============================] - 15s 9ms/step - loss: 0.0503 - accuracy: 0.9869 - val_loss: 0.0654 - val_accuracy: 0.9860\n",
            "Epoch 152/200\n",
            "1688/1688 [==============================] - 15s 9ms/step - loss: 0.0466 - accuracy: 0.9875 - val_loss: 0.0649 - val_accuracy: 0.9867\n",
            "Epoch 153/200\n",
            "1688/1688 [==============================] - 15s 9ms/step - loss: 0.0538 - accuracy: 0.9860 - val_loss: 0.0596 - val_accuracy: 0.9865\n",
            "Epoch 154/200\n",
            "1688/1688 [==============================] - 15s 9ms/step - loss: 0.0485 - accuracy: 0.9868 - val_loss: 0.0710 - val_accuracy: 0.9877\n",
            "Epoch 155/200\n",
            "1688/1688 [==============================] - 15s 9ms/step - loss: 0.0502 - accuracy: 0.9868 - val_loss: 0.0684 - val_accuracy: 0.9855\n",
            "Epoch 156/200\n",
            "1688/1688 [==============================] - 15s 9ms/step - loss: 0.0533 - accuracy: 0.9860 - val_loss: 0.0667 - val_accuracy: 0.9878\n",
            "Epoch 157/200\n",
            "1688/1688 [==============================] - 15s 9ms/step - loss: 0.0529 - accuracy: 0.9857 - val_loss: 0.0672 - val_accuracy: 0.9873\n",
            "Epoch 158/200\n",
            "1688/1688 [==============================] - 15s 9ms/step - loss: 0.0486 - accuracy: 0.9871 - val_loss: 0.0677 - val_accuracy: 0.9863\n",
            "Epoch 159/200\n",
            "1688/1688 [==============================] - 15s 9ms/step - loss: 0.0507 - accuracy: 0.9861 - val_loss: 0.0728 - val_accuracy: 0.9857\n",
            "Epoch 160/200\n",
            "1688/1688 [==============================] - 15s 9ms/step - loss: 0.0495 - accuracy: 0.9866 - val_loss: 0.0725 - val_accuracy: 0.9872\n",
            "Epoch 161/200\n",
            "1688/1688 [==============================] - 15s 9ms/step - loss: 0.0467 - accuracy: 0.9874 - val_loss: 0.0741 - val_accuracy: 0.9855\n",
            "Epoch 162/200\n",
            "1688/1688 [==============================] - 15s 9ms/step - loss: 0.0466 - accuracy: 0.9871 - val_loss: 0.0690 - val_accuracy: 0.9863\n",
            "Epoch 163/200\n",
            "1688/1688 [==============================] - 15s 9ms/step - loss: 0.0537 - accuracy: 0.9860 - val_loss: 0.0615 - val_accuracy: 0.9860\n",
            "Epoch 164/200\n",
            "1688/1688 [==============================] - 15s 9ms/step - loss: 0.0477 - accuracy: 0.9873 - val_loss: 0.0608 - val_accuracy: 0.9877\n",
            "Epoch 165/200\n",
            "1688/1688 [==============================] - 15s 9ms/step - loss: 0.0484 - accuracy: 0.9873 - val_loss: 0.0590 - val_accuracy: 0.9865\n",
            "Epoch 166/200\n",
            "1688/1688 [==============================] - 15s 9ms/step - loss: 0.0509 - accuracy: 0.9868 - val_loss: 0.0634 - val_accuracy: 0.9865\n",
            "Epoch 167/200\n",
            "1688/1688 [==============================] - 15s 9ms/step - loss: 0.0477 - accuracy: 0.9868 - val_loss: 0.0700 - val_accuracy: 0.9878\n",
            "Epoch 168/200\n",
            "1688/1688 [==============================] - 15s 9ms/step - loss: 0.0518 - accuracy: 0.9863 - val_loss: 0.0565 - val_accuracy: 0.9877\n",
            "Epoch 169/200\n",
            "1688/1688 [==============================] - 15s 9ms/step - loss: 0.0462 - accuracy: 0.9872 - val_loss: 0.0775 - val_accuracy: 0.9882\n",
            "Epoch 170/200\n",
            "1688/1688 [==============================] - 15s 9ms/step - loss: 0.0503 - accuracy: 0.9874 - val_loss: 0.0641 - val_accuracy: 0.9870\n",
            "Epoch 171/200\n",
            "1688/1688 [==============================] - 15s 9ms/step - loss: 0.0489 - accuracy: 0.9868 - val_loss: 0.0605 - val_accuracy: 0.9888\n",
            "Epoch 172/200\n",
            "1688/1688 [==============================] - 15s 9ms/step - loss: 0.0509 - accuracy: 0.9866 - val_loss: 0.0645 - val_accuracy: 0.9872\n",
            "Epoch 173/200\n",
            "1688/1688 [==============================] - 15s 9ms/step - loss: 0.0469 - accuracy: 0.9876 - val_loss: 0.0579 - val_accuracy: 0.9893\n",
            "Epoch 174/200\n",
            "1688/1688 [==============================] - 15s 9ms/step - loss: 0.0500 - accuracy: 0.9868 - val_loss: 0.0564 - val_accuracy: 0.9875\n",
            "Epoch 175/200\n",
            "1688/1688 [==============================] - 15s 9ms/step - loss: 0.0508 - accuracy: 0.9871 - val_loss: 0.0578 - val_accuracy: 0.9878\n",
            "Epoch 176/200\n",
            "1688/1688 [==============================] - 15s 9ms/step - loss: 0.0495 - accuracy: 0.9865 - val_loss: 0.0658 - val_accuracy: 0.9878\n",
            "Epoch 177/200\n",
            "1688/1688 [==============================] - 15s 9ms/step - loss: 0.0462 - accuracy: 0.9877 - val_loss: 0.0697 - val_accuracy: 0.9882\n",
            "Epoch 178/200\n",
            "1688/1688 [==============================] - 15s 9ms/step - loss: 0.0489 - accuracy: 0.9868 - val_loss: 0.0597 - val_accuracy: 0.9885\n",
            "Epoch 179/200\n",
            "1688/1688 [==============================] - 15s 9ms/step - loss: 0.0511 - accuracy: 0.9874 - val_loss: 0.0640 - val_accuracy: 0.9885\n",
            "Epoch 180/200\n",
            "1688/1688 [==============================] - 15s 9ms/step - loss: 0.0530 - accuracy: 0.9861 - val_loss: 0.0596 - val_accuracy: 0.9890\n",
            "Epoch 181/200\n",
            "1688/1688 [==============================] - 15s 9ms/step - loss: 0.0489 - accuracy: 0.9869 - val_loss: 0.0605 - val_accuracy: 0.9875\n",
            "Epoch 182/200\n",
            "1688/1688 [==============================] - 15s 9ms/step - loss: 0.0457 - accuracy: 0.9875 - val_loss: 0.0607 - val_accuracy: 0.9877\n",
            "Epoch 183/200\n",
            "1688/1688 [==============================] - 15s 9ms/step - loss: 0.0425 - accuracy: 0.9883 - val_loss: 0.0604 - val_accuracy: 0.9862\n",
            "Epoch 184/200\n",
            "1688/1688 [==============================] - 15s 9ms/step - loss: 0.0495 - accuracy: 0.9871 - val_loss: 0.0681 - val_accuracy: 0.9882\n",
            "Epoch 185/200\n",
            "1688/1688 [==============================] - 15s 9ms/step - loss: 0.0499 - accuracy: 0.9867 - val_loss: 0.0614 - val_accuracy: 0.9878\n",
            "Epoch 186/200\n",
            "1688/1688 [==============================] - 15s 9ms/step - loss: 0.0478 - accuracy: 0.9873 - val_loss: 0.0687 - val_accuracy: 0.9888\n",
            "Epoch 187/200\n",
            "1688/1688 [==============================] - 15s 9ms/step - loss: 0.0485 - accuracy: 0.9868 - val_loss: 0.0605 - val_accuracy: 0.9870\n",
            "Epoch 188/200\n",
            "1688/1688 [==============================] - 15s 9ms/step - loss: 0.0451 - accuracy: 0.9882 - val_loss: 0.0726 - val_accuracy: 0.9882\n",
            "Epoch 189/200\n",
            "1688/1688 [==============================] - 15s 9ms/step - loss: 0.0484 - accuracy: 0.9870 - val_loss: 0.0761 - val_accuracy: 0.9888\n",
            "Epoch 190/200\n",
            "1688/1688 [==============================] - 15s 9ms/step - loss: 0.0526 - accuracy: 0.9864 - val_loss: 0.0780 - val_accuracy: 0.9875\n",
            "Epoch 191/200\n",
            "1688/1688 [==============================] - 15s 9ms/step - loss: 0.0485 - accuracy: 0.9872 - val_loss: 0.0678 - val_accuracy: 0.9882\n",
            "Epoch 192/200\n",
            "1688/1688 [==============================] - 15s 9ms/step - loss: 0.0457 - accuracy: 0.9879 - val_loss: 0.0656 - val_accuracy: 0.9867\n",
            "Epoch 193/200\n",
            "1688/1688 [==============================] - 15s 9ms/step - loss: 0.0505 - accuracy: 0.9872 - val_loss: 0.0652 - val_accuracy: 0.9883\n",
            "Epoch 194/200\n",
            "1688/1688 [==============================] - 15s 9ms/step - loss: 0.0502 - accuracy: 0.9864 - val_loss: 0.0684 - val_accuracy: 0.9878\n",
            "Epoch 195/200\n",
            "1688/1688 [==============================] - 15s 9ms/step - loss: 0.0445 - accuracy: 0.9880 - val_loss: 0.0718 - val_accuracy: 0.9880\n",
            "Epoch 196/200\n",
            "1688/1688 [==============================] - 15s 9ms/step - loss: 0.0492 - accuracy: 0.9871 - val_loss: 0.0649 - val_accuracy: 0.9873\n",
            "Epoch 197/200\n",
            "1688/1688 [==============================] - 15s 9ms/step - loss: 0.0503 - accuracy: 0.9864 - val_loss: 0.0571 - val_accuracy: 0.9892\n",
            "Epoch 198/200\n",
            "1688/1688 [==============================] - 15s 9ms/step - loss: 0.0464 - accuracy: 0.9879 - val_loss: 0.0705 - val_accuracy: 0.9873\n",
            "Epoch 199/200\n",
            "1688/1688 [==============================] - 15s 9ms/step - loss: 0.0478 - accuracy: 0.9877 - val_loss: 0.0664 - val_accuracy: 0.9878\n",
            "Epoch 200/200\n",
            "1688/1688 [==============================] - 15s 9ms/step - loss: 0.0505 - accuracy: 0.9871 - val_loss: 0.0706 - val_accuracy: 0.9870\n"
          ]
        },
        {
          "output_type": "execute_result",
          "data": {
            "text/plain": [
              "<keras.callbacks.History at 0x7f67af4a5f90>"
            ]
          },
          "metadata": {},
          "execution_count": 108
        }
      ]
    },
    {
      "cell_type": "code",
      "source": [
        "model.evaluate(X_test, Y_test, verbose=1) # Evaluate the trained model on the test set!"
      ],
      "metadata": {
        "colab": {
          "base_uri": "https://localhost:8080/"
        },
        "id": "TNLB_fZKTJTf",
        "outputId": "b43464b7-5028-40b5-c524-80ab4dd586b2"
      },
      "execution_count": null,
      "outputs": [
        {
          "output_type": "stream",
          "name": "stdout",
          "text": [
            "313/313 [==============================] - 1s 3ms/step - loss: 0.0886 - accuracy: 0.9847\n"
          ]
        },
        {
          "output_type": "execute_result",
          "data": {
            "text/plain": [
              "[0.08859189599752426, 0.9847000241279602]"
            ]
          },
          "metadata": {},
          "execution_count": 109
        }
      ]
    },
    {
      "cell_type": "code",
      "source": [
        ""
      ],
      "metadata": {
        "id": "9f_s3-3hTKhm"
      },
      "execution_count": null,
      "outputs": []
    },
    {
      "cell_type": "code",
      "source": [
        ""
      ],
      "metadata": {
        "id": "SzD9f3t4kgTe"
      },
      "execution_count": null,
      "outputs": []
    }
  ]
}