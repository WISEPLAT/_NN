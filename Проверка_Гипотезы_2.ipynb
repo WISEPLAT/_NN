{
  "nbformat": 4,
  "nbformat_minor": 0,
  "metadata": {
    "colab": {
      "name": "Проверка Гипотезы 2.ipynb",
      "provenance": [],
      "collapsed_sections": [],
      "authorship_tag": "ABX9TyMqw23bbULgJnOHmmCprgR7",
      "include_colab_link": true
    },
    "kernelspec": {
      "name": "python3",
      "display_name": "Python 3"
    },
    "language_info": {
      "name": "python"
    }
  },
  "cells": [
    {
      "cell_type": "markdown",
      "metadata": {
        "id": "view-in-github",
        "colab_type": "text"
      },
      "source": [
        "<a href=\"https://colab.research.google.com/github/WISEPLAT/_NN/blob/main/%D0%9F%D1%80%D0%BE%D0%B2%D0%B5%D1%80%D0%BA%D0%B0_%D0%93%D0%B8%D0%BF%D0%BE%D1%82%D0%B5%D0%B7%D1%8B_2.ipynb\" target=\"_parent\"><img src=\"https://colab.research.google.com/assets/colab-badge.svg\" alt=\"Open In Colab\"/></a>"
      ]
    },
    {
      "cell_type": "code",
      "metadata": {
        "id": "onzygcnfiriM"
      },
      "source": [
        "import numpy as np\n",
        "import pandas as pd"
      ],
      "execution_count": 1,
      "outputs": []
    },
    {
      "cell_type": "code",
      "metadata": {
        "colab": {
          "base_uri": "https://localhost:8080/"
        },
        "id": "tSXpMbI2mEvp",
        "outputId": "af554394-3853-48a0-fafb-8ac73e6f67d2"
      },
      "source": [
        "url = 'https://anaconda.org/conda-forge/libta-lib/0.4.0/download/linux-64/libta-lib-0.4.0-h516909a_0.tar.bz2'\n",
        "!curl -L $url | tar xj -C /usr/lib/x86_64-linux-gnu/ lib --strip-components=1\n",
        "url = 'https://anaconda.org/conda-forge/ta-lib/0.4.19/download/linux-64/ta-lib-0.4.19-py37ha21ca33_2.tar.bz2'\n",
        "!curl -L $url | tar xj -C /usr/local/lib/python3.7/dist-packages/ lib/python3.7/site-packages/talib --strip-components=3\n",
        "import talib\n",
        "from talib import abstract"
      ],
      "execution_count": 2,
      "outputs": [
        {
          "output_type": "stream",
          "name": "stdout",
          "text": [
            "  % Total    % Received % Xferd  Average Speed   Time    Time     Time  Current\n",
            "                                 Dload  Upload   Total   Spent    Left  Speed\n",
            "100  3689    0  3689    0     0  17650      0 --:--:-- --:--:-- --:--:-- 17735\n",
            "100  503k  100  503k    0     0   909k      0 --:--:-- --:--:-- --:--:--  909k\n",
            "  % Total    % Received % Xferd  Average Speed   Time    Time     Time  Current\n",
            "                                 Dload  Upload   Total   Spent    Left  Speed\n",
            "100  3709    0  3709    0     0  18270      0 --:--:-- --:--:-- --:--:-- 18181\n",
            "100  406k  100  406k    0     0   840k      0 --:--:-- --:--:-- --:--:--  840k\n"
          ]
        }
      ]
    },
    {
      "cell_type": "code",
      "metadata": {
        "colab": {
          "base_uri": "https://localhost:8080/"
        },
        "id": "miq5HhTSjP3l",
        "outputId": "72cbcdcf-d83f-4ecc-efb8-78936787208c"
      },
      "source": [
        "# daily prices from github\n",
        "url = ('https://raw.githubusercontent.com/WISEPLAT/financial-data/main/GMKN_000101_211021.csv')\n",
        "df = pd.read_csv(url, sep=\";\")\n",
        "print(df.shape, df.columns)\n",
        "df.rename(columns={\"<DATE>\":\"date\",\"<TIME>\":\"time\", \"<OPEN>\":\"open\",\"<HIGH>\":\"high\", \"<LOW>\":\"low\", \"<CLOSE>\":\"close\",\"<VOL>\":\"volume\"}, inplace=True)\n",
        "print(df.shape, df.columns)\n",
        "df['date']=pd.to_datetime(df['date'], format='%Y%m%d')\n",
        "df=df.drop('time', 1)\n",
        "print(df.shape, df.columns)"
      ],
      "execution_count": 3,
      "outputs": [
        {
          "output_type": "stream",
          "name": "stdout",
          "text": [
            "(4997, 7) Index(['<DATE>', '<TIME>', '<OPEN>', '<HIGH>', '<LOW>', '<CLOSE>', '<VOL>'], dtype='object')\n",
            "(4997, 7) Index(['date', 'time', 'open', 'high', 'low', 'close', 'volume'], dtype='object')\n",
            "(4997, 6) Index(['date', 'open', 'high', 'low', 'close', 'volume'], dtype='object')\n"
          ]
        }
      ]
    },
    {
      "cell_type": "code",
      "metadata": {
        "colab": {
          "base_uri": "https://localhost:8080/",
          "height": 423
        },
        "id": "KH_MPEdKlEVS",
        "outputId": "489e53b7-94bf-475d-a877-d69d66119528"
      },
      "source": [
        "df"
      ],
      "execution_count": 4,
      "outputs": [
        {
          "output_type": "execute_result",
          "data": {
            "text/html": [
              "\n",
              "  <div id=\"df-90bc1a6d-1f7e-4894-90e0-c39335fc4703\">\n",
              "    <div class=\"colab-df-container\">\n",
              "      <div>\n",
              "<style scoped>\n",
              "    .dataframe tbody tr th:only-of-type {\n",
              "        vertical-align: middle;\n",
              "    }\n",
              "\n",
              "    .dataframe tbody tr th {\n",
              "        vertical-align: top;\n",
              "    }\n",
              "\n",
              "    .dataframe thead th {\n",
              "        text-align: right;\n",
              "    }\n",
              "</style>\n",
              "<table border=\"1\" class=\"dataframe\">\n",
              "  <thead>\n",
              "    <tr style=\"text-align: right;\">\n",
              "      <th></th>\n",
              "      <th>date</th>\n",
              "      <th>open</th>\n",
              "      <th>high</th>\n",
              "      <th>low</th>\n",
              "      <th>close</th>\n",
              "      <th>volume</th>\n",
              "    </tr>\n",
              "  </thead>\n",
              "  <tbody>\n",
              "    <tr>\n",
              "      <th>0</th>\n",
              "      <td>2001-10-31</td>\n",
              "      <td>379.00</td>\n",
              "      <td>379.00</td>\n",
              "      <td>366.00</td>\n",
              "      <td>366.01</td>\n",
              "      <td>1200</td>\n",
              "    </tr>\n",
              "    <tr>\n",
              "      <th>1</th>\n",
              "      <td>2001-11-01</td>\n",
              "      <td>371.99</td>\n",
              "      <td>378.66</td>\n",
              "      <td>371.99</td>\n",
              "      <td>378.45</td>\n",
              "      <td>7725</td>\n",
              "    </tr>\n",
              "    <tr>\n",
              "      <th>2</th>\n",
              "      <td>2001-11-02</td>\n",
              "      <td>380.01</td>\n",
              "      <td>382.00</td>\n",
              "      <td>362.00</td>\n",
              "      <td>365.00</td>\n",
              "      <td>21666</td>\n",
              "    </tr>\n",
              "    <tr>\n",
              "      <th>3</th>\n",
              "      <td>2001-11-05</td>\n",
              "      <td>364.00</td>\n",
              "      <td>373.50</td>\n",
              "      <td>358.00</td>\n",
              "      <td>365.00</td>\n",
              "      <td>44998</td>\n",
              "    </tr>\n",
              "    <tr>\n",
              "      <th>4</th>\n",
              "      <td>2001-11-06</td>\n",
              "      <td>367.00</td>\n",
              "      <td>370.00</td>\n",
              "      <td>350.00</td>\n",
              "      <td>355.00</td>\n",
              "      <td>10174</td>\n",
              "    </tr>\n",
              "    <tr>\n",
              "      <th>...</th>\n",
              "      <td>...</td>\n",
              "      <td>...</td>\n",
              "      <td>...</td>\n",
              "      <td>...</td>\n",
              "      <td>...</td>\n",
              "      <td>...</td>\n",
              "    </tr>\n",
              "    <tr>\n",
              "      <th>4992</th>\n",
              "      <td>2021-10-15</td>\n",
              "      <td>22950.00</td>\n",
              "      <td>23124.00</td>\n",
              "      <td>22762.00</td>\n",
              "      <td>23108.00</td>\n",
              "      <td>244687</td>\n",
              "    </tr>\n",
              "    <tr>\n",
              "      <th>4993</th>\n",
              "      <td>2021-10-18</td>\n",
              "      <td>23122.00</td>\n",
              "      <td>23178.00</td>\n",
              "      <td>22974.00</td>\n",
              "      <td>23120.00</td>\n",
              "      <td>151319</td>\n",
              "    </tr>\n",
              "    <tr>\n",
              "      <th>4994</th>\n",
              "      <td>2021-10-19</td>\n",
              "      <td>23200.00</td>\n",
              "      <td>23700.00</td>\n",
              "      <td>23166.00</td>\n",
              "      <td>23672.00</td>\n",
              "      <td>344539</td>\n",
              "    </tr>\n",
              "    <tr>\n",
              "      <th>4995</th>\n",
              "      <td>2021-10-20</td>\n",
              "      <td>23680.00</td>\n",
              "      <td>23698.00</td>\n",
              "      <td>23190.00</td>\n",
              "      <td>23530.00</td>\n",
              "      <td>263589</td>\n",
              "    </tr>\n",
              "    <tr>\n",
              "      <th>4996</th>\n",
              "      <td>2021-10-21</td>\n",
              "      <td>23494.00</td>\n",
              "      <td>23518.00</td>\n",
              "      <td>23148.00</td>\n",
              "      <td>23210.00</td>\n",
              "      <td>166968</td>\n",
              "    </tr>\n",
              "  </tbody>\n",
              "</table>\n",
              "<p>4997 rows × 6 columns</p>\n",
              "</div>\n",
              "      <button class=\"colab-df-convert\" onclick=\"convertToInteractive('df-90bc1a6d-1f7e-4894-90e0-c39335fc4703')\"\n",
              "              title=\"Convert this dataframe to an interactive table.\"\n",
              "              style=\"display:none;\">\n",
              "        \n",
              "  <svg xmlns=\"http://www.w3.org/2000/svg\" height=\"24px\"viewBox=\"0 0 24 24\"\n",
              "       width=\"24px\">\n",
              "    <path d=\"M0 0h24v24H0V0z\" fill=\"none\"/>\n",
              "    <path d=\"M18.56 5.44l.94 2.06.94-2.06 2.06-.94-2.06-.94-.94-2.06-.94 2.06-2.06.94zm-11 1L8.5 8.5l.94-2.06 2.06-.94-2.06-.94L8.5 2.5l-.94 2.06-2.06.94zm10 10l.94 2.06.94-2.06 2.06-.94-2.06-.94-.94-2.06-.94 2.06-2.06.94z\"/><path d=\"M17.41 7.96l-1.37-1.37c-.4-.4-.92-.59-1.43-.59-.52 0-1.04.2-1.43.59L10.3 9.45l-7.72 7.72c-.78.78-.78 2.05 0 2.83L4 21.41c.39.39.9.59 1.41.59.51 0 1.02-.2 1.41-.59l7.78-7.78 2.81-2.81c.8-.78.8-2.07 0-2.86zM5.41 20L4 18.59l7.72-7.72 1.47 1.35L5.41 20z\"/>\n",
              "  </svg>\n",
              "      </button>\n",
              "      \n",
              "  <style>\n",
              "    .colab-df-container {\n",
              "      display:flex;\n",
              "      flex-wrap:wrap;\n",
              "      gap: 12px;\n",
              "    }\n",
              "\n",
              "    .colab-df-convert {\n",
              "      background-color: #E8F0FE;\n",
              "      border: none;\n",
              "      border-radius: 50%;\n",
              "      cursor: pointer;\n",
              "      display: none;\n",
              "      fill: #1967D2;\n",
              "      height: 32px;\n",
              "      padding: 0 0 0 0;\n",
              "      width: 32px;\n",
              "    }\n",
              "\n",
              "    .colab-df-convert:hover {\n",
              "      background-color: #E2EBFA;\n",
              "      box-shadow: 0px 1px 2px rgba(60, 64, 67, 0.3), 0px 1px 3px 1px rgba(60, 64, 67, 0.15);\n",
              "      fill: #174EA6;\n",
              "    }\n",
              "\n",
              "    [theme=dark] .colab-df-convert {\n",
              "      background-color: #3B4455;\n",
              "      fill: #D2E3FC;\n",
              "    }\n",
              "\n",
              "    [theme=dark] .colab-df-convert:hover {\n",
              "      background-color: #434B5C;\n",
              "      box-shadow: 0px 1px 3px 1px rgba(0, 0, 0, 0.15);\n",
              "      filter: drop-shadow(0px 1px 2px rgba(0, 0, 0, 0.3));\n",
              "      fill: #FFFFFF;\n",
              "    }\n",
              "  </style>\n",
              "\n",
              "      <script>\n",
              "        const buttonEl =\n",
              "          document.querySelector('#df-90bc1a6d-1f7e-4894-90e0-c39335fc4703 button.colab-df-convert');\n",
              "        buttonEl.style.display =\n",
              "          google.colab.kernel.accessAllowed ? 'block' : 'none';\n",
              "\n",
              "        async function convertToInteractive(key) {\n",
              "          const element = document.querySelector('#df-90bc1a6d-1f7e-4894-90e0-c39335fc4703');\n",
              "          const dataTable =\n",
              "            await google.colab.kernel.invokeFunction('convertToInteractive',\n",
              "                                                     [key], {});\n",
              "          if (!dataTable) return;\n",
              "\n",
              "          const docLinkHtml = 'Like what you see? Visit the ' +\n",
              "            '<a target=\"_blank\" href=https://colab.research.google.com/notebooks/data_table.ipynb>data table notebook</a>'\n",
              "            + ' to learn more about interactive tables.';\n",
              "          element.innerHTML = '';\n",
              "          dataTable['output_type'] = 'display_data';\n",
              "          await google.colab.output.renderOutput(dataTable, element);\n",
              "          const docLink = document.createElement('div');\n",
              "          docLink.innerHTML = docLinkHtml;\n",
              "          element.appendChild(docLink);\n",
              "        }\n",
              "      </script>\n",
              "    </div>\n",
              "  </div>\n",
              "  "
            ],
            "text/plain": [
              "           date      open      high       low     close  volume\n",
              "0    2001-10-31    379.00    379.00    366.00    366.01    1200\n",
              "1    2001-11-01    371.99    378.66    371.99    378.45    7725\n",
              "2    2001-11-02    380.01    382.00    362.00    365.00   21666\n",
              "3    2001-11-05    364.00    373.50    358.00    365.00   44998\n",
              "4    2001-11-06    367.00    370.00    350.00    355.00   10174\n",
              "...         ...       ...       ...       ...       ...     ...\n",
              "4992 2021-10-15  22950.00  23124.00  22762.00  23108.00  244687\n",
              "4993 2021-10-18  23122.00  23178.00  22974.00  23120.00  151319\n",
              "4994 2021-10-19  23200.00  23700.00  23166.00  23672.00  344539\n",
              "4995 2021-10-20  23680.00  23698.00  23190.00  23530.00  263589\n",
              "4996 2021-10-21  23494.00  23518.00  23148.00  23210.00  166968\n",
              "\n",
              "[4997 rows x 6 columns]"
            ]
          },
          "metadata": {},
          "execution_count": 4
        }
      ]
    },
    {
      "cell_type": "code",
      "metadata": {
        "colab": {
          "base_uri": "https://localhost:8080/"
        },
        "id": "O_9nw90fsu9P",
        "outputId": "26d853ca-99a8-4baf-ced8-0a6eb45896bf"
      },
      "source": [
        "print(df[\"date\"].min(), df[\"date\"].max(), df.shape)"
      ],
      "execution_count": 5,
      "outputs": [
        {
          "output_type": "stream",
          "name": "stdout",
          "text": [
            "2001-10-31 00:00:00 2021-10-21 00:00:00 (4997, 6)\n"
          ]
        }
      ]
    },
    {
      "cell_type": "code",
      "metadata": {
        "id": "PIOvrl28xPY_"
      },
      "source": [
        "#df01 - берем среднюю цену инструмента\n",
        "df01_middle = np.array((df[\"open\"]+df[\"close\"])/2)\n",
        "\n",
        "df01_high_minus_low = np.array(df[\"high\"]-df[\"low\"])\n",
        "df01_intraday_price_change_in_percent = np.array(df[\"close\"]/df[\"open\"]-1) #np.array(df[\"close\"]*100/df[\"open\"]-100)\n",
        "\n",
        "# берем \"вчерашнюю\" цену закрытия и \"сегодняшнюю\" цену закрытия - для учитывания взаимосвязи предыдущего дня\n",
        "df01_percent = np.array(df[\"close\"]*100/df[\"close\"].shift()-100)"
      ],
      "execution_count": 6,
      "outputs": []
    },
    {
      "cell_type": "code",
      "metadata": {
        "colab": {
          "base_uri": "https://localhost:8080/"
        },
        "id": "RssVIQl0yKSV",
        "outputId": "9d3b19ef-9959-4820-9c02-c4db1d00d5e7"
      },
      "source": [
        "df01_percent"
      ],
      "execution_count": 7,
      "outputs": [
        {
          "output_type": "execute_result",
          "data": {
            "text/plain": [
              "array([        nan,  3.39881424, -3.55397014, ...,  2.38754325,\n",
              "       -0.59986482, -1.359966  ])"
            ]
          },
          "metadata": {},
          "execution_count": 7
        }
      ]
    },
    {
      "cell_type": "code",
      "metadata": {
        "id": "Y8563qaJ2KlZ"
      },
      "source": [
        "#df02 - daily volume change in %\n",
        "# берем \"вчерашний\" объем и \"сегодняшний\" объем - для учитывания взаимосвязи предыдущего дня\n",
        "df02 = np.array(df[\"volume\"]*100/df[\"volume\"].shift()-100)"
      ],
      "execution_count": 8,
      "outputs": []
    },
    {
      "cell_type": "code",
      "metadata": {
        "colab": {
          "base_uri": "https://localhost:8080/"
        },
        "id": "2CJY4mSFBmP7",
        "outputId": "abd51b91-238d-4e11-9394-6fe4479d41c4"
      },
      "source": [
        "df02"
      ],
      "execution_count": 9,
      "outputs": [
        {
          "output_type": "execute_result",
          "data": {
            "text/plain": [
              "array([         nan, 543.75      , 180.46601942, ..., 127.69050813,\n",
              "       -23.4951631 , -36.65593026])"
            ]
          },
          "metadata": {},
          "execution_count": 9
        }
      ]
    },
    {
      "cell_type": "code",
      "metadata": {
        "colab": {
          "base_uri": "https://localhost:8080/"
        },
        "id": "mui1PpVAmLgI",
        "outputId": "e128b189-6737-407b-a4b2-611df2cebc97"
      },
      "source": [
        "df02.shape[0]"
      ],
      "execution_count": 10,
      "outputs": [
        {
          "output_type": "execute_result",
          "data": {
            "text/plain": [
              "4997"
            ]
          },
          "metadata": {},
          "execution_count": 10
        }
      ]
    },
    {
      "cell_type": "code",
      "metadata": {
        "id": "S8pkBZWbmClL"
      },
      "source": [
        "def calc_up_down(df):\n",
        "  _up = 0; df_up = []; _down = 0; df_down = [];\n",
        "  for i in range(1, df.shape[0]):\n",
        "    #calc _up\n",
        "    if df[i]>=df[i-1]:\n",
        "      _up += 1\n",
        "    else:\n",
        "      _up = 0\n",
        "    df_up = np.append(df_up, _up)\n",
        "    #calc _down\n",
        "    if df[i]<=df[i-1]:\n",
        "      _down += 1\n",
        "    else:\n",
        "      _down = 0\n",
        "    df_down = np.append(df_down, _down)\n",
        "    #print(_up, end=\" \")\n",
        "    df_up = np.array(df_up)\n",
        "    df_down = np.array(df_down)\n",
        "  return df_up, df_down\n",
        "\n",
        "df02_up, df02_down = calc_up_down(df02)\n"
      ],
      "execution_count": 11,
      "outputs": []
    },
    {
      "cell_type": "code",
      "metadata": {
        "colab": {
          "base_uri": "https://localhost:8080/"
        },
        "id": "VDB2O5ussPoZ",
        "outputId": "129acffb-b63d-4acf-9277-6bd320f04433"
      },
      "source": [
        "df02_up"
      ],
      "execution_count": 12,
      "outputs": [
        {
          "output_type": "execute_result",
          "data": {
            "text/plain": [
              "array([0., 0., 0., ..., 1., 0., 0.])"
            ]
          },
          "metadata": {},
          "execution_count": 12
        }
      ]
    },
    {
      "cell_type": "code",
      "metadata": {
        "colab": {
          "base_uri": "https://localhost:8080/"
        },
        "id": "_TWTVodHsS0f",
        "outputId": "047784c3-e00b-4f33-e34b-1dd5305de142"
      },
      "source": [
        "df02_down"
      ],
      "execution_count": 13,
      "outputs": [
        {
          "output_type": "execute_result",
          "data": {
            "text/plain": [
              "array([0., 1., 2., ..., 0., 1., 2.])"
            ]
          },
          "metadata": {},
          "execution_count": 13
        }
      ]
    },
    {
      "cell_type": "code",
      "metadata": {
        "id": "XLqeKlT6tkcT"
      },
      "source": [
        "#df03 - MACD\n",
        "_fastperiod=12; _slowperiod=26; _signalperiod=9\n",
        "ms = abstract.MACD(df, fastperiod=_fastperiod, slowperiod=_slowperiod, signalperiod=_signalperiod)"
      ],
      "execution_count": 14,
      "outputs": []
    },
    {
      "cell_type": "code",
      "metadata": {
        "colab": {
          "base_uri": "https://localhost:8080/",
          "height": 423
        },
        "id": "IQWFkiSoDmKE",
        "outputId": "a2909739-7c98-484d-e5bc-7f5b5170fe6c"
      },
      "source": [
        "ms"
      ],
      "execution_count": 15,
      "outputs": [
        {
          "output_type": "execute_result",
          "data": {
            "text/html": [
              "\n",
              "  <div id=\"df-feb6a5ec-b331-451b-999a-a74debc8b3e6\">\n",
              "    <div class=\"colab-df-container\">\n",
              "      <div>\n",
              "<style scoped>\n",
              "    .dataframe tbody tr th:only-of-type {\n",
              "        vertical-align: middle;\n",
              "    }\n",
              "\n",
              "    .dataframe tbody tr th {\n",
              "        vertical-align: top;\n",
              "    }\n",
              "\n",
              "    .dataframe thead th {\n",
              "        text-align: right;\n",
              "    }\n",
              "</style>\n",
              "<table border=\"1\" class=\"dataframe\">\n",
              "  <thead>\n",
              "    <tr style=\"text-align: right;\">\n",
              "      <th></th>\n",
              "      <th>macd</th>\n",
              "      <th>macdsignal</th>\n",
              "      <th>macdhist</th>\n",
              "    </tr>\n",
              "  </thead>\n",
              "  <tbody>\n",
              "    <tr>\n",
              "      <th>0</th>\n",
              "      <td>NaN</td>\n",
              "      <td>NaN</td>\n",
              "      <td>NaN</td>\n",
              "    </tr>\n",
              "    <tr>\n",
              "      <th>1</th>\n",
              "      <td>NaN</td>\n",
              "      <td>NaN</td>\n",
              "      <td>NaN</td>\n",
              "    </tr>\n",
              "    <tr>\n",
              "      <th>2</th>\n",
              "      <td>NaN</td>\n",
              "      <td>NaN</td>\n",
              "      <td>NaN</td>\n",
              "    </tr>\n",
              "    <tr>\n",
              "      <th>3</th>\n",
              "      <td>NaN</td>\n",
              "      <td>NaN</td>\n",
              "      <td>NaN</td>\n",
              "    </tr>\n",
              "    <tr>\n",
              "      <th>4</th>\n",
              "      <td>NaN</td>\n",
              "      <td>NaN</td>\n",
              "      <td>NaN</td>\n",
              "    </tr>\n",
              "    <tr>\n",
              "      <th>...</th>\n",
              "      <td>...</td>\n",
              "      <td>...</td>\n",
              "      <td>...</td>\n",
              "    </tr>\n",
              "    <tr>\n",
              "      <th>4992</th>\n",
              "      <td>-232.027218</td>\n",
              "      <td>-402.360157</td>\n",
              "      <td>170.332939</td>\n",
              "    </tr>\n",
              "    <tr>\n",
              "      <th>4993</th>\n",
              "      <td>-175.370046</td>\n",
              "      <td>-356.962135</td>\n",
              "      <td>181.592089</td>\n",
              "    </tr>\n",
              "    <tr>\n",
              "      <th>4994</th>\n",
              "      <td>-84.947817</td>\n",
              "      <td>-302.559271</td>\n",
              "      <td>217.611454</td>\n",
              "    </tr>\n",
              "    <tr>\n",
              "      <th>4995</th>\n",
              "      <td>-24.463759</td>\n",
              "      <td>-246.940169</td>\n",
              "      <td>222.476409</td>\n",
              "    </tr>\n",
              "    <tr>\n",
              "      <th>4996</th>\n",
              "      <td>-2.324241</td>\n",
              "      <td>-198.016983</td>\n",
              "      <td>195.692742</td>\n",
              "    </tr>\n",
              "  </tbody>\n",
              "</table>\n",
              "<p>4997 rows × 3 columns</p>\n",
              "</div>\n",
              "      <button class=\"colab-df-convert\" onclick=\"convertToInteractive('df-feb6a5ec-b331-451b-999a-a74debc8b3e6')\"\n",
              "              title=\"Convert this dataframe to an interactive table.\"\n",
              "              style=\"display:none;\">\n",
              "        \n",
              "  <svg xmlns=\"http://www.w3.org/2000/svg\" height=\"24px\"viewBox=\"0 0 24 24\"\n",
              "       width=\"24px\">\n",
              "    <path d=\"M0 0h24v24H0V0z\" fill=\"none\"/>\n",
              "    <path d=\"M18.56 5.44l.94 2.06.94-2.06 2.06-.94-2.06-.94-.94-2.06-.94 2.06-2.06.94zm-11 1L8.5 8.5l.94-2.06 2.06-.94-2.06-.94L8.5 2.5l-.94 2.06-2.06.94zm10 10l.94 2.06.94-2.06 2.06-.94-2.06-.94-.94-2.06-.94 2.06-2.06.94z\"/><path d=\"M17.41 7.96l-1.37-1.37c-.4-.4-.92-.59-1.43-.59-.52 0-1.04.2-1.43.59L10.3 9.45l-7.72 7.72c-.78.78-.78 2.05 0 2.83L4 21.41c.39.39.9.59 1.41.59.51 0 1.02-.2 1.41-.59l7.78-7.78 2.81-2.81c.8-.78.8-2.07 0-2.86zM5.41 20L4 18.59l7.72-7.72 1.47 1.35L5.41 20z\"/>\n",
              "  </svg>\n",
              "      </button>\n",
              "      \n",
              "  <style>\n",
              "    .colab-df-container {\n",
              "      display:flex;\n",
              "      flex-wrap:wrap;\n",
              "      gap: 12px;\n",
              "    }\n",
              "\n",
              "    .colab-df-convert {\n",
              "      background-color: #E8F0FE;\n",
              "      border: none;\n",
              "      border-radius: 50%;\n",
              "      cursor: pointer;\n",
              "      display: none;\n",
              "      fill: #1967D2;\n",
              "      height: 32px;\n",
              "      padding: 0 0 0 0;\n",
              "      width: 32px;\n",
              "    }\n",
              "\n",
              "    .colab-df-convert:hover {\n",
              "      background-color: #E2EBFA;\n",
              "      box-shadow: 0px 1px 2px rgba(60, 64, 67, 0.3), 0px 1px 3px 1px rgba(60, 64, 67, 0.15);\n",
              "      fill: #174EA6;\n",
              "    }\n",
              "\n",
              "    [theme=dark] .colab-df-convert {\n",
              "      background-color: #3B4455;\n",
              "      fill: #D2E3FC;\n",
              "    }\n",
              "\n",
              "    [theme=dark] .colab-df-convert:hover {\n",
              "      background-color: #434B5C;\n",
              "      box-shadow: 0px 1px 3px 1px rgba(0, 0, 0, 0.15);\n",
              "      filter: drop-shadow(0px 1px 2px rgba(0, 0, 0, 0.3));\n",
              "      fill: #FFFFFF;\n",
              "    }\n",
              "  </style>\n",
              "\n",
              "      <script>\n",
              "        const buttonEl =\n",
              "          document.querySelector('#df-feb6a5ec-b331-451b-999a-a74debc8b3e6 button.colab-df-convert');\n",
              "        buttonEl.style.display =\n",
              "          google.colab.kernel.accessAllowed ? 'block' : 'none';\n",
              "\n",
              "        async function convertToInteractive(key) {\n",
              "          const element = document.querySelector('#df-feb6a5ec-b331-451b-999a-a74debc8b3e6');\n",
              "          const dataTable =\n",
              "            await google.colab.kernel.invokeFunction('convertToInteractive',\n",
              "                                                     [key], {});\n",
              "          if (!dataTable) return;\n",
              "\n",
              "          const docLinkHtml = 'Like what you see? Visit the ' +\n",
              "            '<a target=\"_blank\" href=https://colab.research.google.com/notebooks/data_table.ipynb>data table notebook</a>'\n",
              "            + ' to learn more about interactive tables.';\n",
              "          element.innerHTML = '';\n",
              "          dataTable['output_type'] = 'display_data';\n",
              "          await google.colab.output.renderOutput(dataTable, element);\n",
              "          const docLink = document.createElement('div');\n",
              "          docLink.innerHTML = docLinkHtml;\n",
              "          element.appendChild(docLink);\n",
              "        }\n",
              "      </script>\n",
              "    </div>\n",
              "  </div>\n",
              "  "
            ],
            "text/plain": [
              "            macd  macdsignal    macdhist\n",
              "0            NaN         NaN         NaN\n",
              "1            NaN         NaN         NaN\n",
              "2            NaN         NaN         NaN\n",
              "3            NaN         NaN         NaN\n",
              "4            NaN         NaN         NaN\n",
              "...          ...         ...         ...\n",
              "4992 -232.027218 -402.360157  170.332939\n",
              "4993 -175.370046 -356.962135  181.592089\n",
              "4994  -84.947817 -302.559271  217.611454\n",
              "4995  -24.463759 -246.940169  222.476409\n",
              "4996   -2.324241 -198.016983  195.692742\n",
              "\n",
              "[4997 rows x 3 columns]"
            ]
          },
          "metadata": {},
          "execution_count": 15
        }
      ]
    },
    {
      "cell_type": "code",
      "metadata": {
        "id": "398SZk4vDkP1"
      },
      "source": [
        "df03 = np.array(ms['macd'])"
      ],
      "execution_count": 16,
      "outputs": []
    },
    {
      "cell_type": "code",
      "metadata": {
        "colab": {
          "base_uri": "https://localhost:8080/"
        },
        "id": "8CiQjs1dDb4B",
        "outputId": "b6db537b-1a78-4eda-c888-6d3a29350e7b"
      },
      "source": [
        "df03"
      ],
      "execution_count": 17,
      "outputs": [
        {
          "output_type": "execute_result",
          "data": {
            "text/plain": [
              "array([         nan,          nan,          nan, ..., -84.94781699,\n",
              "       -24.46375924,  -2.32424095])"
            ]
          },
          "metadata": {},
          "execution_count": 17
        }
      ]
    },
    {
      "cell_type": "code",
      "metadata": {
        "id": "QU9_HOThDdKg"
      },
      "source": [
        "df03_up, df03_down = calc_up_down(df03)"
      ],
      "execution_count": 18,
      "outputs": []
    },
    {
      "cell_type": "code",
      "metadata": {
        "colab": {
          "base_uri": "https://localhost:8080/"
        },
        "id": "4zOFYPFHtzOR",
        "outputId": "bd3a35dc-a111-4058-9a1f-526ac99eda6a"
      },
      "source": [
        "df03_up"
      ],
      "execution_count": 19,
      "outputs": [
        {
          "output_type": "execute_result",
          "data": {
            "text/plain": [
              "array([ 0.,  0.,  0., ...,  9., 10., 11.])"
            ]
          },
          "metadata": {},
          "execution_count": 19
        }
      ]
    },
    {
      "cell_type": "code",
      "metadata": {
        "colab": {
          "base_uri": "https://localhost:8080/"
        },
        "id": "ZabufBU_tzQ1",
        "outputId": "e4d403ce-6cfa-448d-9531-2fcf499525b4"
      },
      "source": [
        "df03_down"
      ],
      "execution_count": 20,
      "outputs": [
        {
          "output_type": "execute_result",
          "data": {
            "text/plain": [
              "array([0., 0., 0., ..., 0., 0., 0.])"
            ]
          },
          "metadata": {},
          "execution_count": 20
        }
      ]
    },
    {
      "cell_type": "code",
      "metadata": {
        "id": "WqOFw0GB65YL"
      },
      "source": [
        "#df04 - Relative Strength Index (Momentum Indicators)\n",
        "_period_indicator = 50\n",
        "ms = abstract.RSI(df, timeperiod=_period_indicator)\n",
        "df04 = np.array(ms)"
      ],
      "execution_count": 21,
      "outputs": []
    },
    {
      "cell_type": "code",
      "metadata": {
        "colab": {
          "base_uri": "https://localhost:8080/"
        },
        "id": "KjSa0a2-65b2",
        "outputId": "254d4deb-7cdb-4781-d1ee-13acc3d69a21"
      },
      "source": [
        "df04"
      ],
      "execution_count": 22,
      "outputs": [
        {
          "output_type": "execute_result",
          "data": {
            "text/plain": [
              "array([        nan,         nan,         nan, ..., 48.96916331,\n",
              "       48.463264  , 47.33867695])"
            ]
          },
          "metadata": {},
          "execution_count": 22
        }
      ]
    },
    {
      "cell_type": "code",
      "metadata": {
        "id": "uOacU3ji65d4"
      },
      "source": [
        "df04_up, df04_down = calc_up_down(df04)"
      ],
      "execution_count": 23,
      "outputs": []
    },
    {
      "cell_type": "code",
      "metadata": {
        "colab": {
          "base_uri": "https://localhost:8080/"
        },
        "id": "xedODSTv65hk",
        "outputId": "80169f11-ecca-4128-91ce-bb6218a7af45"
      },
      "source": [
        "df04_up"
      ],
      "execution_count": 24,
      "outputs": [
        {
          "output_type": "execute_result",
          "data": {
            "text/plain": [
              "array([0., 0., 0., ..., 5., 0., 0.])"
            ]
          },
          "metadata": {},
          "execution_count": 24
        }
      ]
    },
    {
      "cell_type": "code",
      "metadata": {
        "colab": {
          "base_uri": "https://localhost:8080/"
        },
        "id": "9-Ggm6m065jO",
        "outputId": "29a3d06f-f0ba-4656-d878-9226b17abf19"
      },
      "source": [
        "df04_down"
      ],
      "execution_count": 25,
      "outputs": [
        {
          "output_type": "execute_result",
          "data": {
            "text/plain": [
              "array([0., 0., 0., ..., 0., 1., 2.])"
            ]
          },
          "metadata": {},
          "execution_count": 25
        }
      ]
    },
    {
      "cell_type": "code",
      "metadata": {
        "id": "qB2tFQmz65nJ"
      },
      "source": [
        ""
      ],
      "execution_count": 25,
      "outputs": []
    },
    {
      "cell_type": "code",
      "metadata": {
        "id": "ZYlqy1q065oa"
      },
      "source": [
        ""
      ],
      "execution_count": 25,
      "outputs": []
    },
    {
      "cell_type": "code",
      "metadata": {
        "id": "De5-EhbgtzUT"
      },
      "source": [
        "#df06 - Money Flow Index (Momentum Indicators)\n",
        "_period_indicator = 14\n",
        "ms = abstract.MFI(df, timeperiod=_period_indicator)\n",
        "df06 = np.array(ms)"
      ],
      "execution_count": 26,
      "outputs": []
    },
    {
      "cell_type": "code",
      "metadata": {
        "colab": {
          "base_uri": "https://localhost:8080/"
        },
        "id": "cQwxk6Qb6g2a",
        "outputId": "e57e8455-fe01-4d3c-8921-ecb5aa7af81e"
      },
      "source": [
        "df06"
      ],
      "execution_count": 27,
      "outputs": [
        {
          "output_type": "execute_result",
          "data": {
            "text/plain": [
              "array([        nan,         nan,         nan, ..., 66.40019543,\n",
              "       68.56538338, 63.97733899])"
            ]
          },
          "metadata": {},
          "execution_count": 27
        }
      ]
    },
    {
      "cell_type": "code",
      "metadata": {
        "id": "_lsfYzkq6g5r"
      },
      "source": [
        "df06_up, df06_down = calc_up_down(df06)"
      ],
      "execution_count": 28,
      "outputs": []
    },
    {
      "cell_type": "code",
      "metadata": {
        "colab": {
          "base_uri": "https://localhost:8080/"
        },
        "id": "Y8HsT2b96g8N",
        "outputId": "b110add0-4632-467f-c241-d19b3282e9e2"
      },
      "source": [
        "df06_up"
      ],
      "execution_count": 29,
      "outputs": [
        {
          "output_type": "execute_result",
          "data": {
            "text/plain": [
              "array([0., 0., 0., ..., 4., 5., 0.])"
            ]
          },
          "metadata": {},
          "execution_count": 29
        }
      ]
    },
    {
      "cell_type": "code",
      "metadata": {
        "colab": {
          "base_uri": "https://localhost:8080/"
        },
        "id": "N73p_L1Y6hC_",
        "outputId": "d2bd858c-be2f-4313-e827-2e05efab46d3"
      },
      "source": [
        "df06_down"
      ],
      "execution_count": 30,
      "outputs": [
        {
          "output_type": "execute_result",
          "data": {
            "text/plain": [
              "array([0., 0., 0., ..., 0., 0., 1.])"
            ]
          },
          "metadata": {},
          "execution_count": 30
        }
      ]
    },
    {
      "cell_type": "code",
      "metadata": {
        "id": "fqdfCjX16vZI"
      },
      "source": [
        ""
      ],
      "execution_count": 30,
      "outputs": []
    },
    {
      "cell_type": "code",
      "metadata": {
        "id": "VfkM85wT6vjD"
      },
      "source": [
        "#df10 - Average True Range (Volatility Indicators)\n",
        "_period_indicator = 14\n",
        "ms = abstract.ATR(df, timeperiod=_period_indicator)\n",
        "df10 = np.array(ms)"
      ],
      "execution_count": 31,
      "outputs": []
    },
    {
      "cell_type": "code",
      "metadata": {
        "colab": {
          "base_uri": "https://localhost:8080/"
        },
        "id": "--8UEGLp6vmY",
        "outputId": "c5d3967e-2d66-4034-8422-aa7570b40a65"
      },
      "source": [
        "df10"
      ],
      "execution_count": 32,
      "outputs": [
        {
          "output_type": "execute_result",
          "data": {
            "text/plain": [
              "array([         nan,          nan,          nan, ..., 504.17849772,\n",
              "       504.45146217, 495.70492916])"
            ]
          },
          "metadata": {},
          "execution_count": 32
        }
      ]
    },
    {
      "cell_type": "code",
      "metadata": {
        "id": "n3DSVtP_6voQ"
      },
      "source": [
        "df10_up, df10_down = calc_up_down(df10)"
      ],
      "execution_count": 33,
      "outputs": []
    },
    {
      "cell_type": "code",
      "metadata": {
        "colab": {
          "base_uri": "https://localhost:8080/"
        },
        "id": "cE5qs-A56vrg",
        "outputId": "1c44f8aa-19ff-4e8c-8a29-e65a3e8ba431"
      },
      "source": [
        "df10_up"
      ],
      "execution_count": 34,
      "outputs": [
        {
          "output_type": "execute_result",
          "data": {
            "text/plain": [
              "array([0., 0., 0., ..., 1., 2., 0.])"
            ]
          },
          "metadata": {},
          "execution_count": 34
        }
      ]
    },
    {
      "cell_type": "code",
      "metadata": {
        "colab": {
          "base_uri": "https://localhost:8080/"
        },
        "id": "UB7Y9EKp6vtc",
        "outputId": "77a24f66-d87f-480e-d742-c6a2815e62f6"
      },
      "source": [
        "df10_down"
      ],
      "execution_count": 35,
      "outputs": [
        {
          "output_type": "execute_result",
          "data": {
            "text/plain": [
              "array([0., 0., 0., ..., 0., 0., 1.])"
            ]
          },
          "metadata": {},
          "execution_count": 35
        }
      ]
    },
    {
      "cell_type": "code",
      "metadata": {
        "id": "uQdj2NZe6vwt"
      },
      "source": [
        "#Price% df01_percent                \n",
        "#Volume% df02_up, df02_down\n",
        "#MACD df03_up, df03_down\n",
        "#RSI df04_up, df04_down\n",
        "#MFI df06_up, df06_down\n",
        "#ATR df10_up, df10_down"
      ],
      "execution_count": 36,
      "outputs": []
    },
    {
      "cell_type": "code",
      "metadata": {
        "id": "IbuHPN2P8Ehs"
      },
      "source": [
        "from datetime import timedelta\n",
        "data_1_yr = df[df[\"date\"] > df[\"date\"].max() - timedelta(days=365)]"
      ],
      "execution_count": 37,
      "outputs": []
    },
    {
      "cell_type": "code",
      "metadata": {
        "colab": {
          "base_uri": "https://localhost:8080/",
          "height": 423
        },
        "id": "RAOQ4V8w8oew",
        "outputId": "0f8b5701-6195-4b29-bebc-5c40615b3f3f"
      },
      "source": [
        "data_1_yr"
      ],
      "execution_count": 38,
      "outputs": [
        {
          "output_type": "execute_result",
          "data": {
            "text/html": [
              "\n",
              "  <div id=\"df-d428076f-ed39-4c9c-98fc-11cc4c121ca7\">\n",
              "    <div class=\"colab-df-container\">\n",
              "      <div>\n",
              "<style scoped>\n",
              "    .dataframe tbody tr th:only-of-type {\n",
              "        vertical-align: middle;\n",
              "    }\n",
              "\n",
              "    .dataframe tbody tr th {\n",
              "        vertical-align: top;\n",
              "    }\n",
              "\n",
              "    .dataframe thead th {\n",
              "        text-align: right;\n",
              "    }\n",
              "</style>\n",
              "<table border=\"1\" class=\"dataframe\">\n",
              "  <thead>\n",
              "    <tr style=\"text-align: right;\">\n",
              "      <th></th>\n",
              "      <th>date</th>\n",
              "      <th>open</th>\n",
              "      <th>high</th>\n",
              "      <th>low</th>\n",
              "      <th>close</th>\n",
              "      <th>volume</th>\n",
              "    </tr>\n",
              "  </thead>\n",
              "  <tbody>\n",
              "    <tr>\n",
              "      <th>4742</th>\n",
              "      <td>2020-10-22</td>\n",
              "      <td>19788.0</td>\n",
              "      <td>19850.0</td>\n",
              "      <td>19504.0</td>\n",
              "      <td>19672.0</td>\n",
              "      <td>251474</td>\n",
              "    </tr>\n",
              "    <tr>\n",
              "      <th>4743</th>\n",
              "      <td>2020-10-23</td>\n",
              "      <td>19716.0</td>\n",
              "      <td>19966.0</td>\n",
              "      <td>19540.0</td>\n",
              "      <td>19838.0</td>\n",
              "      <td>198802</td>\n",
              "    </tr>\n",
              "    <tr>\n",
              "      <th>4744</th>\n",
              "      <td>2020-10-26</td>\n",
              "      <td>19780.0</td>\n",
              "      <td>19838.0</td>\n",
              "      <td>19420.0</td>\n",
              "      <td>19514.0</td>\n",
              "      <td>280332</td>\n",
              "    </tr>\n",
              "    <tr>\n",
              "      <th>4745</th>\n",
              "      <td>2020-10-27</td>\n",
              "      <td>19512.0</td>\n",
              "      <td>19526.0</td>\n",
              "      <td>19100.0</td>\n",
              "      <td>19150.0</td>\n",
              "      <td>293221</td>\n",
              "    </tr>\n",
              "    <tr>\n",
              "      <th>4746</th>\n",
              "      <td>2020-10-28</td>\n",
              "      <td>19104.0</td>\n",
              "      <td>19210.0</td>\n",
              "      <td>18400.0</td>\n",
              "      <td>18548.0</td>\n",
              "      <td>377170</td>\n",
              "    </tr>\n",
              "    <tr>\n",
              "      <th>...</th>\n",
              "      <td>...</td>\n",
              "      <td>...</td>\n",
              "      <td>...</td>\n",
              "      <td>...</td>\n",
              "      <td>...</td>\n",
              "      <td>...</td>\n",
              "    </tr>\n",
              "    <tr>\n",
              "      <th>4992</th>\n",
              "      <td>2021-10-15</td>\n",
              "      <td>22950.0</td>\n",
              "      <td>23124.0</td>\n",
              "      <td>22762.0</td>\n",
              "      <td>23108.0</td>\n",
              "      <td>244687</td>\n",
              "    </tr>\n",
              "    <tr>\n",
              "      <th>4993</th>\n",
              "      <td>2021-10-18</td>\n",
              "      <td>23122.0</td>\n",
              "      <td>23178.0</td>\n",
              "      <td>22974.0</td>\n",
              "      <td>23120.0</td>\n",
              "      <td>151319</td>\n",
              "    </tr>\n",
              "    <tr>\n",
              "      <th>4994</th>\n",
              "      <td>2021-10-19</td>\n",
              "      <td>23200.0</td>\n",
              "      <td>23700.0</td>\n",
              "      <td>23166.0</td>\n",
              "      <td>23672.0</td>\n",
              "      <td>344539</td>\n",
              "    </tr>\n",
              "    <tr>\n",
              "      <th>4995</th>\n",
              "      <td>2021-10-20</td>\n",
              "      <td>23680.0</td>\n",
              "      <td>23698.0</td>\n",
              "      <td>23190.0</td>\n",
              "      <td>23530.0</td>\n",
              "      <td>263589</td>\n",
              "    </tr>\n",
              "    <tr>\n",
              "      <th>4996</th>\n",
              "      <td>2021-10-21</td>\n",
              "      <td>23494.0</td>\n",
              "      <td>23518.0</td>\n",
              "      <td>23148.0</td>\n",
              "      <td>23210.0</td>\n",
              "      <td>166968</td>\n",
              "    </tr>\n",
              "  </tbody>\n",
              "</table>\n",
              "<p>255 rows × 6 columns</p>\n",
              "</div>\n",
              "      <button class=\"colab-df-convert\" onclick=\"convertToInteractive('df-d428076f-ed39-4c9c-98fc-11cc4c121ca7')\"\n",
              "              title=\"Convert this dataframe to an interactive table.\"\n",
              "              style=\"display:none;\">\n",
              "        \n",
              "  <svg xmlns=\"http://www.w3.org/2000/svg\" height=\"24px\"viewBox=\"0 0 24 24\"\n",
              "       width=\"24px\">\n",
              "    <path d=\"M0 0h24v24H0V0z\" fill=\"none\"/>\n",
              "    <path d=\"M18.56 5.44l.94 2.06.94-2.06 2.06-.94-2.06-.94-.94-2.06-.94 2.06-2.06.94zm-11 1L8.5 8.5l.94-2.06 2.06-.94-2.06-.94L8.5 2.5l-.94 2.06-2.06.94zm10 10l.94 2.06.94-2.06 2.06-.94-2.06-.94-.94-2.06-.94 2.06-2.06.94z\"/><path d=\"M17.41 7.96l-1.37-1.37c-.4-.4-.92-.59-1.43-.59-.52 0-1.04.2-1.43.59L10.3 9.45l-7.72 7.72c-.78.78-.78 2.05 0 2.83L4 21.41c.39.39.9.59 1.41.59.51 0 1.02-.2 1.41-.59l7.78-7.78 2.81-2.81c.8-.78.8-2.07 0-2.86zM5.41 20L4 18.59l7.72-7.72 1.47 1.35L5.41 20z\"/>\n",
              "  </svg>\n",
              "      </button>\n",
              "      \n",
              "  <style>\n",
              "    .colab-df-container {\n",
              "      display:flex;\n",
              "      flex-wrap:wrap;\n",
              "      gap: 12px;\n",
              "    }\n",
              "\n",
              "    .colab-df-convert {\n",
              "      background-color: #E8F0FE;\n",
              "      border: none;\n",
              "      border-radius: 50%;\n",
              "      cursor: pointer;\n",
              "      display: none;\n",
              "      fill: #1967D2;\n",
              "      height: 32px;\n",
              "      padding: 0 0 0 0;\n",
              "      width: 32px;\n",
              "    }\n",
              "\n",
              "    .colab-df-convert:hover {\n",
              "      background-color: #E2EBFA;\n",
              "      box-shadow: 0px 1px 2px rgba(60, 64, 67, 0.3), 0px 1px 3px 1px rgba(60, 64, 67, 0.15);\n",
              "      fill: #174EA6;\n",
              "    }\n",
              "\n",
              "    [theme=dark] .colab-df-convert {\n",
              "      background-color: #3B4455;\n",
              "      fill: #D2E3FC;\n",
              "    }\n",
              "\n",
              "    [theme=dark] .colab-df-convert:hover {\n",
              "      background-color: #434B5C;\n",
              "      box-shadow: 0px 1px 3px 1px rgba(0, 0, 0, 0.15);\n",
              "      filter: drop-shadow(0px 1px 2px rgba(0, 0, 0, 0.3));\n",
              "      fill: #FFFFFF;\n",
              "    }\n",
              "  </style>\n",
              "\n",
              "      <script>\n",
              "        const buttonEl =\n",
              "          document.querySelector('#df-d428076f-ed39-4c9c-98fc-11cc4c121ca7 button.colab-df-convert');\n",
              "        buttonEl.style.display =\n",
              "          google.colab.kernel.accessAllowed ? 'block' : 'none';\n",
              "\n",
              "        async function convertToInteractive(key) {\n",
              "          const element = document.querySelector('#df-d428076f-ed39-4c9c-98fc-11cc4c121ca7');\n",
              "          const dataTable =\n",
              "            await google.colab.kernel.invokeFunction('convertToInteractive',\n",
              "                                                     [key], {});\n",
              "          if (!dataTable) return;\n",
              "\n",
              "          const docLinkHtml = 'Like what you see? Visit the ' +\n",
              "            '<a target=\"_blank\" href=https://colab.research.google.com/notebooks/data_table.ipynb>data table notebook</a>'\n",
              "            + ' to learn more about interactive tables.';\n",
              "          element.innerHTML = '';\n",
              "          dataTable['output_type'] = 'display_data';\n",
              "          await google.colab.output.renderOutput(dataTable, element);\n",
              "          const docLink = document.createElement('div');\n",
              "          docLink.innerHTML = docLinkHtml;\n",
              "          element.appendChild(docLink);\n",
              "        }\n",
              "      </script>\n",
              "    </div>\n",
              "  </div>\n",
              "  "
            ],
            "text/plain": [
              "           date     open     high      low    close  volume\n",
              "4742 2020-10-22  19788.0  19850.0  19504.0  19672.0  251474\n",
              "4743 2020-10-23  19716.0  19966.0  19540.0  19838.0  198802\n",
              "4744 2020-10-26  19780.0  19838.0  19420.0  19514.0  280332\n",
              "4745 2020-10-27  19512.0  19526.0  19100.0  19150.0  293221\n",
              "4746 2020-10-28  19104.0  19210.0  18400.0  18548.0  377170\n",
              "...         ...      ...      ...      ...      ...     ...\n",
              "4992 2021-10-15  22950.0  23124.0  22762.0  23108.0  244687\n",
              "4993 2021-10-18  23122.0  23178.0  22974.0  23120.0  151319\n",
              "4994 2021-10-19  23200.0  23700.0  23166.0  23672.0  344539\n",
              "4995 2021-10-20  23680.0  23698.0  23190.0  23530.0  263589\n",
              "4996 2021-10-21  23494.0  23518.0  23148.0  23210.0  166968\n",
              "\n",
              "[255 rows x 6 columns]"
            ]
          },
          "metadata": {},
          "execution_count": 38
        }
      ]
    },
    {
      "cell_type": "code",
      "metadata": {
        "id": "MBbrouiN8oiV"
      },
      "source": [
        "train_size = int(data_1_yr.shape[0]*0.8)\n",
        "train_data = data_1_yr.iloc[:train_size]\n",
        "validate_data = data_1_yr.iloc[train_size:]"
      ],
      "execution_count": 39,
      "outputs": []
    },
    {
      "cell_type": "code",
      "metadata": {
        "colab": {
          "base_uri": "https://localhost:8080/"
        },
        "id": "unVNOnzR8okA",
        "outputId": "056ab514-d0da-4b5b-9362-758fe35b8153"
      },
      "source": [
        "train_data.shape, validate_data.shape"
      ],
      "execution_count": 40,
      "outputs": [
        {
          "output_type": "execute_result",
          "data": {
            "text/plain": [
              "((204, 6), (51, 6))"
            ]
          },
          "metadata": {},
          "execution_count": 40
        }
      ]
    },
    {
      "cell_type": "code",
      "metadata": {
        "colab": {
          "base_uri": "https://localhost:8080/"
        },
        "id": "bIjx2w3L8on2",
        "outputId": "2d782ba4-d0b3-44d4-9e4a-a83c0814e1f2"
      },
      "source": [
        "train_data[\"date\"].min(), train_data[\"date\"].max()"
      ],
      "execution_count": 41,
      "outputs": [
        {
          "output_type": "execute_result",
          "data": {
            "text/plain": [
              "(Timestamp('2020-10-22 00:00:00'), Timestamp('2021-08-11 00:00:00'))"
            ]
          },
          "metadata": {},
          "execution_count": 41
        }
      ]
    },
    {
      "cell_type": "code",
      "metadata": {
        "colab": {
          "base_uri": "https://localhost:8080/"
        },
        "id": "Gsry00NG8Etf",
        "outputId": "a573ffcd-fac0-48a1-9964-551fb2838f96"
      },
      "source": [
        "validate_data[\"date\"].min(), validate_data[\"date\"].max()"
      ],
      "execution_count": 42,
      "outputs": [
        {
          "output_type": "execute_result",
          "data": {
            "text/plain": [
              "(Timestamp('2021-08-12 00:00:00'), Timestamp('2021-10-21 00:00:00'))"
            ]
          },
          "metadata": {},
          "execution_count": 42
        }
      ]
    },
    {
      "cell_type": "code",
      "metadata": {
        "id": "WbOVoAVh8Exx"
      },
      "source": [
        "import tensorflow as tf\n",
        "from sklearn.preprocessing import StandardScaler\n",
        "from sklearn.metrics import mean_absolute_error\n",
        "\n",
        "scaler = StandardScaler()\n",
        "scaler.fit(train_data[[\"close\"]])\n",
        "\n",
        "def make_dataset(\n",
        "    df,                 #данные для создания датасета\n",
        "    window_size,        #кол. элементов для предсказания след. элемента\n",
        "    batch_size,         #кол. элементов в batch для обучения\n",
        "    use_scaler=True,    #использовать ли Scaler для нормализации свечей\n",
        "    shuffle=True        #смешивать элементы в датасете или нет\n",
        "):\n",
        "  features = df[[\"close\"]].iloc[:-window_size]      #-N предыдущих элементов как фичи, поэтому вычитаем\n",
        "  print(features)\n",
        "  print(df[\"close\"].iloc[window_size:])\n",
        "  if use_scaler:                                  #нормализуем фичи, если нужно\n",
        "    features=scaler.transform(features)\n",
        "  data = np.array(features, dtype=np.float32)     #приводим данные к нужному типу\n",
        "  ds = tf.keras.preprocessing.timeseries_dataset_from_array(    #создание датасета с временным рядом для обучения НС\n",
        "      data=data,                                  #принимает многомерный массив, кот. содержит фичи\n",
        "      targets=df[\"close\"].iloc[window_size:],       #принимает лейблы, которые нужно сдвинуть на +N элементов\n",
        "                                                  #т.е. для каждых N элементов из фичей будем иметь N+1 элемент как лейбл\n",
        "      sequence_length=window_size,                #принимает длину нашей последовательности window_size\n",
        "      sequence_stride=1,                          #на сколько нужно сдвигать элемент для создания нового семпла, т.е. предсказываем каждый след. элемент\n",
        "      shuffle=shuffle,                            #нужно ли перемешивать элементы\n",
        "      batch_size=batch_size                       #какой размер батча\n",
        "  )\n",
        "  return ds\n"
      ],
      "execution_count": 43,
      "outputs": []
    },
    {
      "cell_type": "code",
      "metadata": {
        "colab": {
          "base_uri": "https://localhost:8080/"
        },
        "id": "8B7XbdkJ8E1J",
        "outputId": "58f85dad-4389-49c6-cd08-ba440b43c7dd"
      },
      "source": [
        "example_ds = make_dataset(df=train_data, window_size=3, batch_size=2, use_scaler=False, shuffle=False)"
      ],
      "execution_count": 44,
      "outputs": [
        {
          "output_type": "stream",
          "name": "stdout",
          "text": [
            "        close\n",
            "4742  19672.0\n",
            "4743  19838.0\n",
            "4744  19514.0\n",
            "4745  19150.0\n",
            "4746  18548.0\n",
            "...       ...\n",
            "4938  25290.0\n",
            "4939  25582.0\n",
            "4940  25446.0\n",
            "4941  25496.0\n",
            "4942  25102.0\n",
            "\n",
            "[201 rows x 1 columns]\n",
            "4745    19150.0\n",
            "4746    18548.0\n",
            "4747    18998.0\n",
            "4748    18864.0\n",
            "4749    19334.0\n",
            "         ...   \n",
            "4941    25496.0\n",
            "4942    25102.0\n",
            "4943    24870.0\n",
            "4944    24650.0\n",
            "4945    24528.0\n",
            "Name: close, Length: 201, dtype: float64\n"
          ]
        }
      ]
    },
    {
      "cell_type": "code",
      "metadata": {
        "id": "aFt1xgn68E2o"
      },
      "source": [
        "example_feature, example_label = next(example_ds.as_numpy_iterator())"
      ],
      "execution_count": 45,
      "outputs": []
    },
    {
      "cell_type": "code",
      "metadata": {
        "colab": {
          "base_uri": "https://localhost:8080/"
        },
        "id": "hNALYdYm8E6K",
        "outputId": "4361c271-70ea-4d4f-a5e0-464b6802ee15"
      },
      "source": [
        "example_feature.shape"
      ],
      "execution_count": 46,
      "outputs": [
        {
          "output_type": "execute_result",
          "data": {
            "text/plain": [
              "(2, 3, 1)"
            ]
          },
          "metadata": {},
          "execution_count": 46
        }
      ]
    },
    {
      "cell_type": "code",
      "metadata": {
        "colab": {
          "base_uri": "https://localhost:8080/"
        },
        "id": "6aYA0Zev_KbI",
        "outputId": "ad325cce-ea76-43eb-94f7-83931c119f0f"
      },
      "source": [
        "example_label.shape"
      ],
      "execution_count": 47,
      "outputs": [
        {
          "output_type": "execute_result",
          "data": {
            "text/plain": [
              "(2,)"
            ]
          },
          "metadata": {},
          "execution_count": 47
        }
      ]
    },
    {
      "cell_type": "code",
      "metadata": {
        "colab": {
          "base_uri": "https://localhost:8080/"
        },
        "id": "a7Zlc-ZA_Kez",
        "outputId": "1b70acda-e30b-4a32-939f-a7121f2359cc"
      },
      "source": [
        "train_data[\"close\"].iloc[:6]"
      ],
      "execution_count": 48,
      "outputs": [
        {
          "output_type": "execute_result",
          "data": {
            "text/plain": [
              "4742    19672.0\n",
              "4743    19838.0\n",
              "4744    19514.0\n",
              "4745    19150.0\n",
              "4746    18548.0\n",
              "4747    18998.0\n",
              "Name: close, dtype: float64"
            ]
          },
          "metadata": {},
          "execution_count": 48
        }
      ]
    },
    {
      "cell_type": "code",
      "metadata": {
        "colab": {
          "base_uri": "https://localhost:8080/"
        },
        "id": "3dI8OwHi_Kgs",
        "outputId": "419b98e0-00f6-4cba-d705-ee159205d373"
      },
      "source": [
        "print(example_feature[0])\n",
        "print(example_label[0])"
      ],
      "execution_count": 49,
      "outputs": [
        {
          "output_type": "stream",
          "name": "stdout",
          "text": [
            "[[19672.]\n",
            " [19838.]\n",
            " [19514.]]\n",
            "19150.0\n"
          ]
        }
      ]
    },
    {
      "cell_type": "code",
      "metadata": {
        "colab": {
          "base_uri": "https://localhost:8080/"
        },
        "id": "qbOAA6-1_Kkb",
        "outputId": "32eeac86-a328-4c55-a093-3587c34c638c"
      },
      "source": [
        "print(example_feature[1])\n",
        "print(example_label[1])"
      ],
      "execution_count": 50,
      "outputs": [
        {
          "output_type": "stream",
          "name": "stdout",
          "text": [
            "[[19838.]\n",
            " [19514.]\n",
            " [19150.]]\n",
            "18548.0\n"
          ]
        }
      ]
    },
    {
      "cell_type": "code",
      "metadata": {
        "id": "XRqLyzyK_KmI"
      },
      "source": [
        ""
      ],
      "execution_count": null,
      "outputs": []
    },
    {
      "cell_type": "code",
      "metadata": {
        "id": "9bQcWsVy8E7q"
      },
      "source": [
        ""
      ],
      "execution_count": null,
      "outputs": []
    },
    {
      "cell_type": "code",
      "metadata": {
        "id": "LVvWyKjz8E-6"
      },
      "source": [
        ""
      ],
      "execution_count": null,
      "outputs": []
    }
  ]
}