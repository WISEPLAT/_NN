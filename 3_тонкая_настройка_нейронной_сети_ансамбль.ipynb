{
  "nbformat": 4,
  "nbformat_minor": 0,
  "metadata": {
    "colab": {
      "name": "3. тонкая настройка нейронной сети - ансамбль",
      "provenance": [],
      "collapsed_sections": [],
      "authorship_tag": "ABX9TyMy6ch3chZwyo0Pv9tw9frn",
      "include_colab_link": true
    },
    "kernelspec": {
      "name": "python3",
      "display_name": "Python 3"
    },
    "language_info": {
      "name": "python"
    }
  },
  "cells": [
    {
      "cell_type": "markdown",
      "metadata": {
        "id": "view-in-github",
        "colab_type": "text"
      },
      "source": [
        "<a href=\"https://colab.research.google.com/github/WISEPLAT/_NN/blob/main/3_%D1%82%D0%BE%D0%BD%D0%BA%D0%B0%D1%8F_%D0%BD%D0%B0%D1%81%D1%82%D1%80%D0%BE%D0%B9%D0%BA%D0%B0_%D0%BD%D0%B5%D0%B9%D1%80%D0%BE%D0%BD%D0%BD%D0%BE%D0%B9_%D1%81%D0%B5%D1%82%D0%B8_%D0%B0%D0%BD%D1%81%D0%B0%D0%BC%D0%B1%D0%BB%D1%8C.ipynb\" target=\"_parent\"><img src=\"https://colab.research.google.com/assets/colab-badge.svg\" alt=\"Open In Colab\"/></a>"
      ]
    },
    {
      "cell_type": "code",
      "execution_count": null,
      "metadata": {
        "id": "8EThz0-UpCUN"
      },
      "outputs": [],
      "source": [
        "from keras.datasets import mnist # subroutines for fetching the MNIST dataset\n",
        "from keras.models import Model # basic class for specifying and training a neural network\n",
        "from keras.layers import Input, Dense, Flatten, Convolution2D, MaxPooling2D, Dropout, Concatenate\n",
        "from keras.utils import np_utils # utilities for one-hot encoding of ground truth values"
      ]
    },
    {
      "cell_type": "code",
      "source": [
        "from keras.regularizers import l2 # L2-regularisation\n",
        "l2_lambda = 0.0001\n",
        "# W_regularizer == kernel_regularizer\n",
        "# border_mode == padding\n",
        "# init == kernel_initializer"
      ],
      "metadata": {
        "id": "Hf0GoxZfydlx"
      },
      "execution_count": null,
      "outputs": []
    },
    {
      "cell_type": "code",
      "source": [
        "#https://stackoverflow.com/questions/51075666/how-to-implement-merge-from-keras-layers\n",
        "#from keras.layers import add # for merging predictions in an ensemble\n",
        "# merge == add\n",
        "ens_models = 2 # we will train three separate models on the data"
      ],
      "metadata": {
        "id": "DY4EBdlcDUAy"
      },
      "execution_count": null,
      "outputs": []
    },
    {
      "cell_type": "code",
      "source": [
        "from tensorflow.keras.layers import BatchNormalization\n",
        "#from keras.layers.normalization import BatchNormalization # batch normalisation\n",
        "#You have to import Batch Normalization from tensorflow.keras.layers"
      ],
      "metadata": {
        "id": "VotZMAt04xSR"
      },
      "execution_count": null,
      "outputs": []
    },
    {
      "cell_type": "code",
      "source": [
        "batch_size = 128 # in each iteration, we consider 128 training examples at once\n",
        "num_epochs = 12 # we iterate twelve times over the entire training set\n",
        "kernel_size = 3 # we will use 3x3 kernels throughout\n",
        "pool_size = 2 # we will use 2x2 pooling throughout\n",
        "conv_depth = 32 # use 32 kernels in both convolutional layers\n",
        "drop_prob_1 = 0.25 # dropout after pooling with probability 0.25\n",
        "drop_prob_2 = 0.5 # dropout in the FC layer with probability 0.5\n",
        "hidden_size = 128 # there will be 128 neurons in both hidden layers"
      ],
      "metadata": {
        "id": "EE7FK8vsukpy"
      },
      "execution_count": null,
      "outputs": []
    },
    {
      "cell_type": "code",
      "source": [
        "num_train = 60000 # there are 60000 training examples in MNIST\n",
        "num_test = 10000 # there are 10000 test examples in MNIST\n",
        "\n",
        "height, width, depth = 28, 28, 1 # MNIST images are 28x28 and greyscale\n",
        "num_classes = 10 # there are 10 classes (1 per digit)\n",
        "\n",
        "(X_train, y_train), (X_test, y_test) = mnist.load_data() # fetch MNIST data\n",
        "\n",
        "X_train = X_train.reshape(X_train.shape[0], depth, height, width)\n",
        "X_test = X_test.reshape(X_test.shape[0], depth, height, width)\n",
        "X_train = X_train.astype('float32')\n",
        "X_test = X_test.astype('float32')\n",
        "X_train /= 255 # Normalise data to [0, 1] range\n",
        "X_test /= 255 # Normalise data to [0, 1] range\n",
        "\n",
        "Y_train = np_utils.to_categorical(y_train, num_classes) # One-hot encode the labels\n",
        "Y_test = np_utils.to_categorical(y_test, num_classes) # One-hot encode the labels"
      ],
      "metadata": {
        "id": "G6NEzsVFuksh"
      },
      "execution_count": null,
      "outputs": []
    },
    {
      "cell_type": "code",
      "source": [
        "inp = Input(shape=(depth, height, width)) # N.B. Keras expects channel dimension first\n",
        "inp_norm = BatchNormalization(axis=1)(inp) # apply BN to the input (N.B. need to rename here)\n",
        "# Conv [32] -> Conv [32] -> Pool (with dropout on the pooling layer)\n",
        "outs = [] # the list of ensemble outputs\n",
        "for i in range(ens_models):\n",
        "  conv_1 = Convolution2D(conv_depth, kernel_size, kernel_size, padding='same', kernel_initializer='he_uniform', kernel_regularizer=l2(l2_lambda), activation='relu')(inp_norm)\n",
        "  conv_1 = BatchNormalization(axis=1)(conv_1)\n",
        "  conv_2 = Convolution2D(conv_depth, kernel_size, kernel_size, padding='same', kernel_initializer='he_uniform', kernel_regularizer=l2(l2_lambda), activation='relu')(conv_1)\n",
        "  conv_2 = BatchNormalization(axis=1)(conv_2)\n",
        "  pool_1 = MaxPooling2D(pool_size=(pool_size, pool_size), padding='same')(conv_2)\n",
        "  drop_1 = Dropout(drop_prob_1)(pool_1)\n",
        "  flat = Flatten()(drop_1)\n",
        "  hidden = Dense(hidden_size, kernel_initializer='he_uniform', kernel_regularizer=l2(l2_lambda), activation='relu')(flat) # Hidden ReLU layer\n",
        "  hidden = BatchNormalization(axis=1)(hidden)\n",
        "  drop = Dropout(drop_prob_2)(hidden)\n",
        "  #out = Dense(num_classes, kernel_initializer='glorot_uniform', kernel_regularizer=l2(l2_lambda), activation='softmax')(drop) # Output softmax layer\n",
        "  outs.append(drop) # Output softmax layer\n",
        "\n",
        "#print(outs)\n",
        "out = Concatenate()(outs)\n",
        "out = Dense(num_classes, kernel_initializer='glorot_uniform', kernel_regularizer=l2(l2_lambda), activation='softmax')(out) # Output softmax layer\n",
        "\n",
        "model = Model(inputs=inp, outputs=out) # To define a model, just specify its input and output layers\n",
        "\n",
        "model.compile(loss='categorical_crossentropy', # using the cross-entropy loss function\n",
        "              optimizer='adam', # using the Adam optimiser\n",
        "              metrics=['accuracy']) # reporting the accuracy"
      ],
      "metadata": {
        "id": "QZlJ5s7XuonA"
      },
      "execution_count": null,
      "outputs": []
    },
    {
      "cell_type": "code",
      "source": [
        "model.summary()"
      ],
      "metadata": {
        "colab": {
          "base_uri": "https://localhost:8080/"
        },
        "id": "9ILgkDvJuop0",
        "outputId": "9f6f6c42-cc03-40c1-88bc-7e263fab04ee"
      },
      "execution_count": null,
      "outputs": [
        {
          "output_type": "stream",
          "name": "stdout",
          "text": [
            "Model: \"model_19\"\n",
            "__________________________________________________________________________________________________\n",
            " Layer (type)                   Output Shape         Param #     Connected to                     \n",
            "==================================================================================================\n",
            " input_27 (InputLayer)          [(None, 1, 28, 28)]  0           []                               \n",
            "                                                                                                  \n",
            " batch_normalization_206 (Batch  (None, 1, 28, 28)   4           ['input_27[0][0]']               \n",
            " Normalization)                                                                                   \n",
            "                                                                                                  \n",
            " conv2d_120 (Conv2D)            (None, 1, 10, 32)    8096        ['batch_normalization_206[0][0]']\n",
            "                                                                                                  \n",
            " conv2d_122 (Conv2D)            (None, 1, 10, 32)    8096        ['batch_normalization_206[0][0]']\n",
            "                                                                                                  \n",
            " batch_normalization_207 (Batch  (None, 1, 10, 32)   4           ['conv2d_120[0][0]']             \n",
            " Normalization)                                                                                   \n",
            "                                                                                                  \n",
            " batch_normalization_210 (Batch  (None, 1, 10, 32)   4           ['conv2d_122[0][0]']             \n",
            " Normalization)                                                                                   \n",
            "                                                                                                  \n",
            " conv2d_121 (Conv2D)            (None, 1, 4, 32)     9248        ['batch_normalization_207[0][0]']\n",
            "                                                                                                  \n",
            " conv2d_123 (Conv2D)            (None, 1, 4, 32)     9248        ['batch_normalization_210[0][0]']\n",
            "                                                                                                  \n",
            " batch_normalization_208 (Batch  (None, 1, 4, 32)    4           ['conv2d_121[0][0]']             \n",
            " Normalization)                                                                                   \n",
            "                                                                                                  \n",
            " batch_normalization_211 (Batch  (None, 1, 4, 32)    4           ['conv2d_123[0][0]']             \n",
            " Normalization)                                                                                   \n",
            "                                                                                                  \n",
            " max_pooling2d_60 (MaxPooling2D  (None, 1, 2, 32)    0           ['batch_normalization_208[0][0]']\n",
            " )                                                                                                \n",
            "                                                                                                  \n",
            " max_pooling2d_61 (MaxPooling2D  (None, 1, 2, 32)    0           ['batch_normalization_211[0][0]']\n",
            " )                                                                                                \n",
            "                                                                                                  \n",
            " dropout_120 (Dropout)          (None, 1, 2, 32)     0           ['max_pooling2d_60[0][0]']       \n",
            "                                                                                                  \n",
            " dropout_122 (Dropout)          (None, 1, 2, 32)     0           ['max_pooling2d_61[0][0]']       \n",
            "                                                                                                  \n",
            " flatten_60 (Flatten)           (None, 64)           0           ['dropout_120[0][0]']            \n",
            "                                                                                                  \n",
            " flatten_61 (Flatten)           (None, 64)           0           ['dropout_122[0][0]']            \n",
            "                                                                                                  \n",
            " dense_115 (Dense)              (None, 128)          8320        ['flatten_60[0][0]']             \n",
            "                                                                                                  \n",
            " dense_116 (Dense)              (None, 128)          8320        ['flatten_61[0][0]']             \n",
            "                                                                                                  \n",
            " batch_normalization_209 (Batch  (None, 128)         512         ['dense_115[0][0]']              \n",
            " Normalization)                                                                                   \n",
            "                                                                                                  \n",
            " batch_normalization_212 (Batch  (None, 128)         512         ['dense_116[0][0]']              \n",
            " Normalization)                                                                                   \n",
            "                                                                                                  \n",
            " dropout_121 (Dropout)          (None, 128)          0           ['batch_normalization_209[0][0]']\n",
            "                                                                                                  \n",
            " dropout_123 (Dropout)          (None, 128)          0           ['batch_normalization_212[0][0]']\n",
            "                                                                                                  \n",
            " concatenate_17 (Concatenate)   (None, 256)          0           ['dropout_121[0][0]',            \n",
            "                                                                  'dropout_123[0][0]']            \n",
            "                                                                                                  \n",
            " dense_117 (Dense)              (None, 10)           2570        ['concatenate_17[0][0]']         \n",
            "                                                                                                  \n",
            "==================================================================================================\n",
            "Total params: 54,942\n",
            "Trainable params: 54,420\n",
            "Non-trainable params: 522\n",
            "__________________________________________________________________________________________________\n"
          ]
        }
      ]
    },
    {
      "cell_type": "code",
      "source": [
        "model.fit(X_train, Y_train, # Train the model using the training set...\n",
        "          batch_size=batch_size, epochs=num_epochs,\n",
        "          verbose=1, validation_split=0.1) # ...holding out 10% of the data for validation"
      ],
      "metadata": {
        "colab": {
          "base_uri": "https://localhost:8080/"
        },
        "id": "rUUeAg59urOz",
        "outputId": "c6c7922b-9fff-4fba-c5f0-bc02fbc17b52"
      },
      "execution_count": null,
      "outputs": [
        {
          "output_type": "stream",
          "name": "stdout",
          "text": [
            "Epoch 1/12\n",
            "422/422 [==============================] - 12s 25ms/step - loss: 0.7800 - accuracy: 0.7757 - val_loss: 0.2421 - val_accuracy: 0.9497\n",
            "Epoch 2/12\n",
            "422/422 [==============================] - 10s 24ms/step - loss: 0.3495 - accuracy: 0.9114 - val_loss: 0.1786 - val_accuracy: 0.9660\n",
            "Epoch 3/12\n",
            "422/422 [==============================] - 10s 24ms/step - loss: 0.2704 - accuracy: 0.9354 - val_loss: 0.1501 - val_accuracy: 0.9745\n",
            "Epoch 4/12\n",
            "422/422 [==============================] - 10s 24ms/step - loss: 0.2242 - accuracy: 0.9482 - val_loss: 0.1433 - val_accuracy: 0.9763\n",
            "Epoch 5/12\n",
            "422/422 [==============================] - 10s 24ms/step - loss: 0.1984 - accuracy: 0.9557 - val_loss: 0.1228 - val_accuracy: 0.9813\n",
            "Epoch 6/12\n",
            "422/422 [==============================] - 11s 26ms/step - loss: 0.1775 - accuracy: 0.9595 - val_loss: 0.1178 - val_accuracy: 0.9793\n",
            "Epoch 7/12\n",
            "422/422 [==============================] - 10s 24ms/step - loss: 0.1618 - accuracy: 0.9646 - val_loss: 0.1113 - val_accuracy: 0.9815\n",
            "Epoch 8/12\n",
            "422/422 [==============================] - 10s 24ms/step - loss: 0.1514 - accuracy: 0.9673 - val_loss: 0.1073 - val_accuracy: 0.9830\n",
            "Epoch 9/12\n",
            "422/422 [==============================] - 10s 25ms/step - loss: 0.1395 - accuracy: 0.9687 - val_loss: 0.1058 - val_accuracy: 0.9823\n",
            "Epoch 10/12\n",
            "422/422 [==============================] - 10s 25ms/step - loss: 0.1316 - accuracy: 0.9715 - val_loss: 0.0984 - val_accuracy: 0.9823\n",
            "Epoch 11/12\n",
            "422/422 [==============================] - 11s 25ms/step - loss: 0.1246 - accuracy: 0.9730 - val_loss: 0.0989 - val_accuracy: 0.9835\n",
            "Epoch 12/12\n",
            "422/422 [==============================] - 10s 25ms/step - loss: 0.1184 - accuracy: 0.9747 - val_loss: 0.0943 - val_accuracy: 0.9850\n"
          ]
        },
        {
          "output_type": "execute_result",
          "data": {
            "text/plain": [
              "<keras.callbacks.History at 0x7faeec691350>"
            ]
          },
          "metadata": {},
          "execution_count": 128
        }
      ]
    },
    {
      "cell_type": "code",
      "source": [
        "model.evaluate(X_test, Y_test, verbose=1) # Evaluate the trained model on the test set!"
      ],
      "metadata": {
        "colab": {
          "base_uri": "https://localhost:8080/"
        },
        "id": "eg6wd1FfurRX",
        "outputId": "95f79f54-96b0-4074-ea49-c6429cb94d6c"
      },
      "execution_count": null,
      "outputs": [
        {
          "output_type": "stream",
          "name": "stdout",
          "text": [
            "313/313 [==============================] - 1s 4ms/step - loss: 0.0893 - accuracy: 0.9813\n"
          ]
        },
        {
          "output_type": "execute_result",
          "data": {
            "text/plain": [
              "[0.08932994306087494, 0.9812999963760376]"
            ]
          },
          "metadata": {},
          "execution_count": 129
        }
      ]
    },
    {
      "cell_type": "code",
      "source": [
        ""
      ],
      "metadata": {
        "id": "dY6tRb83u0ce"
      },
      "execution_count": null,
      "outputs": []
    }
  ]
}