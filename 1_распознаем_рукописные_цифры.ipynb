{
  "nbformat": 4,
  "nbformat_minor": 0,
  "metadata": {
    "colab": {
      "name": "1. распознаем рукописные цифры",
      "provenance": [],
      "collapsed_sections": [],
      "authorship_tag": "ABX9TyM9rznxjJb1yLXi1qWaPn+W",
      "include_colab_link": true
    },
    "kernelspec": {
      "name": "python3",
      "display_name": "Python 3"
    },
    "language_info": {
      "name": "python"
    }
  },
  "cells": [
    {
      "cell_type": "markdown",
      "metadata": {
        "id": "view-in-github",
        "colab_type": "text"
      },
      "source": [
        "<a href=\"https://colab.research.google.com/github/WISEPLAT/_NN/blob/main/1_%D1%80%D0%B0%D1%81%D0%BF%D0%BE%D0%B7%D0%BD%D0%B0%D0%B5%D0%BC_%D1%80%D1%83%D0%BA%D0%BE%D0%BF%D0%B8%D1%81%D0%BD%D1%8B%D0%B5_%D1%86%D0%B8%D1%84%D1%80%D1%8B.ipynb\" target=\"_parent\"><img src=\"https://colab.research.google.com/assets/colab-badge.svg\" alt=\"Open In Colab\"/></a>"
      ]
    },
    {
      "cell_type": "code",
      "execution_count": null,
      "metadata": {
        "id": "dO-3N0_1kB4L"
      },
      "outputs": [],
      "source": [
        "from keras.datasets import mnist # subroutines for fetching the MNIST dataset\n",
        "from keras.models import Model # basic class for specifying and training a neural network\n",
        "from keras.layers import Input, Dense # the two types of neural network layer we will be using\n",
        "from keras.utils import np_utils # utilities for one-hot encoding of ground truth values"
      ]
    },
    {
      "cell_type": "code",
      "source": [
        "batch_size = 128 # in each iteration, we consider 128 training examples at once\n",
        "num_epochs = 20 # we iterate twenty times over the entire training set\n",
        "hidden_size = 512 # there will be 512 neurons in both hidden layers"
      ],
      "metadata": {
        "id": "CJcF_7MfkIdG"
      },
      "execution_count": null,
      "outputs": []
    },
    {
      "cell_type": "code",
      "source": [
        "num_train = 60000 # there are 60000 training examples in MNIST\n",
        "num_test = 10000 # there are 10000 test examples in MNIST\n",
        "\n",
        "height, width, depth = 28, 28, 1 # MNIST images are 28x28 and greyscale\n",
        "num_classes = 10 # there are 10 classes (1 per digit)\n",
        "\n",
        "(X_train, y_train), (X_test, y_test) = mnist.load_data() # fetch MNIST data\n",
        "\n",
        "X_train = X_train.reshape(num_train, height * width) # Flatten data to 1D\n",
        "X_test = X_test.reshape(num_test, height * width) # Flatten data to 1D\n",
        "X_train = X_train.astype('float32') \n",
        "X_test = X_test.astype('float32')\n",
        "X_train /= 255 # Normalise data to [0, 1] range\n",
        "X_test /= 255 # Normalise data to [0, 1] range\n",
        "\n",
        "Y_train = np_utils.to_categorical(y_train, num_classes) # One-hot encode the labels\n",
        "Y_test = np_utils.to_categorical(y_test, num_classes) # One-hot encode the labels"
      ],
      "metadata": {
        "colab": {
          "base_uri": "https://localhost:8080/"
        },
        "id": "flu8JAPskgJD",
        "outputId": "26953ebf-b288-4271-d3cb-3a2a0485ee97"
      },
      "execution_count": null,
      "outputs": [
        {
          "output_type": "stream",
          "name": "stdout",
          "text": [
            "Downloading data from https://storage.googleapis.com/tensorflow/tf-keras-datasets/mnist.npz\n",
            "11493376/11490434 [==============================] - 0s 0us/step\n",
            "11501568/11490434 [==============================] - 0s 0us/step\n"
          ]
        }
      ]
    },
    {
      "cell_type": "code",
      "source": [
        "inp = Input(shape=(height * width,)) # Our input is a 1D vector of size 784\n",
        "hidden_1 = Dense(hidden_size, activation='relu')(inp) # First hidden ReLU layer\n",
        "hidden_2 = Dense(hidden_size, activation='relu')(hidden_1) # Second hidden ReLU layer\n",
        "out = Dense(num_classes, activation='softmax')(hidden_2) # Output softmax layer\n",
        "\n",
        "model = Model(inputs=inp, outputs=out) # To define a model, just specify its input and output layers"
      ],
      "metadata": {
        "id": "gV81dablkgLz"
      },
      "execution_count": null,
      "outputs": []
    },
    {
      "cell_type": "code",
      "source": [
        "model.compile(loss='categorical_crossentropy', # using the cross-entropy loss function\n",
        "              optimizer='adam', # using the Adam optimiser\n",
        "              metrics=['accuracy']) # reporting the accuracy"
      ],
      "metadata": {
        "id": "4jn6wRZ7kgOc"
      },
      "execution_count": null,
      "outputs": []
    },
    {
      "cell_type": "code",
      "source": [
        "model.fit(X_train, Y_train, # Train the model using the training set...\n",
        "          batch_size=batch_size, epochs=num_epochs,\n",
        "          verbose=1, validation_split=0.1) # ...holding out 10% of the data for validation\n",
        "model.evaluate(X_test, Y_test, verbose=1) # Evaluate the trained model on the test set!"
      ],
      "metadata": {
        "colab": {
          "base_uri": "https://localhost:8080/"
        },
        "id": "pgOZQTTWkgRC",
        "outputId": "fe0938de-eb9f-41db-b7a8-d0dede39f051"
      },
      "execution_count": null,
      "outputs": [
        {
          "output_type": "stream",
          "name": "stdout",
          "text": [
            "Epoch 1/20\n",
            "422/422 [==============================] - 15s 32ms/step - loss: 0.2292 - accuracy: 0.9325 - val_loss: 0.1071 - val_accuracy: 0.9673\n",
            "Epoch 2/20\n",
            "422/422 [==============================] - 13s 31ms/step - loss: 0.0852 - accuracy: 0.9732 - val_loss: 0.0780 - val_accuracy: 0.9783\n",
            "Epoch 3/20\n",
            "422/422 [==============================] - 9s 22ms/step - loss: 0.0521 - accuracy: 0.9839 - val_loss: 0.0750 - val_accuracy: 0.9763\n",
            "Epoch 4/20\n",
            "422/422 [==============================] - 7s 17ms/step - loss: 0.0370 - accuracy: 0.9882 - val_loss: 0.0775 - val_accuracy: 0.9790\n",
            "Epoch 5/20\n",
            "422/422 [==============================] - 7s 16ms/step - loss: 0.0290 - accuracy: 0.9904 - val_loss: 0.0812 - val_accuracy: 0.9792\n",
            "Epoch 6/20\n",
            "422/422 [==============================] - 7s 16ms/step - loss: 0.0216 - accuracy: 0.9930 - val_loss: 0.0769 - val_accuracy: 0.9798\n",
            "Epoch 7/20\n",
            "422/422 [==============================] - 7s 16ms/step - loss: 0.0207 - accuracy: 0.9931 - val_loss: 0.0843 - val_accuracy: 0.9773\n",
            "Epoch 8/20\n",
            "422/422 [==============================] - 7s 16ms/step - loss: 0.0171 - accuracy: 0.9941 - val_loss: 0.0935 - val_accuracy: 0.9768\n",
            "Epoch 9/20\n",
            "422/422 [==============================] - 7s 16ms/step - loss: 0.0177 - accuracy: 0.9942 - val_loss: 0.0757 - val_accuracy: 0.9808\n",
            "Epoch 10/20\n",
            "422/422 [==============================] - 7s 16ms/step - loss: 0.0091 - accuracy: 0.9972 - val_loss: 0.0826 - val_accuracy: 0.9802\n",
            "Epoch 11/20\n",
            "422/422 [==============================] - 7s 16ms/step - loss: 0.0137 - accuracy: 0.9954 - val_loss: 0.0721 - val_accuracy: 0.9825\n",
            "Epoch 12/20\n",
            "422/422 [==============================] - 7s 16ms/step - loss: 0.0153 - accuracy: 0.9951 - val_loss: 0.0943 - val_accuracy: 0.9792\n",
            "Epoch 13/20\n",
            "422/422 [==============================] - 7s 17ms/step - loss: 0.0103 - accuracy: 0.9966 - val_loss: 0.0857 - val_accuracy: 0.9822\n",
            "Epoch 14/20\n",
            "422/422 [==============================] - 7s 17ms/step - loss: 0.0074 - accuracy: 0.9976 - val_loss: 0.0975 - val_accuracy: 0.9810\n",
            "Epoch 15/20\n",
            "422/422 [==============================] - 7s 17ms/step - loss: 0.0087 - accuracy: 0.9972 - val_loss: 0.0844 - val_accuracy: 0.9828\n",
            "Epoch 16/20\n",
            "422/422 [==============================] - 7s 18ms/step - loss: 0.0109 - accuracy: 0.9965 - val_loss: 0.0906 - val_accuracy: 0.9822\n",
            "Epoch 17/20\n",
            "422/422 [==============================] - 8s 18ms/step - loss: 0.0094 - accuracy: 0.9968 - val_loss: 0.1139 - val_accuracy: 0.9793\n",
            "Epoch 18/20\n",
            "422/422 [==============================] - 9s 20ms/step - loss: 0.0118 - accuracy: 0.9963 - val_loss: 0.1132 - val_accuracy: 0.9787\n",
            "Epoch 19/20\n",
            "422/422 [==============================] - 7s 17ms/step - loss: 0.0085 - accuracy: 0.9971 - val_loss: 0.1157 - val_accuracy: 0.9797\n",
            "Epoch 20/20\n",
            "422/422 [==============================] - 7s 17ms/step - loss: 0.0042 - accuracy: 0.9986 - val_loss: 0.1011 - val_accuracy: 0.9830\n",
            "313/313 [==============================] - 1s 4ms/step - loss: 0.0970 - accuracy: 0.9830\n"
          ]
        },
        {
          "output_type": "execute_result",
          "data": {
            "text/plain": [
              "[0.09700509160757065, 0.9829999804496765]"
            ]
          },
          "metadata": {},
          "execution_count": 9
        }
      ]
    },
    {
      "cell_type": "code",
      "source": [
        ""
      ],
      "metadata": {
        "id": "SzD9f3t4kgTe"
      },
      "execution_count": null,
      "outputs": []
    }
  ]
}