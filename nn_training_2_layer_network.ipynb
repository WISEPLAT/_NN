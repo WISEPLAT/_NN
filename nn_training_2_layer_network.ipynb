{
  "nbformat": 4,
  "nbformat_minor": 0,
  "metadata": {
    "kernelspec": {
      "display_name": "Python 3",
      "language": "python",
      "name": "python3"
    },
    "language_info": {
      "codemirror_mode": {
        "name": "ipython",
        "version": 3
      },
      "file_extension": ".py",
      "mimetype": "text/x-python",
      "name": "python",
      "nbconvert_exporter": "python",
      "pygments_lexer": "ipython3",
      "version": "3.6.0"
    },
    "colab": {
      "name": "nn_training_2_layer_network.ipynb",
      "provenance": [],
      "include_colab_link": true
    }
  },
  "cells": [
    {
      "cell_type": "markdown",
      "metadata": {
        "id": "view-in-github",
        "colab_type": "text"
      },
      "source": [
        "<a href=\"https://colab.research.google.com/github/WISEPLAT/_NN/blob/main/nn_training_2_layer_network.ipynb\" target=\"_parent\"><img src=\"https://colab.research.google.com/assets/colab-badge.svg\" alt=\"Open In Colab\"/></a>"
      ]
    },
    {
      "cell_type": "code",
      "metadata": {
        "collapsed": true,
        "id": "5tdvt3eOs4MA"
      },
      "source": [
        "import numpy as np\n",
        "import sys"
      ],
      "execution_count": 1,
      "outputs": []
    },
    {
      "cell_type": "code",
      "metadata": {
        "id": "JqGUsx0zs4MI"
      },
      "source": [
        "class PartyNN(object):\n",
        "    \n",
        "    def __init__(self, learning_rate=0.1):\n",
        "        self.weights_0_1 = np.random.normal(0.0, 2 ** -0.5, (2, 3))\n",
        "        self.weights_1_2 = np.random.normal(0.0, 1, (1, 2))\n",
        "        print(self.weights_0_1)\n",
        "        print(self.weights_1_2)\n",
        "        self.sigmoid_mapper = np.vectorize(self.sigmoid)\n",
        "        self.learning_rate = np.array([learning_rate])\n",
        "        \n",
        "    def sigmoid(self, x):\n",
        "        return 1 / (1 + np.exp(-x))\n",
        "    \n",
        "    def predict(self, inputs):\n",
        "        inputs_1 = np.dot(self.weights_0_1, inputs)\n",
        "        outputs_1 = self.sigmoid_mapper(inputs_1)\n",
        "        \n",
        "        inputs_2 = np.dot(self.weights_1_2, outputs_1)\n",
        "        outputs_2 = self.sigmoid_mapper(inputs_2)\n",
        "        return outputs_2\n",
        "    \n",
        "    def train(self, inputs, expected_predict):     \n",
        "        inputs_1 = np.dot(self.weights_0_1, inputs)\n",
        "        outputs_1 = self.sigmoid_mapper(inputs_1)\n",
        "        \n",
        "        inputs_2 = np.dot(self.weights_1_2, outputs_1)\n",
        "        outputs_2 = self.sigmoid_mapper(inputs_2)\n",
        "        actual_predict = outputs_2[0]\n",
        "        \n",
        "        error_layer_2 = np.array([actual_predict - expected_predict])\n",
        "        gradient_layer_2 = actual_predict * (1 - actual_predict)\n",
        "        weights_delta_layer_2 = error_layer_2 * gradient_layer_2  \n",
        "        self.weights_1_2 -= (np.dot(weights_delta_layer_2, outputs_1.reshape(1, len(outputs_1)))) * self.learning_rate\n",
        "        \n",
        "        error_layer_1 = weights_delta_layer_2 * self.weights_1_2\n",
        "        gradient_layer_1 = outputs_1 * (1 - outputs_1)\n",
        "        weights_delta_layer_1 = error_layer_1 * gradient_layer_1\n",
        "        self.weights_0_1 -= np.dot(inputs.reshape(len(inputs), 1), weights_delta_layer_1).T  * self.learning_rate"
      ],
      "execution_count": 2,
      "outputs": []
    },
    {
      "cell_type": "code",
      "metadata": {
        "collapsed": true,
        "id": "gpppvNTus4MK"
      },
      "source": [
        "def MSE(y, Y):\n",
        "    return np.mean((y-Y)**2)"
      ],
      "execution_count": 3,
      "outputs": []
    },
    {
      "cell_type": "code",
      "metadata": {
        "collapsed": true,
        "id": "R5MXGvpzs4MK"
      },
      "source": [
        "train = [\n",
        "    ([0, 0, 0], 0),\n",
        "    ([0, 0, 1], 1),\n",
        "    ([0, 1, 0], 0),\n",
        "    ([0, 1, 1], 0),\n",
        "    ([1, 0, 0], 1),\n",
        "    ([1, 0, 1], 1),\n",
        "    ([1, 1, 0], 0),\n",
        "    ([1, 1, 1], 0),\n",
        "]"
      ],
      "execution_count": 4,
      "outputs": []
    },
    {
      "cell_type": "code",
      "metadata": {
        "colab": {
          "base_uri": "https://localhost:8080/"
        },
        "id": "ScwqOgams4ML",
        "outputId": "27daf1b3-4999-4df5-f376-618caffab3d1"
      },
      "source": [
        "#epochs = 5000\n",
        "#learning_rate = 0.05\n",
        "epochs = 6000\n",
        "learning_rate = 0.08\n",
        "\n",
        "network = PartyNN(learning_rate=learning_rate)\n",
        "\n",
        "for e in range(epochs):\n",
        "    inputs_ = []\n",
        "    correct_predictions = []\n",
        "    for input_stat, correct_predict in train:\n",
        "        network.train(np.array(input_stat), correct_predict)\n",
        "        inputs_.append(np.array(input_stat))\n",
        "        correct_predictions.append(np.array(correct_predict))\n",
        "    \n",
        "    train_loss = MSE(network.predict(np.array(inputs_).T), np.array(correct_predictions))\n",
        "    sys.stdout.write(\"\\rProgress: {}, Training loss: {}\".format(str(100 * e/float(epochs))[:4], str(train_loss)[:5]))"
      ],
      "execution_count": 5,
      "outputs": [
        {
          "output_type": "stream",
          "name": "stdout",
          "text": [
            "[[-0.25495527 -0.9641784   1.30276498]\n",
            " [-0.31955163 -0.44172229  0.68482623]]\n",
            "[[ 0.3794752  -0.17542757]]\n",
            "Progress: 99.9, Training loss: 0.002"
          ]
        }
      ]
    },
    {
      "cell_type": "code",
      "metadata": {
        "colab": {
          "base_uri": "https://localhost:8080/"
        },
        "id": "W2l4H_WNs4MN",
        "outputId": "29981338-fe2a-4a50-8ed7-7103ec4d1772"
      },
      "source": [
        "for input_stat, correct_predict in train:\n",
        "    print(\"For input: {} the prediction is: {}, expected: {}\".format(\n",
        "        str(input_stat), \n",
        "        str(network.predict(np.array(input_stat)) > .5),\n",
        "        str(correct_predict == 1)))"
      ],
      "execution_count": 6,
      "outputs": [
        {
          "output_type": "stream",
          "name": "stdout",
          "text": [
            "For input: [0, 0, 0] the prediction is: [False], expected: False\n",
            "For input: [0, 0, 1] the prediction is: [ True], expected: True\n",
            "For input: [0, 1, 0] the prediction is: [False], expected: False\n",
            "For input: [0, 1, 1] the prediction is: [False], expected: False\n",
            "For input: [1, 0, 0] the prediction is: [ True], expected: True\n",
            "For input: [1, 0, 1] the prediction is: [ True], expected: True\n",
            "For input: [1, 1, 0] the prediction is: [False], expected: False\n",
            "For input: [1, 1, 1] the prediction is: [False], expected: False\n"
          ]
        }
      ]
    },
    {
      "cell_type": "code",
      "metadata": {
        "colab": {
          "base_uri": "https://localhost:8080/"
        },
        "id": "Knf6erUws4MO",
        "outputId": "a714144d-ba73-434e-ada2-bf2a7ce14c83"
      },
      "source": [
        "for input_stat, correct_predict in train:\n",
        "    print(\"For input: {} the prediction is: {}, expected: {}\".format(\n",
        "        str(input_stat), \n",
        "        str(network.predict(np.array(input_stat))),\n",
        "        str(correct_predict == 1)))"
      ],
      "execution_count": 7,
      "outputs": [
        {
          "output_type": "stream",
          "name": "stdout",
          "text": [
            "For input: [0, 0, 0] the prediction is: [0.09420503], expected: False\n",
            "For input: [0, 0, 1] the prediction is: [0.94518638], expected: True\n",
            "For input: [0, 1, 0] the prediction is: [0.00017748], expected: False\n",
            "For input: [0, 1, 1] the prediction is: [0.00041226], expected: False\n",
            "For input: [1, 0, 0] the prediction is: [0.94454587], expected: True\n",
            "For input: [1, 0, 1] the prediction is: [0.98284743], expected: True\n",
            "For input: [1, 1, 0] the prediction is: [0.00040841], expected: False\n",
            "For input: [1, 1, 1] the prediction is: [0.02752628], expected: False\n"
          ]
        }
      ]
    },
    {
      "cell_type": "code",
      "metadata": {
        "colab": {
          "base_uri": "https://localhost:8080/"
        },
        "id": "yzuudSM0s4MQ",
        "outputId": "9c7c461c-6e8a-495d-d16a-a53ad1cd7b59"
      },
      "source": [
        "network.weights_0_1"
      ],
      "execution_count": 8,
      "outputs": [
        {
          "output_type": "execute_result",
          "data": {
            "text/plain": [
              "array([[ 1.90219883, -4.39326299,  2.08258232],\n",
              "       [-2.2317233 ,  4.78218045, -2.14557492]])"
            ]
          },
          "metadata": {},
          "execution_count": 8
        }
      ]
    },
    {
      "cell_type": "code",
      "metadata": {
        "colab": {
          "base_uri": "https://localhost:8080/"
        },
        "id": "eSTCDfMqs4MR",
        "outputId": "4c8808e6-26a2-4f8c-b1cf-4b0cb2273181"
      },
      "source": [
        "network.weights_1_2"
      ],
      "execution_count": 9,
      "outputs": [
        {
          "output_type": "execute_result",
          "data": {
            "text/plain": [
              "array([[ 4.2342772 , -8.76095605]])"
            ]
          },
          "metadata": {},
          "execution_count": 9
        }
      ]
    },
    {
      "cell_type": "code",
      "metadata": {
        "collapsed": true,
        "id": "aLlTsMPzs4MR"
      },
      "source": [
        ""
      ],
      "execution_count": null,
      "outputs": []
    }
  ]
}