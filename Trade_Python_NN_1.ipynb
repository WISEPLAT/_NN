{
  "nbformat": 4,
  "nbformat_minor": 0,
  "metadata": {
    "colab": {
      "name": "Trade_Python - NN - 1.ipynb",
      "provenance": [],
      "collapsed_sections": [],
      "authorship_tag": "ABX9TyNFqR1bvlVDmq22xocaFvUD",
      "include_colab_link": true
    },
    "kernelspec": {
      "name": "python3",
      "display_name": "Python 3"
    },
    "language_info": {
      "name": "python"
    }
  },
  "cells": [
    {
      "cell_type": "markdown",
      "metadata": {
        "id": "view-in-github",
        "colab_type": "text"
      },
      "source": [
        "<a href=\"https://colab.research.google.com/github/WISEPLAT/_NN/blob/main/Trade_Python_NN_1.ipynb\" target=\"_parent\"><img src=\"https://colab.research.google.com/assets/colab-badge.svg\" alt=\"Open In Colab\"/></a>"
      ]
    },
    {
      "cell_type": "code",
      "metadata": {
        "id": "Q79gNx6Z5z8N"
      },
      "source": [
        "import pandas as pd\n",
        "from datetime import timedelta\n",
        "import numpy as np\n",
        "import tensorflow as tf\n",
        "from sklearn.preprocessing import StandardScaler\n",
        "from sklearn.metrics import mean_absolute_error\n",
        "from matplotlib import pyplot as plt\n",
        "from typing import List"
      ],
      "execution_count": null,
      "outputs": []
    },
    {
      "cell_type": "code",
      "metadata": {
        "id": "VPHcpfF1rspU"
      },
      "source": [
        "import time"
      ],
      "execution_count": null,
      "outputs": []
    },
    {
      "cell_type": "code",
      "metadata": {
        "colab": {
          "base_uri": "https://localhost:8080/"
        },
        "id": "0KnZUPPOCR0b",
        "outputId": "a2081ab1-af14-4bb4-efc2-dd6d36ca427a"
      },
      "source": [
        "pip install yfinance\n"
      ],
      "execution_count": null,
      "outputs": [
        {
          "output_type": "stream",
          "name": "stdout",
          "text": [
            "Collecting yfinance\n",
            "  Downloading yfinance-0.1.64.tar.gz (26 kB)\n",
            "Requirement already satisfied: pandas>=0.24 in /usr/local/lib/python3.7/dist-packages (from yfinance) (1.1.5)\n",
            "Requirement already satisfied: numpy>=1.15 in /usr/local/lib/python3.7/dist-packages (from yfinance) (1.19.5)\n",
            "Requirement already satisfied: requests>=2.20 in /usr/local/lib/python3.7/dist-packages (from yfinance) (2.23.0)\n",
            "Requirement already satisfied: multitasking>=0.0.7 in /usr/local/lib/python3.7/dist-packages (from yfinance) (0.0.9)\n",
            "Collecting lxml>=4.5.1\n",
            "  Downloading lxml-4.6.3-cp37-cp37m-manylinux2014_x86_64.whl (6.3 MB)\n",
            "\u001b[K     |████████████████████████████████| 6.3 MB 12.1 MB/s \n",
            "\u001b[?25hRequirement already satisfied: pytz>=2017.2 in /usr/local/lib/python3.7/dist-packages (from pandas>=0.24->yfinance) (2018.9)\n",
            "Requirement already satisfied: python-dateutil>=2.7.3 in /usr/local/lib/python3.7/dist-packages (from pandas>=0.24->yfinance) (2.8.2)\n",
            "Requirement already satisfied: six>=1.5 in /usr/local/lib/python3.7/dist-packages (from python-dateutil>=2.7.3->pandas>=0.24->yfinance) (1.15.0)\n",
            "Requirement already satisfied: idna<3,>=2.5 in /usr/local/lib/python3.7/dist-packages (from requests>=2.20->yfinance) (2.10)\n",
            "Requirement already satisfied: chardet<4,>=3.0.2 in /usr/local/lib/python3.7/dist-packages (from requests>=2.20->yfinance) (3.0.4)\n",
            "Requirement already satisfied: urllib3!=1.25.0,!=1.25.1,<1.26,>=1.21.1 in /usr/local/lib/python3.7/dist-packages (from requests>=2.20->yfinance) (1.24.3)\n",
            "Requirement already satisfied: certifi>=2017.4.17 in /usr/local/lib/python3.7/dist-packages (from requests>=2.20->yfinance) (2021.5.30)\n",
            "Building wheels for collected packages: yfinance\n",
            "  Building wheel for yfinance (setup.py) ... \u001b[?25l\u001b[?25hdone\n",
            "  Created wheel for yfinance: filename=yfinance-0.1.64-py2.py3-none-any.whl size=24109 sha256=70fafcc3eb34e800609f59e9dd2315532507ec29b650b4b1baf50795e1bfe551\n",
            "  Stored in directory: /root/.cache/pip/wheels/86/fe/9b/a4d3d78796b699e37065e5b6c27b75cff448ddb8b24943c288\n",
            "Successfully built yfinance\n",
            "Installing collected packages: lxml, yfinance\n",
            "  Attempting uninstall: lxml\n",
            "    Found existing installation: lxml 4.2.6\n",
            "    Uninstalling lxml-4.2.6:\n",
            "      Successfully uninstalled lxml-4.2.6\n",
            "Successfully installed lxml-4.6.3 yfinance-0.1.64\n"
          ]
        }
      ]
    },
    {
      "cell_type": "code",
      "metadata": {
        "id": "WOtEDmPECYGs"
      },
      "source": [
        "import yfinance as yf"
      ],
      "execution_count": null,
      "outputs": []
    },
    {
      "cell_type": "code",
      "metadata": {
        "colab": {
          "base_uri": "https://localhost:8080/"
        },
        "id": "flwwB-0dCcXv",
        "outputId": "d7229166-25b9-461a-d153-bea3904a45f7"
      },
      "source": [
        "data = yf.download(\"MSFT\", start=\"2000-01-01\", end=\"2021-10-21\")"
      ],
      "execution_count": null,
      "outputs": [
        {
          "output_type": "stream",
          "name": "stdout",
          "text": [
            "\r[*********************100%***********************]  1 of 1 completed\n"
          ]
        }
      ]
    },
    {
      "cell_type": "code",
      "metadata": {
        "colab": {
          "base_uri": "https://localhost:8080/"
        },
        "id": "y_0QWFCYCj91",
        "outputId": "4e6ec3ac-ce35-41fd-ca89-aa11f706f781"
      },
      "source": [
        "data.shape"
      ],
      "execution_count": null,
      "outputs": [
        {
          "output_type": "execute_result",
          "data": {
            "text/plain": [
              "(5486, 6)"
            ]
          },
          "metadata": {},
          "execution_count": 9
        }
      ]
    },
    {
      "cell_type": "code",
      "metadata": {
        "colab": {
          "base_uri": "https://localhost:8080/"
        },
        "id": "ATpofyYNPh_m",
        "outputId": "a81bd5a3-62b3-458a-9730-7579b6e5537f"
      },
      "source": [
        "data.columns"
      ],
      "execution_count": null,
      "outputs": [
        {
          "output_type": "execute_result",
          "data": {
            "text/plain": [
              "Index(['Open', 'High', 'Low', 'Close', 'Adj Close', 'Volume'], dtype='object')"
            ]
          },
          "metadata": {},
          "execution_count": 10
        }
      ]
    },
    {
      "cell_type": "code",
      "metadata": {
        "colab": {
          "base_uri": "https://localhost:8080/",
          "height": 447
        },
        "id": "8iPkfpqQC8UW",
        "outputId": "544651af-af05-472f-c612-a441086c379e"
      },
      "source": [
        "data"
      ],
      "execution_count": null,
      "outputs": [
        {
          "output_type": "execute_result",
          "data": {
            "text/html": [
              "<div>\n",
              "<style scoped>\n",
              "    .dataframe tbody tr th:only-of-type {\n",
              "        vertical-align: middle;\n",
              "    }\n",
              "\n",
              "    .dataframe tbody tr th {\n",
              "        vertical-align: top;\n",
              "    }\n",
              "\n",
              "    .dataframe thead th {\n",
              "        text-align: right;\n",
              "    }\n",
              "</style>\n",
              "<table border=\"1\" class=\"dataframe\">\n",
              "  <thead>\n",
              "    <tr style=\"text-align: right;\">\n",
              "      <th></th>\n",
              "      <th>Open</th>\n",
              "      <th>High</th>\n",
              "      <th>Low</th>\n",
              "      <th>Close</th>\n",
              "      <th>Adj Close</th>\n",
              "      <th>Volume</th>\n",
              "    </tr>\n",
              "    <tr>\n",
              "      <th>Date</th>\n",
              "      <th></th>\n",
              "      <th></th>\n",
              "      <th></th>\n",
              "      <th></th>\n",
              "      <th></th>\n",
              "      <th></th>\n",
              "    </tr>\n",
              "  </thead>\n",
              "  <tbody>\n",
              "    <tr>\n",
              "      <th>2000-01-03</th>\n",
              "      <td>58.687500</td>\n",
              "      <td>59.312500</td>\n",
              "      <td>56.000000</td>\n",
              "      <td>58.281250</td>\n",
              "      <td>36.861534</td>\n",
              "      <td>53228400</td>\n",
              "    </tr>\n",
              "    <tr>\n",
              "      <th>2000-01-04</th>\n",
              "      <td>56.781250</td>\n",
              "      <td>58.562500</td>\n",
              "      <td>56.125000</td>\n",
              "      <td>56.312500</td>\n",
              "      <td>35.616325</td>\n",
              "      <td>54119000</td>\n",
              "    </tr>\n",
              "    <tr>\n",
              "      <th>2000-01-05</th>\n",
              "      <td>55.562500</td>\n",
              "      <td>58.187500</td>\n",
              "      <td>54.687500</td>\n",
              "      <td>56.906250</td>\n",
              "      <td>35.991882</td>\n",
              "      <td>64059600</td>\n",
              "    </tr>\n",
              "    <tr>\n",
              "      <th>2000-01-06</th>\n",
              "      <td>56.093750</td>\n",
              "      <td>56.937500</td>\n",
              "      <td>54.187500</td>\n",
              "      <td>55.000000</td>\n",
              "      <td>34.786205</td>\n",
              "      <td>54976600</td>\n",
              "    </tr>\n",
              "    <tr>\n",
              "      <th>2000-01-07</th>\n",
              "      <td>54.312500</td>\n",
              "      <td>56.125000</td>\n",
              "      <td>53.656250</td>\n",
              "      <td>55.718750</td>\n",
              "      <td>35.240807</td>\n",
              "      <td>62013600</td>\n",
              "    </tr>\n",
              "    <tr>\n",
              "      <th>...</th>\n",
              "      <td>...</td>\n",
              "      <td>...</td>\n",
              "      <td>...</td>\n",
              "      <td>...</td>\n",
              "      <td>...</td>\n",
              "      <td>...</td>\n",
              "    </tr>\n",
              "    <tr>\n",
              "      <th>2021-10-14</th>\n",
              "      <td>299.209991</td>\n",
              "      <td>303.269989</td>\n",
              "      <td>297.829987</td>\n",
              "      <td>302.750000</td>\n",
              "      <td>302.750000</td>\n",
              "      <td>27262900</td>\n",
              "    </tr>\n",
              "    <tr>\n",
              "      <th>2021-10-15</th>\n",
              "      <td>302.339996</td>\n",
              "      <td>304.450012</td>\n",
              "      <td>300.519989</td>\n",
              "      <td>304.209991</td>\n",
              "      <td>304.209991</td>\n",
              "      <td>25374700</td>\n",
              "    </tr>\n",
              "    <tr>\n",
              "      <th>2021-10-18</th>\n",
              "      <td>303.570007</td>\n",
              "      <td>308.209991</td>\n",
              "      <td>302.690002</td>\n",
              "      <td>307.290009</td>\n",
              "      <td>307.290009</td>\n",
              "      <td>22729300</td>\n",
              "    </tr>\n",
              "    <tr>\n",
              "      <th>2021-10-19</th>\n",
              "      <td>308.350006</td>\n",
              "      <td>309.299988</td>\n",
              "      <td>307.220001</td>\n",
              "      <td>308.230011</td>\n",
              "      <td>308.230011</td>\n",
              "      <td>17682100</td>\n",
              "    </tr>\n",
              "    <tr>\n",
              "      <th>2021-10-20</th>\n",
              "      <td>309.209991</td>\n",
              "      <td>309.700012</td>\n",
              "      <td>306.109985</td>\n",
              "      <td>307.410004</td>\n",
              "      <td>307.410004</td>\n",
              "      <td>16537100</td>\n",
              "    </tr>\n",
              "  </tbody>\n",
              "</table>\n",
              "<p>5486 rows × 6 columns</p>\n",
              "</div>"
            ],
            "text/plain": [
              "                  Open        High  ...   Adj Close    Volume\n",
              "Date                                ...                      \n",
              "2000-01-03   58.687500   59.312500  ...   36.861534  53228400\n",
              "2000-01-04   56.781250   58.562500  ...   35.616325  54119000\n",
              "2000-01-05   55.562500   58.187500  ...   35.991882  64059600\n",
              "2000-01-06   56.093750   56.937500  ...   34.786205  54976600\n",
              "2000-01-07   54.312500   56.125000  ...   35.240807  62013600\n",
              "...                ...         ...  ...         ...       ...\n",
              "2021-10-14  299.209991  303.269989  ...  302.750000  27262900\n",
              "2021-10-15  302.339996  304.450012  ...  304.209991  25374700\n",
              "2021-10-18  303.570007  308.209991  ...  307.290009  22729300\n",
              "2021-10-19  308.350006  309.299988  ...  308.230011  17682100\n",
              "2021-10-20  309.209991  309.700012  ...  307.410004  16537100\n",
              "\n",
              "[5486 rows x 6 columns]"
            ]
          },
          "metadata": {},
          "execution_count": 11
        }
      ]
    },
    {
      "cell_type": "code",
      "metadata": {
        "id": "YK51fJ2KS1iV"
      },
      "source": [
        "data = data.reset_index()"
      ],
      "execution_count": null,
      "outputs": []
    },
    {
      "cell_type": "code",
      "metadata": {
        "colab": {
          "base_uri": "https://localhost:8080/",
          "height": 417
        },
        "id": "JF1a9F9BS1li",
        "outputId": "9046fe3a-73fb-467b-a03d-f112ce182b8a"
      },
      "source": [
        "data"
      ],
      "execution_count": null,
      "outputs": [
        {
          "output_type": "execute_result",
          "data": {
            "text/html": [
              "<div>\n",
              "<style scoped>\n",
              "    .dataframe tbody tr th:only-of-type {\n",
              "        vertical-align: middle;\n",
              "    }\n",
              "\n",
              "    .dataframe tbody tr th {\n",
              "        vertical-align: top;\n",
              "    }\n",
              "\n",
              "    .dataframe thead th {\n",
              "        text-align: right;\n",
              "    }\n",
              "</style>\n",
              "<table border=\"1\" class=\"dataframe\">\n",
              "  <thead>\n",
              "    <tr style=\"text-align: right;\">\n",
              "      <th></th>\n",
              "      <th>Date</th>\n",
              "      <th>Open</th>\n",
              "      <th>High</th>\n",
              "      <th>Low</th>\n",
              "      <th>Close</th>\n",
              "      <th>Adj Close</th>\n",
              "      <th>Volume</th>\n",
              "    </tr>\n",
              "  </thead>\n",
              "  <tbody>\n",
              "    <tr>\n",
              "      <th>0</th>\n",
              "      <td>2000-01-03</td>\n",
              "      <td>58.687500</td>\n",
              "      <td>59.312500</td>\n",
              "      <td>56.000000</td>\n",
              "      <td>58.281250</td>\n",
              "      <td>36.861534</td>\n",
              "      <td>53228400</td>\n",
              "    </tr>\n",
              "    <tr>\n",
              "      <th>1</th>\n",
              "      <td>2000-01-04</td>\n",
              "      <td>56.781250</td>\n",
              "      <td>58.562500</td>\n",
              "      <td>56.125000</td>\n",
              "      <td>56.312500</td>\n",
              "      <td>35.616325</td>\n",
              "      <td>54119000</td>\n",
              "    </tr>\n",
              "    <tr>\n",
              "      <th>2</th>\n",
              "      <td>2000-01-05</td>\n",
              "      <td>55.562500</td>\n",
              "      <td>58.187500</td>\n",
              "      <td>54.687500</td>\n",
              "      <td>56.906250</td>\n",
              "      <td>35.991882</td>\n",
              "      <td>64059600</td>\n",
              "    </tr>\n",
              "    <tr>\n",
              "      <th>3</th>\n",
              "      <td>2000-01-06</td>\n",
              "      <td>56.093750</td>\n",
              "      <td>56.937500</td>\n",
              "      <td>54.187500</td>\n",
              "      <td>55.000000</td>\n",
              "      <td>34.786205</td>\n",
              "      <td>54976600</td>\n",
              "    </tr>\n",
              "    <tr>\n",
              "      <th>4</th>\n",
              "      <td>2000-01-07</td>\n",
              "      <td>54.312500</td>\n",
              "      <td>56.125000</td>\n",
              "      <td>53.656250</td>\n",
              "      <td>55.718750</td>\n",
              "      <td>35.240807</td>\n",
              "      <td>62013600</td>\n",
              "    </tr>\n",
              "    <tr>\n",
              "      <th>...</th>\n",
              "      <td>...</td>\n",
              "      <td>...</td>\n",
              "      <td>...</td>\n",
              "      <td>...</td>\n",
              "      <td>...</td>\n",
              "      <td>...</td>\n",
              "      <td>...</td>\n",
              "    </tr>\n",
              "    <tr>\n",
              "      <th>5481</th>\n",
              "      <td>2021-10-14</td>\n",
              "      <td>299.209991</td>\n",
              "      <td>303.269989</td>\n",
              "      <td>297.829987</td>\n",
              "      <td>302.750000</td>\n",
              "      <td>302.750000</td>\n",
              "      <td>27262900</td>\n",
              "    </tr>\n",
              "    <tr>\n",
              "      <th>5482</th>\n",
              "      <td>2021-10-15</td>\n",
              "      <td>302.339996</td>\n",
              "      <td>304.450012</td>\n",
              "      <td>300.519989</td>\n",
              "      <td>304.209991</td>\n",
              "      <td>304.209991</td>\n",
              "      <td>25374700</td>\n",
              "    </tr>\n",
              "    <tr>\n",
              "      <th>5483</th>\n",
              "      <td>2021-10-18</td>\n",
              "      <td>303.570007</td>\n",
              "      <td>308.209991</td>\n",
              "      <td>302.690002</td>\n",
              "      <td>307.290009</td>\n",
              "      <td>307.290009</td>\n",
              "      <td>22729300</td>\n",
              "    </tr>\n",
              "    <tr>\n",
              "      <th>5484</th>\n",
              "      <td>2021-10-19</td>\n",
              "      <td>308.350006</td>\n",
              "      <td>309.299988</td>\n",
              "      <td>307.220001</td>\n",
              "      <td>308.230011</td>\n",
              "      <td>308.230011</td>\n",
              "      <td>17682100</td>\n",
              "    </tr>\n",
              "    <tr>\n",
              "      <th>5485</th>\n",
              "      <td>2021-10-20</td>\n",
              "      <td>309.209991</td>\n",
              "      <td>309.700012</td>\n",
              "      <td>306.109985</td>\n",
              "      <td>307.410004</td>\n",
              "      <td>307.410004</td>\n",
              "      <td>16537100</td>\n",
              "    </tr>\n",
              "  </tbody>\n",
              "</table>\n",
              "<p>5486 rows × 7 columns</p>\n",
              "</div>"
            ],
            "text/plain": [
              "           Date        Open        High  ...       Close   Adj Close    Volume\n",
              "0    2000-01-03   58.687500   59.312500  ...   58.281250   36.861534  53228400\n",
              "1    2000-01-04   56.781250   58.562500  ...   56.312500   35.616325  54119000\n",
              "2    2000-01-05   55.562500   58.187500  ...   56.906250   35.991882  64059600\n",
              "3    2000-01-06   56.093750   56.937500  ...   55.000000   34.786205  54976600\n",
              "4    2000-01-07   54.312500   56.125000  ...   55.718750   35.240807  62013600\n",
              "...         ...         ...         ...  ...         ...         ...       ...\n",
              "5481 2021-10-14  299.209991  303.269989  ...  302.750000  302.750000  27262900\n",
              "5482 2021-10-15  302.339996  304.450012  ...  304.209991  304.209991  25374700\n",
              "5483 2021-10-18  303.570007  308.209991  ...  307.290009  307.290009  22729300\n",
              "5484 2021-10-19  308.350006  309.299988  ...  308.230011  308.230011  17682100\n",
              "5485 2021-10-20  309.209991  309.700012  ...  307.410004  307.410004  16537100\n",
              "\n",
              "[5486 rows x 7 columns]"
            ]
          },
          "metadata": {},
          "execution_count": 13
        }
      ]
    },
    {
      "cell_type": "code",
      "metadata": {
        "colab": {
          "base_uri": "https://localhost:8080/"
        },
        "id": "Gl9lVVLcPb8z",
        "outputId": "ef447cd8-c4e1-4e4b-8b80-ad33fbcef9cc"
      },
      "source": [
        "data.columns"
      ],
      "execution_count": null,
      "outputs": [
        {
          "output_type": "execute_result",
          "data": {
            "text/plain": [
              "Index(['Date', 'Open', 'High', 'Low', 'Close', 'Adj Close', 'Volume'], dtype='object')"
            ]
          },
          "metadata": {},
          "execution_count": 14
        }
      ]
    },
    {
      "cell_type": "code",
      "metadata": {
        "colab": {
          "base_uri": "https://localhost:8080/",
          "height": 417
        },
        "id": "58AkMuXGPAIb",
        "outputId": "eb9fb5f6-15f8-4111-a210-4125da852b92"
      },
      "source": [
        "data"
      ],
      "execution_count": null,
      "outputs": [
        {
          "output_type": "execute_result",
          "data": {
            "text/html": [
              "<div>\n",
              "<style scoped>\n",
              "    .dataframe tbody tr th:only-of-type {\n",
              "        vertical-align: middle;\n",
              "    }\n",
              "\n",
              "    .dataframe tbody tr th {\n",
              "        vertical-align: top;\n",
              "    }\n",
              "\n",
              "    .dataframe thead th {\n",
              "        text-align: right;\n",
              "    }\n",
              "</style>\n",
              "<table border=\"1\" class=\"dataframe\">\n",
              "  <thead>\n",
              "    <tr style=\"text-align: right;\">\n",
              "      <th></th>\n",
              "      <th>Date</th>\n",
              "      <th>Open</th>\n",
              "      <th>High</th>\n",
              "      <th>Low</th>\n",
              "      <th>Close</th>\n",
              "      <th>Adj Close</th>\n",
              "      <th>Volume</th>\n",
              "    </tr>\n",
              "  </thead>\n",
              "  <tbody>\n",
              "    <tr>\n",
              "      <th>0</th>\n",
              "      <td>2000-01-03</td>\n",
              "      <td>58.687500</td>\n",
              "      <td>59.312500</td>\n",
              "      <td>56.000000</td>\n",
              "      <td>58.281250</td>\n",
              "      <td>36.861534</td>\n",
              "      <td>53228400</td>\n",
              "    </tr>\n",
              "    <tr>\n",
              "      <th>1</th>\n",
              "      <td>2000-01-04</td>\n",
              "      <td>56.781250</td>\n",
              "      <td>58.562500</td>\n",
              "      <td>56.125000</td>\n",
              "      <td>56.312500</td>\n",
              "      <td>35.616325</td>\n",
              "      <td>54119000</td>\n",
              "    </tr>\n",
              "    <tr>\n",
              "      <th>2</th>\n",
              "      <td>2000-01-05</td>\n",
              "      <td>55.562500</td>\n",
              "      <td>58.187500</td>\n",
              "      <td>54.687500</td>\n",
              "      <td>56.906250</td>\n",
              "      <td>35.991882</td>\n",
              "      <td>64059600</td>\n",
              "    </tr>\n",
              "    <tr>\n",
              "      <th>3</th>\n",
              "      <td>2000-01-06</td>\n",
              "      <td>56.093750</td>\n",
              "      <td>56.937500</td>\n",
              "      <td>54.187500</td>\n",
              "      <td>55.000000</td>\n",
              "      <td>34.786205</td>\n",
              "      <td>54976600</td>\n",
              "    </tr>\n",
              "    <tr>\n",
              "      <th>4</th>\n",
              "      <td>2000-01-07</td>\n",
              "      <td>54.312500</td>\n",
              "      <td>56.125000</td>\n",
              "      <td>53.656250</td>\n",
              "      <td>55.718750</td>\n",
              "      <td>35.240807</td>\n",
              "      <td>62013600</td>\n",
              "    </tr>\n",
              "    <tr>\n",
              "      <th>...</th>\n",
              "      <td>...</td>\n",
              "      <td>...</td>\n",
              "      <td>...</td>\n",
              "      <td>...</td>\n",
              "      <td>...</td>\n",
              "      <td>...</td>\n",
              "      <td>...</td>\n",
              "    </tr>\n",
              "    <tr>\n",
              "      <th>5481</th>\n",
              "      <td>2021-10-14</td>\n",
              "      <td>299.209991</td>\n",
              "      <td>303.269989</td>\n",
              "      <td>297.829987</td>\n",
              "      <td>302.750000</td>\n",
              "      <td>302.750000</td>\n",
              "      <td>27262900</td>\n",
              "    </tr>\n",
              "    <tr>\n",
              "      <th>5482</th>\n",
              "      <td>2021-10-15</td>\n",
              "      <td>302.339996</td>\n",
              "      <td>304.450012</td>\n",
              "      <td>300.519989</td>\n",
              "      <td>304.209991</td>\n",
              "      <td>304.209991</td>\n",
              "      <td>25374700</td>\n",
              "    </tr>\n",
              "    <tr>\n",
              "      <th>5483</th>\n",
              "      <td>2021-10-18</td>\n",
              "      <td>303.570007</td>\n",
              "      <td>308.209991</td>\n",
              "      <td>302.690002</td>\n",
              "      <td>307.290009</td>\n",
              "      <td>307.290009</td>\n",
              "      <td>22729300</td>\n",
              "    </tr>\n",
              "    <tr>\n",
              "      <th>5484</th>\n",
              "      <td>2021-10-19</td>\n",
              "      <td>308.350006</td>\n",
              "      <td>309.299988</td>\n",
              "      <td>307.220001</td>\n",
              "      <td>308.230011</td>\n",
              "      <td>308.230011</td>\n",
              "      <td>17682100</td>\n",
              "    </tr>\n",
              "    <tr>\n",
              "      <th>5485</th>\n",
              "      <td>2021-10-20</td>\n",
              "      <td>309.209991</td>\n",
              "      <td>309.700012</td>\n",
              "      <td>306.109985</td>\n",
              "      <td>307.410004</td>\n",
              "      <td>307.410004</td>\n",
              "      <td>16537100</td>\n",
              "    </tr>\n",
              "  </tbody>\n",
              "</table>\n",
              "<p>5486 rows × 7 columns</p>\n",
              "</div>"
            ],
            "text/plain": [
              "           Date        Open        High  ...       Close   Adj Close    Volume\n",
              "0    2000-01-03   58.687500   59.312500  ...   58.281250   36.861534  53228400\n",
              "1    2000-01-04   56.781250   58.562500  ...   56.312500   35.616325  54119000\n",
              "2    2000-01-05   55.562500   58.187500  ...   56.906250   35.991882  64059600\n",
              "3    2000-01-06   56.093750   56.937500  ...   55.000000   34.786205  54976600\n",
              "4    2000-01-07   54.312500   56.125000  ...   55.718750   35.240807  62013600\n",
              "...         ...         ...         ...  ...         ...         ...       ...\n",
              "5481 2021-10-14  299.209991  303.269989  ...  302.750000  302.750000  27262900\n",
              "5482 2021-10-15  302.339996  304.450012  ...  304.209991  304.209991  25374700\n",
              "5483 2021-10-18  303.570007  308.209991  ...  307.290009  307.290009  22729300\n",
              "5484 2021-10-19  308.350006  309.299988  ...  308.230011  308.230011  17682100\n",
              "5485 2021-10-20  309.209991  309.700012  ...  307.410004  307.410004  16537100\n",
              "\n",
              "[5486 rows x 7 columns]"
            ]
          },
          "metadata": {},
          "execution_count": 15
        }
      ]
    },
    {
      "cell_type": "code",
      "metadata": {
        "colab": {
          "base_uri": "https://localhost:8080/"
        },
        "id": "d5nc49v3DEKI",
        "outputId": "b913606d-46c4-409f-bffa-5a39e4835e9b"
      },
      "source": [
        "data[\"Date\"].min(), data[\"Date\"].max()"
      ],
      "execution_count": null,
      "outputs": [
        {
          "output_type": "execute_result",
          "data": {
            "text/plain": [
              "(Timestamp('2000-01-03 00:00:00'), Timestamp('2021-10-20 00:00:00'))"
            ]
          },
          "metadata": {},
          "execution_count": 16
        }
      ]
    },
    {
      "cell_type": "code",
      "metadata": {
        "colab": {
          "base_uri": "https://localhost:8080/",
          "height": 286
        },
        "id": "Xm2xHHPCP7c3",
        "outputId": "7f40e7fb-7a1e-4737-8da2-d379a23a73a5"
      },
      "source": [
        "data.plot(x=\"Date\", y=\"Open\")"
      ],
      "execution_count": null,
      "outputs": [
        {
          "output_type": "execute_result",
          "data": {
            "text/plain": [
              "<matplotlib.axes._subplots.AxesSubplot at 0x7f4e638a9fd0>"
            ]
          },
          "metadata": {},
          "execution_count": 17
        },
        {
          "output_type": "display_data",
          "data": {
            "image/png": "[encoded data removed]",
            "text/plain": [
              "<Figure size 432x288 with 1 Axes>"
            ]
          },
          "metadata": {
            "needs_background": "light"
          }
        }
      ]
    },
    {
      "cell_type": "code",
      "metadata": {
        "colab": {
          "base_uri": "https://localhost:8080/",
          "height": 286
        },
        "id": "gotaDDXkP7f-",
        "outputId": "b52c9de2-f1eb-4345-945e-ceb12b800243"
      },
      "source": [
        "data.plot(x=\"Date\", y=\"High\")"
      ],
      "execution_count": null,
      "outputs": [
        {
          "output_type": "execute_result",
          "data": {
            "text/plain": [
              "<matplotlib.axes._subplots.AxesSubplot at 0x7f4e63de5c50>"
            ]
          },
          "metadata": {},
          "execution_count": 18
        },
        {
          "output_type": "display_data",
          "data": {
            "image/png": "[encoded data removed]",
            "text/plain": [
              "<Figure size 432x288 with 1 Axes>"
            ]
          },
          "metadata": {
            "needs_background": "light"
          }
        }
      ]
    },
    {
      "cell_type": "code",
      "metadata": {
        "colab": {
          "base_uri": "https://localhost:8080/",
          "height": 172
        },
        "id": "G_nCaBIiP7iO",
        "outputId": "1902c9ea-44db-41e4-855b-ae8376656051"
      },
      "source": [
        "data[[\"Open\", \"High\",\"Low\",\"Close\"]].corr()"
      ],
      "execution_count": null,
      "outputs": [
        {
          "output_type": "execute_result",
          "data": {
            "text/html": [
              "<div>\n",
              "<style scoped>\n",
              "    .dataframe tbody tr th:only-of-type {\n",
              "        vertical-align: middle;\n",
              "    }\n",
              "\n",
              "    .dataframe tbody tr th {\n",
              "        vertical-align: top;\n",
              "    }\n",
              "\n",
              "    .dataframe thead th {\n",
              "        text-align: right;\n",
              "    }\n",
              "</style>\n",
              "<table border=\"1\" class=\"dataframe\">\n",
              "  <thead>\n",
              "    <tr style=\"text-align: right;\">\n",
              "      <th></th>\n",
              "      <th>Open</th>\n",
              "      <th>High</th>\n",
              "      <th>Low</th>\n",
              "      <th>Close</th>\n",
              "    </tr>\n",
              "  </thead>\n",
              "  <tbody>\n",
              "    <tr>\n",
              "      <th>Open</th>\n",
              "      <td>1.000000</td>\n",
              "      <td>0.999916</td>\n",
              "      <td>0.999911</td>\n",
              "      <td>0.999831</td>\n",
              "    </tr>\n",
              "    <tr>\n",
              "      <th>High</th>\n",
              "      <td>0.999916</td>\n",
              "      <td>1.000000</td>\n",
              "      <td>0.999862</td>\n",
              "      <td>0.999906</td>\n",
              "    </tr>\n",
              "    <tr>\n",
              "      <th>Low</th>\n",
              "      <td>0.999911</td>\n",
              "      <td>0.999862</td>\n",
              "      <td>1.000000</td>\n",
              "      <td>0.999915</td>\n",
              "    </tr>\n",
              "    <tr>\n",
              "      <th>Close</th>\n",
              "      <td>0.999831</td>\n",
              "      <td>0.999906</td>\n",
              "      <td>0.999915</td>\n",
              "      <td>1.000000</td>\n",
              "    </tr>\n",
              "  </tbody>\n",
              "</table>\n",
              "</div>"
            ],
            "text/plain": [
              "           Open      High       Low     Close\n",
              "Open   1.000000  0.999916  0.999911  0.999831\n",
              "High   0.999916  1.000000  0.999862  0.999906\n",
              "Low    0.999911  0.999862  1.000000  0.999915\n",
              "Close  0.999831  0.999906  0.999915  1.000000"
            ]
          },
          "metadata": {},
          "execution_count": 19
        }
      ]
    },
    {
      "cell_type": "code",
      "metadata": {
        "id": "QzB3LZAaVubB"
      },
      "source": [
        "data_6_yr = data[data[\"Date\"] > data[\"Date\"].max() - timedelta(days=365*6)]"
      ],
      "execution_count": null,
      "outputs": []
    },
    {
      "cell_type": "code",
      "metadata": {
        "colab": {
          "base_uri": "https://localhost:8080/"
        },
        "id": "H22tFb4uVudt",
        "outputId": "fbfe72e2-ca4b-4d2a-c27f-4055fe2b95c1"
      },
      "source": [
        "data_6_yr[\"Date\"].min(), data_6_yr[\"Date\"].max()"
      ],
      "execution_count": null,
      "outputs": [
        {
          "output_type": "execute_result",
          "data": {
            "text/plain": [
              "(Timestamp('2015-10-23 00:00:00'), Timestamp('2021-10-20 00:00:00'))"
            ]
          },
          "metadata": {},
          "execution_count": 21
        }
      ]
    },
    {
      "cell_type": "code",
      "metadata": {
        "colab": {
          "base_uri": "https://localhost:8080/"
        },
        "id": "7_e9viVWVuhE",
        "outputId": "5a84637b-2124-4c40-df51-31367031ed0e"
      },
      "source": [
        "data_6_yr.shape"
      ],
      "execution_count": null,
      "outputs": [
        {
          "output_type": "execute_result",
          "data": {
            "text/plain": [
              "(1509, 7)"
            ]
          },
          "metadata": {},
          "execution_count": 22
        }
      ]
    },
    {
      "cell_type": "code",
      "metadata": {
        "id": "TjS2VHWXVujJ"
      },
      "source": [
        "train_size = int(data_6_yr.shape[0]*0.8)\n",
        "train_data = data_6_yr.iloc[:train_size]\n",
        "validate_data = data_6_yr.iloc[train_size:]"
      ],
      "execution_count": null,
      "outputs": []
    },
    {
      "cell_type": "code",
      "metadata": {
        "colab": {
          "base_uri": "https://localhost:8080/"
        },
        "id": "Y5o4y_QFVumu",
        "outputId": "59e96f86-1214-493c-ee9f-ec6dade5d899"
      },
      "source": [
        "train_data.shape, validate_data.shape"
      ],
      "execution_count": null,
      "outputs": [
        {
          "output_type": "execute_result",
          "data": {
            "text/plain": [
              "((1207, 7), (302, 7))"
            ]
          },
          "metadata": {},
          "execution_count": 24
        }
      ]
    },
    {
      "cell_type": "code",
      "metadata": {
        "colab": {
          "base_uri": "https://localhost:8080/"
        },
        "id": "F59VamFHVuoO",
        "outputId": "dc7d9275-13b6-49fa-8491-32429bf4e052"
      },
      "source": [
        "train_data[\"Date\"].min(), train_data[\"Date\"].max()"
      ],
      "execution_count": null,
      "outputs": [
        {
          "output_type": "execute_result",
          "data": {
            "text/plain": [
              "(Timestamp('2015-10-23 00:00:00'), Timestamp('2020-08-10 00:00:00'))"
            ]
          },
          "metadata": {},
          "execution_count": 25
        }
      ]
    },
    {
      "cell_type": "code",
      "metadata": {
        "colab": {
          "base_uri": "https://localhost:8080/"
        },
        "id": "Y-jnWjA-Vurt",
        "outputId": "4a37080d-0072-4030-f816-41b3e0ddaca9"
      },
      "source": [
        "validate_data[\"Date\"].min(), validate_data[\"Date\"].max()"
      ],
      "execution_count": null,
      "outputs": [
        {
          "output_type": "execute_result",
          "data": {
            "text/plain": [
              "(Timestamp('2020-08-11 00:00:00'), Timestamp('2021-10-20 00:00:00'))"
            ]
          },
          "metadata": {},
          "execution_count": 26
        }
      ]
    },
    {
      "cell_type": "code",
      "metadata": {
        "id": "wnl-Shc-VutL"
      },
      "source": [
        "scaler = StandardScaler()\n",
        "scaler.fit(train_data[[\"Low\"]])\n",
        "\n",
        "def make_dataset(\n",
        "    df,                 #данные для создания датасета\n",
        "    window_size,        #кол. элементов для предсказания след. элемента\n",
        "    batch_size,         #кол. элементов в batch для обучения\n",
        "    use_scaler=True,    #использовать ли Scaler для нормализации свечей\n",
        "    shuffle=True        #смешивать элементы в датасете или нет\n",
        "):\n",
        "  features = df[[\"Low\"]].iloc[:-window_size]      #-N предыдущих элементов как фичи, поэтому вычитаем\n",
        "  if use_scaler:                                  #нормализуем фичи, если нужно\n",
        "    features=scaler.transform(features)\n",
        "  data = np.array(features, dtype=np.float32)     #приводим данные к нужному типу\n",
        "  ds = tf.keras.preprocessing.timeseries_dataset_from_array(    #создание датасета с временным рядом для обучения НС\n",
        "      data=data,                                  #принимает многомерный массив, кот. содержит фичи\n",
        "      targets=df[\"Low\"].iloc[window_size:],       #принимает лейблы, которые нужно сдвинуть на +N элементов\n",
        "                                                  #т.е. для каждых N элементов из фичей будем иметь N+1 элемент как лейбл\n",
        "      sequence_length=window_size,                #принимает длину нашей последовательности window_size\n",
        "      sequence_stride=1,                          #на сколько нужно сдвигать элемент для создания нового семпла, т.е. предсказываем каждый след. элемент\n",
        "      shuffle=shuffle,                            #нужно ли перемешивать элементы\n",
        "      batch_size=batch_size                       #какой размер батча\n",
        "  )\n",
        "  return ds  \n"
      ],
      "execution_count": null,
      "outputs": []
    },
    {
      "cell_type": "code",
      "metadata": {
        "id": "2O0KinBbVuw7"
      },
      "source": [
        "example_ds = make_dataset(df=train_data, window_size=3, batch_size=2, use_scaler=False, shuffle=False)"
      ],
      "execution_count": null,
      "outputs": []
    },
    {
      "cell_type": "code",
      "metadata": {
        "id": "yViKZkKxP7lZ"
      },
      "source": [
        "example_feature, example_label = next(example_ds.as_numpy_iterator())"
      ],
      "execution_count": null,
      "outputs": []
    },
    {
      "cell_type": "code",
      "metadata": {
        "colab": {
          "base_uri": "https://localhost:8080/"
        },
        "id": "SmEIVhKjdAh7",
        "outputId": "15dc4434-a10f-4da2-b960-2be7a9077f62"
      },
      "source": [
        "example_feature.shape"
      ],
      "execution_count": null,
      "outputs": [
        {
          "output_type": "execute_result",
          "data": {
            "text/plain": [
              "(2, 3, 1)"
            ]
          },
          "metadata": {},
          "execution_count": 30
        }
      ]
    },
    {
      "cell_type": "code",
      "metadata": {
        "colab": {
          "base_uri": "https://localhost:8080/"
        },
        "id": "JPsXQ6SwdAlK",
        "outputId": "81a5204f-6577-47cd-ad9e-989713f10341"
      },
      "source": [
        "example_label.shape"
      ],
      "execution_count": null,
      "outputs": [
        {
          "output_type": "execute_result",
          "data": {
            "text/plain": [
              "(2,)"
            ]
          },
          "metadata": {},
          "execution_count": 31
        }
      ]
    },
    {
      "cell_type": "code",
      "metadata": {
        "colab": {
          "base_uri": "https://localhost:8080/"
        },
        "id": "hy2s-oU6dAom",
        "outputId": "150c3dd8-22ec-4bbb-d47b-c03ea288fa79"
      },
      "source": [
        "train_data[\"Low\"].iloc[:6]"
      ],
      "execution_count": null,
      "outputs": [
        {
          "output_type": "execute_result",
          "data": {
            "text/plain": [
              "3977    52.250000\n",
              "3978    52.500000\n",
              "3979    53.580002\n",
              "3980    52.860001\n",
              "3981    53.220001\n",
              "3982    52.619999\n",
              "Name: Low, dtype: float64"
            ]
          },
          "metadata": {},
          "execution_count": 32
        }
      ]
    },
    {
      "cell_type": "code",
      "metadata": {
        "colab": {
          "base_uri": "https://localhost:8080/"
        },
        "id": "cknzhh6beAKm",
        "outputId": "28514041-4d8a-4750-c437-fd2b5f4b739b"
      },
      "source": [
        "print(example_feature[0])\n",
        "print(example_label[0])"
      ],
      "execution_count": null,
      "outputs": [
        {
          "output_type": "stream",
          "name": "stdout",
          "text": [
            "[[52.25]\n",
            " [52.5 ]\n",
            " [53.58]]\n",
            "52.86000061035156\n"
          ]
        }
      ]
    },
    {
      "cell_type": "code",
      "metadata": {
        "colab": {
          "base_uri": "https://localhost:8080/"
        },
        "id": "Jeyo2bY1dAqc",
        "outputId": "0699e573-cd08-440d-d28d-a64ec3d53358"
      },
      "source": [
        "print(example_feature[1])\n",
        "print(example_label[1])"
      ],
      "execution_count": null,
      "outputs": [
        {
          "output_type": "stream",
          "name": "stdout",
          "text": [
            "[[52.5 ]\n",
            " [53.58]\n",
            " [52.86]]\n",
            "53.220001220703125\n"
          ]
        }
      ]
    },
    {
      "cell_type": "code",
      "metadata": {
        "id": "UGiESNqndAuA"
      },
      "source": [
        "window_size=10\n",
        "batch_size=8\n",
        "train_ds = make_dataset(df=train_data, window_size=window_size, batch_size=batch_size, use_scaler=True, shuffle=True)\n",
        "val_ds = make_dataset(df=validate_data, window_size=window_size, batch_size=batch_size, use_scaler=True, shuffle=True)"
      ],
      "execution_count": null,
      "outputs": []
    },
    {
      "cell_type": "code",
      "metadata": {
        "colab": {
          "base_uri": "https://localhost:8080/"
        },
        "id": "wDzwUYhGAtW8",
        "outputId": "8a7c4119-7334-4c47-a0a1-ea08cefbb742"
      },
      "source": [
        "train_ds"
      ],
      "execution_count": null,
      "outputs": [
        {
          "output_type": "execute_result",
          "data": {
            "text/plain": [
              "<BatchDataset shapes: ((None, None, 1), (None,)), types: (tf.float32, tf.float64)>"
            ]
          },
          "metadata": {},
          "execution_count": 36
        }
      ]
    },
    {
      "cell_type": "code",
      "metadata": {
        "colab": {
          "base_uri": "https://localhost:8080/"
        },
        "id": "v6u8XltJAtoZ",
        "outputId": "5cae4f2a-c13d-4e28-faed-8263bf110bfc"
      },
      "source": [
        "val_ds"
      ],
      "execution_count": null,
      "outputs": [
        {
          "output_type": "execute_result",
          "data": {
            "text/plain": [
              "<BatchDataset shapes: ((None, None, 1), (None,)), types: (tf.float32, tf.float64)>"
            ]
          },
          "metadata": {},
          "execution_count": 37
        }
      ]
    },
    {
      "cell_type": "code",
      "metadata": {
        "id": "Z2f3yUKmdAvw"
      },
      "source": [
        "lstm_model = tf.keras.models.Sequential([\n",
        "  tf.keras.layers.LSTM(32, return_sequences=False),\n",
        "  tf.keras.layers.Dense(1)\n",
        "])"
      ],
      "execution_count": null,
      "outputs": []
    },
    {
      "cell_type": "code",
      "metadata": {
        "id": "1AtopvPGe9EF"
      },
      "source": [
        "def compile_and_fit(model, train_ds, val_ds, num_epochs: int = 20): #принимает модель, тренировочный датасет, валидационный датасет и кол. эпох для тренировки\n",
        "  model.compile(                              #сперва модель компилируется\n",
        "      loss=tf.losses.MeanSquaredError(),      #передаем функцию потерь, исп. для обучения - Это регресия - предск. вещ. числа - для этой задачи исп. MeanSquaredError\n",
        "      optimizer=tf.optimizers.Adam(),         #передаем функцию оптимизации, кот. используется для оптимизации функции потерь\n",
        "      metrics=[tf.metrics.MeanAbsoluteError()]    #передается массив метрик, для просмотра как происходит обучение, как наши метрики меняются - растут/уменьшаются или остаются на месте\n",
        "  )\n",
        "  history = model.fit(                        #здесь происходит обучение\n",
        "      train_ds,                               #передаем тренировочный датасет, на котором будет происходить обучение\n",
        "      epochs=num_epochs,                      #кол. эпох - сколько раз полностью пройдемся по всему тренировочному датасету - сколько раз мы используем все семплы из тренировочного датасета для обучения\n",
        "      validation_data=val_ds,                 #передаем те данные, по которым можно расчитывать валидационные метрики - на которых можно понять наша модель переобучается или нет\n",
        "      verbose=0                               #выводить ли промежуточную информацию во время обучения\n",
        "  )\n",
        "  return history                              #объект с помощью которого можно напечатать значения метрик во время эпох"
      ],
      "execution_count": null,
      "outputs": []
    },
    {
      "cell_type": "code",
      "metadata": {
        "colab": {
          "base_uri": "https://localhost:8080/"
        },
        "id": "3gLhJZ8Te9Ie",
        "outputId": "2c807b64-cb40-47f4-f366-61b0e452590c"
      },
      "source": [
        "start_time = time.time()\n",
        "lstm_model = tf.keras.models.Sequential([\n",
        "  tf.keras.layers.LSTM(32, return_sequences=False),\n",
        "  tf.keras.layers.Dense(1)\n",
        "])\n",
        "history = compile_and_fit(lstm_model, train_ds, val_ds, num_epochs=100)\n",
        "print(\"--- %s seconds ---\" % (time.time() - start_time))"
      ],
      "execution_count": null,
      "outputs": [
        {
          "output_type": "stream",
          "name": "stdout",
          "text": [
            "--- 118.48243975639343 seconds ---\n"
          ]
        }
      ]
    },
    {
      "cell_type": "code",
      "metadata": {
        "colab": {
          "base_uri": "https://localhost:8080/",
          "height": 282
        },
        "id": "dOY5xeo5e9Kv",
        "outputId": "db964f82-e2ca-4a23-aaa2-8ae7872788bb"
      },
      "source": [
        "plt.plot(history.history['mean_absolute_error'])"
      ],
      "execution_count": null,
      "outputs": [
        {
          "output_type": "execute_result",
          "data": {
            "text/plain": [
              "[<matplotlib.lines.Line2D at 0x7fadb4dcdd10>]"
            ]
          },
          "metadata": {},
          "execution_count": 37
        },
        {
          "output_type": "display_data",
          "data": {
            "image/png": "[encoded data removed]",
            "text/plain": [
              "<Figure size 432x288 with 1 Axes>"
            ]
          },
          "metadata": {
            "needs_background": "light"
          }
        }
      ]
    },
    {
      "cell_type": "code",
      "metadata": {
        "colab": {
          "base_uri": "https://localhost:8080/",
          "height": 282
        },
        "id": "rTKU2pFSe9Of",
        "outputId": "7a1995f7-9f2f-481d-8e0c-53741f139f00"
      },
      "source": [
        "plt.plot(history.history['val_mean_absolute_error'])"
      ],
      "execution_count": null,
      "outputs": [
        {
          "output_type": "execute_result",
          "data": {
            "text/plain": [
              "[<matplotlib.lines.Line2D at 0x7fadb26ea190>]"
            ]
          },
          "metadata": {},
          "execution_count": 38
        },
        {
          "output_type": "display_data",
          "data": {
            "image/png": "[encoded data removed]",
            "text/plain": [
              "<Figure size 432x288 with 1 Axes>"
            ]
          },
          "metadata": {
            "needs_background": "light"
          }
        }
      ]
    },
    {
      "cell_type": "code",
      "metadata": {
        "colab": {
          "base_uri": "https://localhost:8080/"
        },
        "id": "8dMYvIcde9RZ",
        "outputId": "22940e62-f327-4fe1-80fa-e4d970914ee7"
      },
      "source": [
        "lstm_model.evaluate(train_ds)"
      ],
      "execution_count": null,
      "outputs": [
        {
          "output_type": "stream",
          "name": "stdout",
          "text": [
            "149/149 [==============================] - 1s 3ms/step - loss: 4.2422 - mean_absolute_error: 1.2585\n"
          ]
        },
        {
          "output_type": "execute_result",
          "data": {
            "text/plain": [
              "[4.242186069488525, 1.2585031986236572]"
            ]
          },
          "metadata": {},
          "execution_count": 39
        }
      ]
    },
    {
      "cell_type": "code",
      "metadata": {
        "colab": {
          "base_uri": "https://localhost:8080/"
        },
        "id": "Y7VhAFcMdAzO",
        "outputId": "026293cd-6ee6-45e4-a11f-fd4346cf3de8"
      },
      "source": [
        "lstm_model.evaluate(val_ds)"
      ],
      "execution_count": null,
      "outputs": [
        {
          "output_type": "stream",
          "name": "stdout",
          "text": [
            "36/36 [==============================] - 0s 3ms/step - loss: 2695.0029 - mean_absolute_error: 42.1927\n"
          ]
        },
        {
          "output_type": "execute_result",
          "data": {
            "text/plain": [
              "[2695.0029296875, 42.192726135253906]"
            ]
          },
          "metadata": {},
          "execution_count": 40
        }
      ]
    },
    {
      "cell_type": "code",
      "metadata": {
        "id": "ITe1a_0zP7ni",
        "colab": {
          "base_uri": "https://localhost:8080/"
        },
        "outputId": "8b259a54-f172-4e28-82ac-37aace47a861"
      },
      "source": [
        "start_time = time.time()\n",
        "lstm_model = tf.keras.models.Sequential([\n",
        "  tf.keras.layers.LSTM(32, return_sequences=False),\n",
        "  tf.keras.layers.Dense(1)\n",
        "])\n",
        "history = compile_and_fit(lstm_model, train_ds, val_ds, num_epochs=500)\n",
        "print(\"--- %s seconds ---\" % (time.time() - start_time))"
      ],
      "execution_count": null,
      "outputs": [
        {
          "output_type": "stream",
          "name": "stdout",
          "text": [
            "--- 579.0474197864532 seconds ---\n"
          ]
        }
      ]
    },
    {
      "cell_type": "code",
      "metadata": {
        "colab": {
          "base_uri": "https://localhost:8080/"
        },
        "id": "0WnT_l0DkG43",
        "outputId": "f0ab7eb7-c1a6-4598-dfcd-4ccf33886041"
      },
      "source": [
        "lstm_model.evaluate(train_ds)"
      ],
      "execution_count": null,
      "outputs": [
        {
          "output_type": "stream",
          "name": "stdout",
          "text": [
            "149/149 [==============================] - 0s 3ms/step - loss: 2.7994 - mean_absolute_error: 1.0814\n"
          ]
        },
        {
          "output_type": "execute_result",
          "data": {
            "text/plain": [
              "[2.7993855476379395, 1.081403136253357]"
            ]
          },
          "metadata": {},
          "execution_count": 42
        }
      ]
    },
    {
      "cell_type": "code",
      "metadata": {
        "colab": {
          "base_uri": "https://localhost:8080/"
        },
        "id": "FN7PszZUkG7k",
        "outputId": "1304ec01-2f97-44d5-83ed-928c1bb254c9"
      },
      "source": [
        "lstm_model.evaluate(val_ds)"
      ],
      "execution_count": null,
      "outputs": [
        {
          "output_type": "stream",
          "name": "stdout",
          "text": [
            "36/36 [==============================] - 0s 3ms/step - loss: 2735.3262 - mean_absolute_error: 40.9284\n"
          ]
        },
        {
          "output_type": "execute_result",
          "data": {
            "text/plain": [
              "[2735.326171875, 40.92841339111328]"
            ]
          },
          "metadata": {},
          "execution_count": 43
        }
      ]
    },
    {
      "cell_type": "code",
      "metadata": {
        "colab": {
          "base_uri": "https://localhost:8080/",
          "height": 282
        },
        "id": "zLB5x3mJkG_O",
        "outputId": "737c7b4e-9532-40e7-9144-b3103b55822d"
      },
      "source": [
        "plt.plot(history.history['mean_absolute_error'])"
      ],
      "execution_count": null,
      "outputs": [
        {
          "output_type": "execute_result",
          "data": {
            "text/plain": [
              "[<matplotlib.lines.Line2D at 0x7fadb2f64dd0>]"
            ]
          },
          "metadata": {},
          "execution_count": 44
        },
        {
          "output_type": "display_data",
          "data": {
            "image/png": "[encoded data removed]",
            "text/plain": [
              "<Figure size 432x288 with 1 Axes>"
            ]
          },
          "metadata": {
            "needs_background": "light"
          }
        }
      ]
    },
    {
      "cell_type": "code",
      "metadata": {
        "colab": {
          "base_uri": "https://localhost:8080/",
          "height": 282
        },
        "id": "hXCsz6XnkHBF",
        "outputId": "d92596c2-1b55-4902-af73-a229e6d791fd"
      },
      "source": [
        "plt.plot(history.history['val_mean_absolute_error'])"
      ],
      "execution_count": null,
      "outputs": [
        {
          "output_type": "execute_result",
          "data": {
            "text/plain": [
              "[<matplotlib.lines.Line2D at 0x7fadb2f4c850>]"
            ]
          },
          "metadata": {},
          "execution_count": 45
        },
        {
          "output_type": "display_data",
          "data": {
            "image/png": "[encoded data removed]",
            "text/plain": [
              "<Figure size 432x288 with 1 Axes>"
            ]
          },
          "metadata": {
            "needs_background": "light"
          }
        }
      ]
    },
    {
      "cell_type": "code",
      "metadata": {
        "id": "AmPRbm3vkHEt",
        "colab": {
          "base_uri": "https://localhost:8080/"
        },
        "outputId": "ec878970-a85b-4978-a821-237865f2d4cb"
      },
      "source": [
        "start_time = time.time()\n",
        "lstm_model = tf.keras.models.Sequential([\n",
        "  tf.keras.layers.LSTM(32, return_sequences=False),\n",
        "  tf.keras.layers.Dropout(0.2),\n",
        "  tf.keras.layers.Dense(1)\n",
        "])\n",
        "history = compile_and_fit(lstm_model, train_ds, val_ds, num_epochs=500)\n",
        "print(\"--- %s seconds ---\" % (time.time() - start_time))"
      ],
      "execution_count": null,
      "outputs": [
        {
          "output_type": "stream",
          "name": "stdout",
          "text": [
            "--- 592.4240515232086 seconds ---\n"
          ]
        }
      ]
    },
    {
      "cell_type": "code",
      "metadata": {
        "colab": {
          "base_uri": "https://localhost:8080/"
        },
        "id": "vDQdo5h3nomU",
        "outputId": "d3ff8332-4ad3-4dec-c285-7497b67c90e3"
      },
      "source": [
        "lstm_model.evaluate(train_ds)"
      ],
      "execution_count": null,
      "outputs": [
        {
          "output_type": "stream",
          "name": "stdout",
          "text": [
            "149/149 [==============================] - 1s 3ms/step - loss: 5.5102 - mean_absolute_error: 1.6162\n"
          ]
        },
        {
          "output_type": "execute_result",
          "data": {
            "text/plain": [
              "[5.510150909423828, 1.6162093877792358]"
            ]
          },
          "metadata": {},
          "execution_count": 47
        }
      ]
    },
    {
      "cell_type": "code",
      "metadata": {
        "colab": {
          "base_uri": "https://localhost:8080/"
        },
        "id": "HVcMRIDunotY",
        "outputId": "b342be9e-2360-43a8-8e31-33233d075026"
      },
      "source": [
        "lstm_model.evaluate(val_ds)"
      ],
      "execution_count": null,
      "outputs": [
        {
          "output_type": "stream",
          "name": "stdout",
          "text": [
            "36/36 [==============================] - 0s 3ms/step - loss: 1203.0651 - mean_absolute_error: 26.1930\n"
          ]
        },
        {
          "output_type": "execute_result",
          "data": {
            "text/plain": [
              "[1203.0650634765625, 26.193008422851562]"
            ]
          },
          "metadata": {},
          "execution_count": 48
        }
      ]
    },
    {
      "cell_type": "code",
      "metadata": {
        "colab": {
          "base_uri": "https://localhost:8080/",
          "height": 282
        },
        "id": "1ZW8MGbtnowb",
        "outputId": "cde5b383-23dc-4473-e236-b30d35b49eb7"
      },
      "source": [
        "plt.plot(history.history['mean_absolute_error'])"
      ],
      "execution_count": null,
      "outputs": [
        {
          "output_type": "execute_result",
          "data": {
            "text/plain": [
              "[<matplotlib.lines.Line2D at 0x7fadb4b224d0>]"
            ]
          },
          "metadata": {},
          "execution_count": 49
        },
        {
          "output_type": "display_data",
          "data": {
            "image/png": "[encoded data removed]",
            "text/plain": [
              "<Figure size 432x288 with 1 Axes>"
            ]
          },
          "metadata": {
            "needs_background": "light"
          }
        }
      ]
    },
    {
      "cell_type": "code",
      "metadata": {
        "colab": {
          "base_uri": "https://localhost:8080/",
          "height": 282
        },
        "id": "gZVb0-fOnpCE",
        "outputId": "0a4fd8f9-6535-4134-b211-eec9acb5f5c7"
      },
      "source": [
        "plt.plot(history.history['val_mean_absolute_error'])"
      ],
      "execution_count": null,
      "outputs": [
        {
          "output_type": "execute_result",
          "data": {
            "text/plain": [
              "[<matplotlib.lines.Line2D at 0x7fadb498fa50>]"
            ]
          },
          "metadata": {},
          "execution_count": 50
        },
        {
          "output_type": "display_data",
          "data": {
            "image/png": "[encoded data removed]",
            "text/plain": [
              "<Figure size 432x288 with 1 Axes>"
            ]
          },
          "metadata": {
            "needs_background": "light"
          }
        }
      ]
    },
    {
      "cell_type": "code",
      "metadata": {
        "id": "yDGBgWjunpFP"
      },
      "source": [
        ""
      ],
      "execution_count": null,
      "outputs": []
    },
    {
      "cell_type": "code",
      "metadata": {
        "id": "iX1jhVqlnpKc"
      },
      "source": [
        ""
      ],
      "execution_count": null,
      "outputs": []
    },
    {
      "cell_type": "code",
      "metadata": {
        "id": "L6rEx2eSkHHA"
      },
      "source": [
        ""
      ],
      "execution_count": null,
      "outputs": []
    },
    {
      "cell_type": "code",
      "metadata": {
        "id": "piM1O2J_kHIq"
      },
      "source": [
        ""
      ],
      "execution_count": null,
      "outputs": []
    },
    {
      "cell_type": "code",
      "metadata": {
        "colab": {
          "base_uri": "https://localhost:8080/"
        },
        "id": "ey6Qae06P7qv",
        "outputId": "8a7b018c-5dcc-4003-a864-fb42b7b6ff4a"
      },
      "source": [
        "msft = yf.Ticker(\"MSFT\")\n",
        "\n",
        "# get stock info\n",
        "msft.info\n",
        "\n",
        "# get historical market data\n",
        "hist = msft.history(period=\"max\")\n",
        "\n",
        "# show actions (dividends, splits)\n",
        "msft.actions\n",
        "\n",
        "# show dividends\n",
        "msft.dividends\n",
        "\n",
        "# show splits\n",
        "msft.splits\n",
        "\n",
        "# show financials\n",
        "msft.financials\n",
        "msft.quarterly_financials\n",
        "\n",
        "# show major holders\n",
        "msft.major_holders\n",
        "\n",
        "# show institutional holders\n",
        "msft.institutional_holders\n",
        "\n",
        "# show balance sheet\n",
        "msft.balance_sheet\n",
        "msft.quarterly_balance_sheet\n",
        "\n",
        "# show cashflow\n",
        "msft.cashflow\n",
        "msft.quarterly_cashflow\n",
        "\n",
        "# show earnings\n",
        "msft.earnings\n",
        "msft.quarterly_earnings\n",
        "\n",
        "# show sustainability\n",
        "msft.sustainability\n",
        "\n",
        "# show analysts recommendations\n",
        "msft.recommendations\n",
        "\n",
        "# show next event (earnings, etc)\n",
        "msft.calendar\n",
        "\n",
        "# show ISIN code - *experimental*\n",
        "# ISIN = International Securities Identification Number\n",
        "msft.isin\n",
        "\n",
        "# show options expirations\n",
        "msft.options\n",
        "\n",
        "# get option chain for specific expiration\n",
        "#opt = msft.option_chain('YYYY-MM-DD')\n",
        "# data available via: opt.calls, opt.puts"
      ],
      "execution_count": null,
      "outputs": [
        {
          "output_type": "execute_result",
          "data": {
            "text/plain": [
              "('2021-10-22',\n",
              " '2021-10-29',\n",
              " '2021-11-05',\n",
              " '2021-11-12',\n",
              " '2021-11-19',\n",
              " '2021-11-26',\n",
              " '2021-12-17',\n",
              " '2022-01-21',\n",
              " '2022-02-18',\n",
              " '2022-03-18',\n",
              " '2022-04-14',\n",
              " '2022-06-17',\n",
              " '2022-09-16',\n",
              " '2023-01-20',\n",
              " '2023-03-17',\n",
              " '2023-06-16',\n",
              " '2024-01-19')"
            ]
          },
          "metadata": {},
          "execution_count": 27
        }
      ]
    },
    {
      "cell_type": "code",
      "metadata": {
        "colab": {
          "base_uri": "https://localhost:8080/"
        },
        "id": "kc-0CsKeQDNA",
        "outputId": "33cde092-ac0f-4acb-f220-e360c550ed9f"
      },
      "source": [
        "# get stock info\n",
        "msft.info"
      ],
      "execution_count": null,
      "outputs": [
        {
          "output_type": "execute_result",
          "data": {
            "text/plain": [
              "{'52WeekChange': 0.41326678,\n",
              " 'SandP52WeekChange': 0.2951163,\n",
              " 'address1': 'One Microsoft Way',\n",
              " 'algorithm': None,\n",
              " 'annualHoldingsTurnover': None,\n",
              " 'annualReportExpenseRatio': None,\n",
              " 'ask': 304.3,\n",
              " 'askSize': 900,\n",
              " 'averageDailyVolume10Day': 22009328,\n",
              " 'averageVolume': 22968657,\n",
              " 'averageVolume10days': 22009328,\n",
              " 'beta': 0.802645,\n",
              " 'beta3Year': None,\n",
              " 'bid': 304.21,\n",
              " 'bidSize': 900,\n",
              " 'bookValue': 18.884,\n",
              " 'category': None,\n",
              " 'circulatingSupply': None,\n",
              " 'city': 'Redmond',\n",
              " 'companyOfficers': [],\n",
              " 'country': 'United States',\n",
              " 'currency': 'USD',\n",
              " 'currentPrice': 304.21,\n",
              " 'currentRatio': 2.08,\n",
              " 'dateShortInterest': 1632960000,\n",
              " 'dayHigh': 304.45,\n",
              " 'dayLow': 300.52,\n",
              " 'debtToEquity': 57.947,\n",
              " 'dividendRate': 2.48,\n",
              " 'dividendYield': 0.0082,\n",
              " 'earningsGrowth': 0.486,\n",
              " 'earningsQuarterlyGrowth': 0.469,\n",
              " 'ebitda': 80815996928,\n",
              " 'ebitdaMargins': 0.48080003,\n",
              " 'enterpriseToEbitda': 27.558,\n",
              " 'enterpriseToRevenue': 13.25,\n",
              " 'enterpriseValue': 2227155238912,\n",
              " 'exDividendDate': 1637107200,\n",
              " 'exchange': 'NMS',\n",
              " 'exchangeTimezoneName': 'America/New_York',\n",
              " 'exchangeTimezoneShortName': 'EDT',\n",
              " 'expireDate': None,\n",
              " 'fiftyDayAverage': 296.16177,\n",
              " 'fiftyTwoWeekHigh': 305.84,\n",
              " 'fiftyTwoWeekLow': 199.62,\n",
              " 'financialCurrency': 'USD',\n",
              " 'fiveYearAverageReturn': None,\n",
              " 'fiveYearAvgDividendYield': 1.48,\n",
              " 'floatShares': 7506925463,\n",
              " 'forwardEps': 10.11,\n",
              " 'forwardPE': 30.09001,\n",
              " 'freeCashflow': 41337249792,\n",
              " 'fromCurrency': None,\n",
              " 'fullTimeEmployees': 181000,\n",
              " 'fundFamily': None,\n",
              " 'fundInceptionDate': None,\n",
              " 'gmtOffSetMilliseconds': '-14400000',\n",
              " 'grossMargins': 0.68926,\n",
              " 'grossProfits': 115856000000,\n",
              " 'heldPercentInsiders': 0.00079,\n",
              " 'heldPercentInstitutions': 0.71733004,\n",
              " 'impliedSharesOutstanding': None,\n",
              " 'industry': 'Software—Infrastructure',\n",
              " 'isEsgPopulated': False,\n",
              " 'lastCapGain': None,\n",
              " 'lastDividendDate': 1629244800,\n",
              " 'lastDividendValue': 0.56,\n",
              " 'lastFiscalYearEnd': 1625011200,\n",
              " 'lastMarket': None,\n",
              " 'lastSplitDate': 1045526400,\n",
              " 'lastSplitFactor': '2:1',\n",
              " 'legalType': None,\n",
              " 'logo_url': 'https://logo.clearbit.com/microsoft.com',\n",
              " 'longBusinessSummary': 'Microsoft Corporation develops, licenses, and supports software, services, devices, and solutions worldwide. Its Productivity and Business Processes segment offers Office, Exchange, SharePoint, Microsoft Teams, Office 365 Security and Compliance, and Skype for Business, as well as related Client Access Licenses (CAL); Skype, Outlook.com, OneDrive, and LinkedIn; and Dynamics 365, a set of cloud-based and on-premises business solutions for organizations and enterprise divisions. Its Intelligent Cloud segment licenses SQL, Windows Servers, Visual Studio, System Center, and related CALs; GitHub that provides a collaboration platform and code hosting service for developers; and Azure, a cloud platform. It also offers support services and Microsoft consulting services to assist customers in developing, deploying, and managing Microsoft server and desktop solutions; and training and certification on Microsoft products. Its More Personal Computing segment provides Windows original equipment manufacturer (OEM) licensing and other non-volume licensing of the Windows operating system; Windows Commercial, such as volume licensing of the Windows operating system, Windows cloud services, and other Windows commercial offerings; patent licensing; Windows Internet of Things; and MSN advertising. It also offers Surface, PC accessories, PCs, tablets, gaming and entertainment consoles, and other devices; Gaming, including Xbox hardware, and Xbox content and services; video games and third-party video game royalties; and Search, including Bing and Microsoft advertising. It sells its products through OEMs, distributors, and resellers; and directly through digital marketplaces, online stores, and retail stores. It has collaborations with Dynatrace, Inc., Morgan Stanley, Micro Focus, WPP plc, ACI Worldwide, Inc., and iCIMS, Inc., as well as a strategic relationship with Avaya Holdings Corp. Microsoft Corporation was founded in 1975 and is headquartered in Redmond, Washington.',\n",
              " 'longName': 'Microsoft Corporation',\n",
              " 'market': 'us_market',\n",
              " 'marketCap': 2286104608768,\n",
              " 'maxAge': 1,\n",
              " 'maxSupply': None,\n",
              " 'messageBoardId': 'finmb_21835',\n",
              " 'morningStarOverallRating': None,\n",
              " 'morningStarRiskRating': None,\n",
              " 'mostRecentQuarter': 1625011200,\n",
              " 'navPrice': None,\n",
              " 'netIncomeToCommon': 61270999040,\n",
              " 'nextFiscalYearEnd': 1688083200,\n",
              " 'numberOfAnalystOpinions': 37,\n",
              " 'open': 302.34,\n",
              " 'openInterest': None,\n",
              " 'operatingCashflow': 76740001792,\n",
              " 'operatingMargins': 0.41595,\n",
              " 'payoutRatio': 0.272,\n",
              " 'pegRatio': 2.21,\n",
              " 'phone': '425 882 8080',\n",
              " 'previousClose': 302.75,\n",
              " 'priceHint': 2,\n",
              " 'priceToBook': 16.109404,\n",
              " 'priceToSalesTrailing12Months': 13.600642,\n",
              " 'profitMargins': 0.36451998,\n",
              " 'quickRatio': 1.898,\n",
              " 'quoteType': 'EQUITY',\n",
              " 'recommendationKey': 'buy',\n",
              " 'recommendationMean': 1.7,\n",
              " 'regularMarketDayHigh': 304.45,\n",
              " 'regularMarketDayLow': 300.52,\n",
              " 'regularMarketOpen': 302.34,\n",
              " 'regularMarketPreviousClose': 302.75,\n",
              " 'regularMarketPrice': 304.21,\n",
              " 'regularMarketVolume': 25384803,\n",
              " 'returnOnAssets': 0.13761,\n",
              " 'returnOnEquity': 0.47079,\n",
              " 'revenueGrowth': 0.213,\n",
              " 'revenuePerShare': 22.272,\n",
              " 'revenueQuarterlyGrowth': None,\n",
              " 'sector': 'Technology',\n",
              " 'sharesOutstanding': 7514890240,\n",
              " 'sharesPercentSharesOut': 0.0063,\n",
              " 'sharesShort': 47171313,\n",
              " 'sharesShortPreviousMonthDate': 1630368000,\n",
              " 'sharesShortPriorMonth': 45696881,\n",
              " 'shortName': 'Microsoft Corporation',\n",
              " 'shortPercentOfFloat': 0.0063,\n",
              " 'shortRatio': 1.99,\n",
              " 'startDate': None,\n",
              " 'state': 'WA',\n",
              " 'strikePrice': None,\n",
              " 'symbol': 'MSFT',\n",
              " 'targetHighPrice': 411,\n",
              " 'targetLowPrice': 280,\n",
              " 'targetMeanPrice': 336.28,\n",
              " 'targetMedianPrice': 338,\n",
              " 'threeYearAverageReturn': None,\n",
              " 'toCurrency': None,\n",
              " 'totalAssets': None,\n",
              " 'totalCash': 130256003072,\n",
              " 'totalCashPerShare': 17.333,\n",
              " 'totalDebt': 82277998592,\n",
              " 'totalRevenue': 168087994368,\n",
              " 'tradeable': False,\n",
              " 'trailingAnnualDividendRate': 2.24,\n",
              " 'trailingAnnualDividendYield': 0.0073988438,\n",
              " 'trailingEps': 8.05,\n",
              " 'trailingPE': 37.790062,\n",
              " 'twoHundredDayAverage': 273.61066,\n",
              " 'volume': 25384803,\n",
              " 'volume24Hr': None,\n",
              " 'volumeAllCurrencies': None,\n",
              " 'website': 'http://www.microsoft.com',\n",
              " 'yield': None,\n",
              " 'ytdReturn': None,\n",
              " 'zip': '98052-6399'}"
            ]
          },
          "metadata": {},
          "execution_count": 28
        }
      ]
    },
    {
      "cell_type": "code",
      "metadata": {
        "id": "zP_wmcVbQDQf"
      },
      "source": [
        "# get historical market data\n",
        "hist = msft.history(period=\"max\")"
      ],
      "execution_count": null,
      "outputs": []
    },
    {
      "cell_type": "code",
      "metadata": {
        "colab": {
          "base_uri": "https://localhost:8080/",
          "height": 447
        },
        "id": "FXR3vqFpQDSu",
        "outputId": "c06a68d2-568c-4700-de0c-453fc0bf4d4c"
      },
      "source": [
        "# show actions (dividends, splits)\n",
        "msft.actions"
      ],
      "execution_count": null,
      "outputs": [
        {
          "output_type": "execute_result",
          "data": {
            "text/html": [
              "<div>\n",
              "<style scoped>\n",
              "    .dataframe tbody tr th:only-of-type {\n",
              "        vertical-align: middle;\n",
              "    }\n",
              "\n",
              "    .dataframe tbody tr th {\n",
              "        vertical-align: top;\n",
              "    }\n",
              "\n",
              "    .dataframe thead th {\n",
              "        text-align: right;\n",
              "    }\n",
              "</style>\n",
              "<table border=\"1\" class=\"dataframe\">\n",
              "  <thead>\n",
              "    <tr style=\"text-align: right;\">\n",
              "      <th></th>\n",
              "      <th>Dividends</th>\n",
              "      <th>Stock Splits</th>\n",
              "    </tr>\n",
              "    <tr>\n",
              "      <th>Date</th>\n",
              "      <th></th>\n",
              "      <th></th>\n",
              "    </tr>\n",
              "  </thead>\n",
              "  <tbody>\n",
              "    <tr>\n",
              "      <th>1987-09-21</th>\n",
              "      <td>0.00</td>\n",
              "      <td>2.0</td>\n",
              "    </tr>\n",
              "    <tr>\n",
              "      <th>1990-04-16</th>\n",
              "      <td>0.00</td>\n",
              "      <td>2.0</td>\n",
              "    </tr>\n",
              "    <tr>\n",
              "      <th>1991-06-27</th>\n",
              "      <td>0.00</td>\n",
              "      <td>1.5</td>\n",
              "    </tr>\n",
              "    <tr>\n",
              "      <th>1992-06-15</th>\n",
              "      <td>0.00</td>\n",
              "      <td>1.5</td>\n",
              "    </tr>\n",
              "    <tr>\n",
              "      <th>1994-05-23</th>\n",
              "      <td>0.00</td>\n",
              "      <td>2.0</td>\n",
              "    </tr>\n",
              "    <tr>\n",
              "      <th>...</th>\n",
              "      <td>...</td>\n",
              "      <td>...</td>\n",
              "    </tr>\n",
              "    <tr>\n",
              "      <th>2020-08-19</th>\n",
              "      <td>0.51</td>\n",
              "      <td>0.0</td>\n",
              "    </tr>\n",
              "    <tr>\n",
              "      <th>2020-11-18</th>\n",
              "      <td>0.56</td>\n",
              "      <td>0.0</td>\n",
              "    </tr>\n",
              "    <tr>\n",
              "      <th>2021-02-17</th>\n",
              "      <td>0.56</td>\n",
              "      <td>0.0</td>\n",
              "    </tr>\n",
              "    <tr>\n",
              "      <th>2021-05-19</th>\n",
              "      <td>0.56</td>\n",
              "      <td>0.0</td>\n",
              "    </tr>\n",
              "    <tr>\n",
              "      <th>2021-08-18</th>\n",
              "      <td>0.56</td>\n",
              "      <td>0.0</td>\n",
              "    </tr>\n",
              "  </tbody>\n",
              "</table>\n",
              "<p>80 rows × 2 columns</p>\n",
              "</div>"
            ],
            "text/plain": [
              "            Dividends  Stock Splits\n",
              "Date                               \n",
              "1987-09-21       0.00           2.0\n",
              "1990-04-16       0.00           2.0\n",
              "1991-06-27       0.00           1.5\n",
              "1992-06-15       0.00           1.5\n",
              "1994-05-23       0.00           2.0\n",
              "...               ...           ...\n",
              "2020-08-19       0.51           0.0\n",
              "2020-11-18       0.56           0.0\n",
              "2021-02-17       0.56           0.0\n",
              "2021-05-19       0.56           0.0\n",
              "2021-08-18       0.56           0.0\n",
              "\n",
              "[80 rows x 2 columns]"
            ]
          },
          "metadata": {},
          "execution_count": 30
        }
      ]
    },
    {
      "cell_type": "code",
      "metadata": {
        "colab": {
          "base_uri": "https://localhost:8080/"
        },
        "id": "4YE2Wdw3QKTC",
        "outputId": "a45e4f87-c5f8-4c44-fc57-2845968823af"
      },
      "source": [
        "# show dividends\n",
        "msft.dividends"
      ],
      "execution_count": null,
      "outputs": [
        {
          "output_type": "execute_result",
          "data": {
            "text/plain": [
              "Date\n",
              "2003-02-19    0.08\n",
              "2003-10-15    0.16\n",
              "2004-08-23    0.08\n",
              "2004-11-15    3.08\n",
              "2005-02-15    0.08\n",
              "              ... \n",
              "2020-08-19    0.51\n",
              "2020-11-18    0.56\n",
              "2021-02-17    0.56\n",
              "2021-05-19    0.56\n",
              "2021-08-18    0.56\n",
              "Name: Dividends, Length: 71, dtype: float64"
            ]
          },
          "metadata": {},
          "execution_count": 31
        }
      ]
    },
    {
      "cell_type": "code",
      "metadata": {
        "colab": {
          "base_uri": "https://localhost:8080/"
        },
        "id": "0WH3SKTeQKY4",
        "outputId": "b0b9ecff-366e-4494-f28d-06adc9433745"
      },
      "source": [
        "# show splits\n",
        "msft.splits"
      ],
      "execution_count": null,
      "outputs": [
        {
          "output_type": "execute_result",
          "data": {
            "text/plain": [
              "Date\n",
              "1987-09-21    2.0\n",
              "1990-04-16    2.0\n",
              "1991-06-27    1.5\n",
              "1992-06-15    1.5\n",
              "1994-05-23    2.0\n",
              "1996-12-09    2.0\n",
              "1998-02-23    2.0\n",
              "1999-03-29    2.0\n",
              "2003-02-18    2.0\n",
              "Name: Stock Splits, dtype: float64"
            ]
          },
          "metadata": {},
          "execution_count": 32
        }
      ]
    },
    {
      "cell_type": "code",
      "metadata": {
        "colab": {
          "base_uri": "https://localhost:8080/",
          "height": 726
        },
        "id": "xl3rc7foQOAB",
        "outputId": "11c83593-45c4-43c7-806c-7d7389a05616"
      },
      "source": [
        "# show financials\n",
        "msft.financials\n",
        "msft.quarterly_financials"
      ],
      "execution_count": null,
      "outputs": [
        {
          "output_type": "execute_result",
          "data": {
            "text/html": [
              "<div>\n",
              "<style scoped>\n",
              "    .dataframe tbody tr th:only-of-type {\n",
              "        vertical-align: middle;\n",
              "    }\n",
              "\n",
              "    .dataframe tbody tr th {\n",
              "        vertical-align: top;\n",
              "    }\n",
              "\n",
              "    .dataframe thead th {\n",
              "        text-align: right;\n",
              "    }\n",
              "</style>\n",
              "<table border=\"1\" class=\"dataframe\">\n",
              "  <thead>\n",
              "    <tr style=\"text-align: right;\">\n",
              "      <th></th>\n",
              "      <th>2021-06-30</th>\n",
              "      <th>2021-03-31</th>\n",
              "      <th>2020-12-31</th>\n",
              "      <th>2020-09-30</th>\n",
              "    </tr>\n",
              "  </thead>\n",
              "  <tbody>\n",
              "    <tr>\n",
              "      <th>Research Development</th>\n",
              "      <td>5.687e+09</td>\n",
              "      <td>5.204e+09</td>\n",
              "      <td>4.899e+09</td>\n",
              "      <td>4.926e+09</td>\n",
              "    </tr>\n",
              "    <tr>\n",
              "      <th>Effect Of Accounting Charges</th>\n",
              "      <td>None</td>\n",
              "      <td>None</td>\n",
              "      <td>None</td>\n",
              "      <td>None</td>\n",
              "    </tr>\n",
              "    <tr>\n",
              "      <th>Income Before Tax</th>\n",
              "      <td>1.9405e+10</td>\n",
              "      <td>1.7236e+10</td>\n",
              "      <td>1.8337e+10</td>\n",
              "      <td>1.6124e+10</td>\n",
              "    </tr>\n",
              "    <tr>\n",
              "      <th>Minority Interest</th>\n",
              "      <td>None</td>\n",
              "      <td>None</td>\n",
              "      <td>None</td>\n",
              "      <td>None</td>\n",
              "    </tr>\n",
              "    <tr>\n",
              "      <th>Net Income</th>\n",
              "      <td>1.6458e+10</td>\n",
              "      <td>1.5457e+10</td>\n",
              "      <td>1.5463e+10</td>\n",
              "      <td>1.3893e+10</td>\n",
              "    </tr>\n",
              "    <tr>\n",
              "      <th>Selling General Administrative</th>\n",
              "      <td>7.379e+09</td>\n",
              "      <td>6.409e+09</td>\n",
              "      <td>6.086e+09</td>\n",
              "      <td>5.35e+09</td>\n",
              "    </tr>\n",
              "    <tr>\n",
              "      <th>Gross Profit</th>\n",
              "      <td>3.2161e+10</td>\n",
              "      <td>2.8661e+10</td>\n",
              "      <td>2.8882e+10</td>\n",
              "      <td>2.6152e+10</td>\n",
              "    </tr>\n",
              "    <tr>\n",
              "      <th>Ebit</th>\n",
              "      <td>1.9095e+10</td>\n",
              "      <td>1.7048e+10</td>\n",
              "      <td>1.7897e+10</td>\n",
              "      <td>1.5876e+10</td>\n",
              "    </tr>\n",
              "    <tr>\n",
              "      <th>Operating Income</th>\n",
              "      <td>1.9095e+10</td>\n",
              "      <td>1.7048e+10</td>\n",
              "      <td>1.7897e+10</td>\n",
              "      <td>1.5876e+10</td>\n",
              "    </tr>\n",
              "    <tr>\n",
              "      <th>Other Operating Expenses</th>\n",
              "      <td>None</td>\n",
              "      <td>None</td>\n",
              "      <td>None</td>\n",
              "      <td>None</td>\n",
              "    </tr>\n",
              "    <tr>\n",
              "      <th>Interest Expense</th>\n",
              "      <td>-5.49e+08</td>\n",
              "      <td>-6.28e+08</td>\n",
              "      <td>-5.68e+08</td>\n",
              "      <td>-5.85e+08</td>\n",
              "    </tr>\n",
              "    <tr>\n",
              "      <th>Extraordinary Items</th>\n",
              "      <td>None</td>\n",
              "      <td>None</td>\n",
              "      <td>None</td>\n",
              "      <td>None</td>\n",
              "    </tr>\n",
              "    <tr>\n",
              "      <th>Non Recurring</th>\n",
              "      <td>None</td>\n",
              "      <td>None</td>\n",
              "      <td>None</td>\n",
              "      <td>None</td>\n",
              "    </tr>\n",
              "    <tr>\n",
              "      <th>Other Items</th>\n",
              "      <td>None</td>\n",
              "      <td>None</td>\n",
              "      <td>None</td>\n",
              "      <td>None</td>\n",
              "    </tr>\n",
              "    <tr>\n",
              "      <th>Income Tax Expense</th>\n",
              "      <td>2.947e+09</td>\n",
              "      <td>1.779e+09</td>\n",
              "      <td>2.874e+09</td>\n",
              "      <td>2.231e+09</td>\n",
              "    </tr>\n",
              "    <tr>\n",
              "      <th>Total Revenue</th>\n",
              "      <td>4.6152e+10</td>\n",
              "      <td>4.1706e+10</td>\n",
              "      <td>4.3076e+10</td>\n",
              "      <td>3.7154e+10</td>\n",
              "    </tr>\n",
              "    <tr>\n",
              "      <th>Total Operating Expenses</th>\n",
              "      <td>2.7057e+10</td>\n",
              "      <td>2.4658e+10</td>\n",
              "      <td>2.5179e+10</td>\n",
              "      <td>2.1278e+10</td>\n",
              "    </tr>\n",
              "    <tr>\n",
              "      <th>Cost Of Revenue</th>\n",
              "      <td>1.3991e+10</td>\n",
              "      <td>1.3045e+10</td>\n",
              "      <td>1.4194e+10</td>\n",
              "      <td>1.1002e+10</td>\n",
              "    </tr>\n",
              "    <tr>\n",
              "      <th>Total Other Income Expense Net</th>\n",
              "      <td>3.1e+08</td>\n",
              "      <td>1.88e+08</td>\n",
              "      <td>4.4e+08</td>\n",
              "      <td>2.48e+08</td>\n",
              "    </tr>\n",
              "    <tr>\n",
              "      <th>Discontinued Operations</th>\n",
              "      <td>None</td>\n",
              "      <td>None</td>\n",
              "      <td>None</td>\n",
              "      <td>None</td>\n",
              "    </tr>\n",
              "    <tr>\n",
              "      <th>Net Income From Continuing Ops</th>\n",
              "      <td>1.6458e+10</td>\n",
              "      <td>1.5457e+10</td>\n",
              "      <td>1.5463e+10</td>\n",
              "      <td>1.3893e+10</td>\n",
              "    </tr>\n",
              "    <tr>\n",
              "      <th>Net Income Applicable To Common Shares</th>\n",
              "      <td>1.6458e+10</td>\n",
              "      <td>1.5457e+10</td>\n",
              "      <td>1.5463e+10</td>\n",
              "      <td>1.3893e+10</td>\n",
              "    </tr>\n",
              "  </tbody>\n",
              "</table>\n",
              "</div>"
            ],
            "text/plain": [
              "                                        2021-06-30  ...  2020-09-30\n",
              "Research Development                     5.687e+09  ...   4.926e+09\n",
              "Effect Of Accounting Charges                  None  ...        None\n",
              "Income Before Tax                       1.9405e+10  ...  1.6124e+10\n",
              "Minority Interest                             None  ...        None\n",
              "Net Income                              1.6458e+10  ...  1.3893e+10\n",
              "Selling General Administrative           7.379e+09  ...    5.35e+09\n",
              "Gross Profit                            3.2161e+10  ...  2.6152e+10\n",
              "Ebit                                    1.9095e+10  ...  1.5876e+10\n",
              "Operating Income                        1.9095e+10  ...  1.5876e+10\n",
              "Other Operating Expenses                      None  ...        None\n",
              "Interest Expense                         -5.49e+08  ...   -5.85e+08\n",
              "Extraordinary Items                           None  ...        None\n",
              "Non Recurring                                 None  ...        None\n",
              "Other Items                                   None  ...        None\n",
              "Income Tax Expense                       2.947e+09  ...   2.231e+09\n",
              "Total Revenue                           4.6152e+10  ...  3.7154e+10\n",
              "Total Operating Expenses                2.7057e+10  ...  2.1278e+10\n",
              "Cost Of Revenue                         1.3991e+10  ...  1.1002e+10\n",
              "Total Other Income Expense Net             3.1e+08  ...    2.48e+08\n",
              "Discontinued Operations                       None  ...        None\n",
              "Net Income From Continuing Ops          1.6458e+10  ...  1.3893e+10\n",
              "Net Income Applicable To Common Shares  1.6458e+10  ...  1.3893e+10\n",
              "\n",
              "[22 rows x 4 columns]"
            ]
          },
          "metadata": {},
          "execution_count": 33
        }
      ]
    },
    {
      "cell_type": "code",
      "metadata": {
        "id": "-Ircbn1eQOC7"
      },
      "source": [
        ""
      ],
      "execution_count": null,
      "outputs": []
    }
  ]
}